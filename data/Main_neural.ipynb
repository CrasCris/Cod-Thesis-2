{
 "cells": [
  {
   "cell_type": "code",
   "execution_count": 1,
   "id": "f66f53ac",
   "metadata": {},
   "outputs": [],
   "source": [
    "import random\n",
    "import pandas as pd\n",
    "import numpy as np\n",
    "from Time_MoE.time_moe.datasets.time_moe_dataset import TimeMoEDataset\n",
    "\n",
    "# Importing custom functions\n",
    "import sys\n",
    "import os\n",
    "root_path = os.path.abspath(os.path.join(os.getcwd(), '..'))\n",
    "sys.path.append(root_path)\n",
    "\n",
    "from baseline.functions import load_data,create_intervals,create_windows,smape,smape_chunked,sample_fraction\n",
    "from sklearn.metrics import mean_absolute_error, mean_squared_error\n",
    "from sklearn.model_selection import train_test_split\n",
    "from sklearn.preprocessing import MinMaxScaler\n",
    "from sklearn.preprocessing import StandardScaler , RobustScaler\n",
    "from matplotlib.ticker import MaxNLocator\n",
    "import torch\n",
    "import torch.nn as nn\n",
    "import torch.optim as optim\n",
    "from torchdiffeq import odeint\n",
    "import numpy as np\n",
    "import pandas as pd\n",
    "from sklearn.preprocessing import RobustScaler\n",
    "from sklearn.metrics import mean_absolute_error, mean_squared_error\n",
    "import matplotlib.pyplot as plt\n",
    "import os\n",
    "\n",
    "\n",
    "def load_data_clean():\n",
    "    ds = TimeMoEDataset('Time-300B\\healthcare',normalization_method='zero')\n",
    "\n",
    "    verbose = True\n",
    "    total = len(ds)\n",
    "    valid_indices = []\n",
    "    # Iterar y filtrar\n",
    "    for i in range(total):\n",
    "        try:\n",
    "            seq = ds[i]  # seq es numpy.ndarray según comprobaste\n",
    "        except Exception as e:\n",
    "            # Si hay error al obtener la secuencia, lo avisamos y saltamos\n",
    "            if verbose:\n",
    "                print(f\"Advertencia: no se pudo obtener ds[{i}]: {e}\")\n",
    "            continue\n",
    "        \n",
    "        # Comprobación: si todos los valores son NaN, lo descartamos\n",
    "        # seq es numpy.ndarray; cuidado si dims especiales, pero np.isnan funcionará elementwise.\n",
    "        try:\n",
    "            if not np.all(np.isnan(seq)):\n",
    "                valid_indices.append(i)\n",
    "        except Exception as e:\n",
    "            # En caso de que seq no sea array puro, convertir primero:\n",
    "            try:\n",
    "                arr = np.array(seq)\n",
    "                if not np.all(np.isnan(arr)):\n",
    "                    valid_indices.append(i)\n",
    "            except Exception as e2:\n",
    "                if verbose:\n",
    "                    print(f\"Error al verificar NaN en secuencia índice {i}: {e2}\")\n",
    "                # Decidir si incluirla o no. Aquí optamos por descartarla:\n",
    "                continue\n",
    "    \n",
    "    valid_count = len(valid_indices)\n",
    "    if verbose:\n",
    "        print(f\"Secuencias totales en ds: {total}\")\n",
    "        print(f\"Secuencias válidas (no todo NaN): {valid_count}\")\n",
    "        print(f\"Secuencias descartadas: {total - valid_count}\")\n",
    "        sequences_validas = []\n",
    "\n",
    "    for idx in valid_indices:\n",
    "        try:\n",
    "            sequences_validas.append(ds[idx])\n",
    "        except Exception as e:\n",
    "            if verbose:\n",
    "                print(f\"Error al extraer ds[{idx}] después de filtrar: {e}\")\n",
    "            # Podrías decidir saltar o detener. Aquí solo saltamos.\n",
    "    return sequences_validas\n",
    "\n",
    "def create_windows_from_sequences(sequences, window_size=15, horizon=1):\n",
    "    \"\"\"\n",
    "    Dada una lista de secuencias (numpy arrays 1D), crea ventanas deslizantes:\n",
    "    - X: array de shape (num_samples, window_size, 1)\n",
    "    - y: array de shape (num_samples,)\n",
    "    Cada muestra usa window_size pasos para predecir el siguiente valor (horizon=1).\n",
    "    \"\"\"\n",
    "    X_list = []\n",
    "    y_list = []\n",
    "    for seq in sequences:\n",
    "        # Asegurar numpy array\n",
    "        arr = np.array(seq).astype(float)\n",
    "        T = arr.shape[0]\n",
    "        # Solo si la longitud es mayor que window_size + horizon - 1\n",
    "        if T >= window_size + horizon:\n",
    "            for start in range(0, T - window_size - horizon + 1):\n",
    "                window = arr[start:start+window_size]\n",
    "                target = arr[start+window_size:start+window_size+horizon]\n",
    "                # Para horizon=1, target es un array de longitud 1; tomamos el escalar\n",
    "                X_list.append(window.reshape(window_size, 1))\n",
    "                y_list.append(target[0] if horizon == 1 else target)\n",
    "    if len(X_list) == 0:\n",
    "        return np.empty((0, window_size, 1)), np.empty((0,))\n",
    "    X = np.stack(X_list, axis=0)\n",
    "    y = np.array(y_list)\n",
    "\n",
    "    # Supongamos X tiene forma (N, window_size, 1), y y forma (N,)\n",
    "    mask_valid = ~np.isnan(X).any(axis=(1,2)) & ~np.isnan(y)\n",
    "    # Mantener solo muestras sin NaN:\n",
    "    X_clean = X[mask_valid]\n",
    "    y_clean = y[mask_valid]\n",
    "    print(\"De\", X.shape[0], \"muestras, quedan\", X_clean.shape[0], \"sin NaN\")\n",
    "\n",
    "    return X_clean, y_clean"
   ]
  },
  {
   "cell_type": "code",
   "execution_count": 2,
   "id": "a51bb61c",
   "metadata": {},
   "outputs": [
    {
     "name": "stdout",
     "output_type": "stream",
     "text": [
      "Secuencias totales en ds: 1752\n",
      "Secuencias válidas (no todo NaN): 1752\n",
      "Secuencias descartadas: 0\n",
      "De 433317 muestras, quedan 433317 sin NaN\n"
     ]
    }
   ],
   "source": [
    "ds = load_data_clean()\n",
    "X, y = create_windows_from_sequences(ds, window_size=15, horizon=1)"
   ]
  },
  {
   "cell_type": "markdown",
   "id": "17105ab1",
   "metadata": {},
   "source": [
    "### Neural - 100 %"
   ]
  },
  {
   "cell_type": "code",
   "execution_count": 10,
   "id": "33d8840a",
   "metadata": {},
   "outputs": [],
   "source": [
    "X_train, X_test, y_train, y_test = train_test_split(X, y, test_size=0.2, shuffle=True, random_state=42)"
   ]
  },
  {
   "cell_type": "code",
   "execution_count": 3,
   "id": "2dfbda97",
   "metadata": {},
   "outputs": [
    {
     "name": "stdout",
     "output_type": "stream",
     "text": [
      "Using device: cuda\n"
     ]
    }
   ],
   "source": [
    "# Neural ODE Model\n",
    "class ODEFunc(nn.Module):\n",
    "    def __init__(self):\n",
    "        super().__init__()\n",
    "        self.net = nn.Sequential(\n",
    "            nn.Linear(1, 50),\n",
    "            nn.Tanh(),\n",
    "            nn.Linear(50, 1)\n",
    "        )\n",
    "\n",
    "    def forward(self, t, x):\n",
    "        return self.net(x)\n",
    "\n",
    "class NeuralODEModel(nn.Module):\n",
    "    def __init__(self):\n",
    "        super().__init__()\n",
    "        self.odefunc = ODEFunc()\n",
    "    \n",
    "    def forward(self, x):\n",
    "        # x: [batch_size, seq_len, features]\n",
    "        device = x.device\n",
    "        seq_len = x.shape[1]\n",
    "        # Crear t en el dispositivo correcto\n",
    "        t = torch.linspace(0, 1, seq_len, device=device)\n",
    "        # Estado inicial para cada muestra: último valor de la secuencia\n",
    "        # Si features=1, x[:, -1, :] es [batch_size, 1]\n",
    "        y0 = x[:, -1, :]\n",
    "        # Integrar en batch: devuelve [len(t), batch_size, features]\n",
    "        out = odeint(self.odefunc, y0, t, method='rk4')\n",
    "        # Tomar el valor final en t=1 para cada muestra\n",
    "        y_final = out[-1]\n",
    "        return y_final  # forma [batch_size, features]\n",
    "\n",
    "device = torch.device(\"cuda\" if torch.cuda.is_available() else \"cpu\")\n",
    "print(f\"Using device: {device}\")"
   ]
  },
  {
   "cell_type": "code",
   "execution_count": 4,
   "id": "581d6296",
   "metadata": {},
   "outputs": [],
   "source": [
    "import torch\n",
    "import torch.nn as nn\n",
    "import torch.optim as optim\n",
    "from sklearn.metrics import mean_absolute_error, mean_squared_error\n",
    "import numpy as np\n",
    "\n",
    "# Usa DataLoader para evitar cargar todo en la GPU al mismo tiempo\n",
    "def train_model(model, X_train, y_train, X_test, y_test, batch_size=64, epochs=20):\n",
    "    device = torch.device(\"cuda\" if torch.cuda.is_available() else \"cpu\")\n",
    "    \n",
    "    train_dataset = torch.utils.data.TensorDataset(\n",
    "        torch.tensor(X_train, dtype=torch.float32),\n",
    "        torch.tensor(y_train, dtype=torch.float32)\n",
    "    )\n",
    "    train_loader = torch.utils.data.DataLoader(train_dataset, batch_size=batch_size, shuffle=True)\n",
    "\n",
    "    model = model.to(device)\n",
    "    criterion = nn.MSELoss()\n",
    "    optimizer = optim.Adam(model.parameters(), lr=0.001)\n",
    "\n",
    "    loss_vals = []\n",
    "    for epoch in range(epochs):\n",
    "        model.train()\n",
    "        epoch_loss = 0.0\n",
    "        for xb, yb in train_loader:\n",
    "            xb, yb = xb.to(device), yb.to(device)\n",
    "            optimizer.zero_grad()\n",
    "            output = model(xb)\n",
    "            loss = criterion(output, yb)\n",
    "            loss.backward()\n",
    "            optimizer.step()\n",
    "            epoch_loss += loss.item() * xb.size(0)\n",
    "        epoch_loss /= len(train_loader.dataset)\n",
    "        loss_vals.append(epoch_loss)\n",
    "        print(f\"Epoch {epoch+1}/{epochs}, Loss: {epoch_loss:.4f}\")\n",
    "\n",
    "    best_epoch = int(np.argmin(loss_vals)) + 1\n",
    "    best_loss = loss_vals[best_epoch - 1]\n",
    "    print(f\"Mejor época = {best_epoch}, Loss = {best_loss:.4f}\")\n",
    "\n",
    "    # Evaluación\n",
    "    model.eval()\n",
    "    with torch.no_grad():\n",
    "        X_test_tensor = torch.tensor(X_test, dtype=torch.float32).to(device)\n",
    "        y_test_tensor = torch.tensor(y_test, dtype=torch.float32).to(device)\n",
    "        y_pred = model(X_test_tensor).cpu().numpy()\n",
    "\n",
    "    y_test_inv = y_test_tensor.cpu().numpy().reshape(-1, 1)\n",
    "    mae = mean_absolute_error(y_test_inv, y_pred)\n",
    "    mse = mean_squared_error(y_test_inv, y_pred)\n",
    "    smape_value = smape(y_test_inv, y_pred)\n",
    "    print(f\"MAE: {mae:.4f}, MSE: {mse:.4f}, sMAPE: {smape_value:.4f}\")\n",
    "\n",
    "    return model, loss_vals"
   ]
  },
  {
   "cell_type": "code",
   "execution_count": 11,
   "id": "2b4905fe",
   "metadata": {},
   "outputs": [
    {
     "name": "stderr",
     "output_type": "stream",
     "text": [
      "c:\\Users\\criju\\.conda\\envs\\cuda\\lib\\site-packages\\torch\\nn\\modules\\loss.py:535: UserWarning: Using a target size (torch.Size([64])) that is different to the input size (torch.Size([64, 1])). This will likely lead to incorrect results due to broadcasting. Please ensure they have the same size.\n",
      "  return F.mse_loss(input, target, reduction=self.reduction)\n",
      "c:\\Users\\criju\\.conda\\envs\\cuda\\lib\\site-packages\\torch\\nn\\modules\\loss.py:535: UserWarning: Using a target size (torch.Size([29])) that is different to the input size (torch.Size([29, 1])). This will likely lead to incorrect results due to broadcasting. Please ensure they have the same size.\n",
      "  return F.mse_loss(input, target, reduction=self.reduction)\n"
     ]
    },
    {
     "name": "stdout",
     "output_type": "stream",
     "text": [
      "Epoch 1/20, Loss: 1.0156\n",
      "Epoch 2/20, Loss: 1.0037\n",
      "Epoch 3/20, Loss: 1.0035\n",
      "Epoch 4/20, Loss: 1.0034\n",
      "Epoch 5/20, Loss: 1.0035\n",
      "Epoch 6/20, Loss: 1.0034\n",
      "Epoch 7/20, Loss: 1.0034\n"
     ]
    },
    {
     "ename": "KeyboardInterrupt",
     "evalue": "",
     "output_type": "error",
     "traceback": [
      "\u001b[1;31m---------------------------------------------------------------------------\u001b[0m",
      "\u001b[1;31mKeyboardInterrupt\u001b[0m                         Traceback (most recent call last)",
      "Cell \u001b[1;32mIn[11], line 2\u001b[0m\n\u001b[0;32m      1\u001b[0m model \u001b[38;5;241m=\u001b[39m NeuralODEModel()\n\u001b[1;32m----> 2\u001b[0m trained_model, loss_vals \u001b[38;5;241m=\u001b[39m \u001b[43mtrain_model\u001b[49m\u001b[43m(\u001b[49m\u001b[43mmodel\u001b[49m\u001b[43m,\u001b[49m\u001b[43m \u001b[49m\u001b[43mX_train\u001b[49m\u001b[43m,\u001b[49m\u001b[43m \u001b[49m\u001b[43my_train\u001b[49m\u001b[43m,\u001b[49m\u001b[43m \u001b[49m\u001b[43mX_test\u001b[49m\u001b[43m,\u001b[49m\u001b[43m \u001b[49m\u001b[43my_test\u001b[49m\u001b[43m)\u001b[49m\n",
      "Cell \u001b[1;32mIn[8], line 30\u001b[0m, in \u001b[0;36mtrain_model\u001b[1;34m(model, X_train, y_train, X_test, y_test, batch_size, epochs)\u001b[0m\n\u001b[0;32m     28\u001b[0m output \u001b[38;5;241m=\u001b[39m model(xb)\n\u001b[0;32m     29\u001b[0m loss \u001b[38;5;241m=\u001b[39m criterion(output, yb)\n\u001b[1;32m---> 30\u001b[0m \u001b[43mloss\u001b[49m\u001b[38;5;241;43m.\u001b[39;49m\u001b[43mbackward\u001b[49m\u001b[43m(\u001b[49m\u001b[43m)\u001b[49m\n\u001b[0;32m     31\u001b[0m optimizer\u001b[38;5;241m.\u001b[39mstep()\n\u001b[0;32m     32\u001b[0m epoch_loss \u001b[38;5;241m+\u001b[39m\u001b[38;5;241m=\u001b[39m loss\u001b[38;5;241m.\u001b[39mitem() \u001b[38;5;241m*\u001b[39m xb\u001b[38;5;241m.\u001b[39msize(\u001b[38;5;241m0\u001b[39m)\n",
      "File \u001b[1;32mc:\\Users\\criju\\.conda\\envs\\cuda\\lib\\site-packages\\torch\\_tensor.py:522\u001b[0m, in \u001b[0;36mTensor.backward\u001b[1;34m(self, gradient, retain_graph, create_graph, inputs)\u001b[0m\n\u001b[0;32m    512\u001b[0m \u001b[38;5;28;01mif\u001b[39;00m has_torch_function_unary(\u001b[38;5;28mself\u001b[39m):\n\u001b[0;32m    513\u001b[0m     \u001b[38;5;28;01mreturn\u001b[39;00m handle_torch_function(\n\u001b[0;32m    514\u001b[0m         Tensor\u001b[38;5;241m.\u001b[39mbackward,\n\u001b[0;32m    515\u001b[0m         (\u001b[38;5;28mself\u001b[39m,),\n\u001b[1;32m   (...)\u001b[0m\n\u001b[0;32m    520\u001b[0m         inputs\u001b[38;5;241m=\u001b[39minputs,\n\u001b[0;32m    521\u001b[0m     )\n\u001b[1;32m--> 522\u001b[0m \u001b[43mtorch\u001b[49m\u001b[38;5;241;43m.\u001b[39;49m\u001b[43mautograd\u001b[49m\u001b[38;5;241;43m.\u001b[39;49m\u001b[43mbackward\u001b[49m\u001b[43m(\u001b[49m\n\u001b[0;32m    523\u001b[0m \u001b[43m    \u001b[49m\u001b[38;5;28;43mself\u001b[39;49m\u001b[43m,\u001b[49m\u001b[43m \u001b[49m\u001b[43mgradient\u001b[49m\u001b[43m,\u001b[49m\u001b[43m \u001b[49m\u001b[43mretain_graph\u001b[49m\u001b[43m,\u001b[49m\u001b[43m \u001b[49m\u001b[43mcreate_graph\u001b[49m\u001b[43m,\u001b[49m\u001b[43m \u001b[49m\u001b[43minputs\u001b[49m\u001b[38;5;241;43m=\u001b[39;49m\u001b[43minputs\u001b[49m\n\u001b[0;32m    524\u001b[0m \u001b[43m\u001b[49m\u001b[43m)\u001b[49m\n",
      "File \u001b[1;32mc:\\Users\\criju\\.conda\\envs\\cuda\\lib\\site-packages\\torch\\autograd\\__init__.py:266\u001b[0m, in \u001b[0;36mbackward\u001b[1;34m(tensors, grad_tensors, retain_graph, create_graph, grad_variables, inputs)\u001b[0m\n\u001b[0;32m    261\u001b[0m     retain_graph \u001b[38;5;241m=\u001b[39m create_graph\n\u001b[0;32m    263\u001b[0m \u001b[38;5;66;03m# The reason we repeat the same comment below is that\u001b[39;00m\n\u001b[0;32m    264\u001b[0m \u001b[38;5;66;03m# some Python versions print out the first line of a multi-line function\u001b[39;00m\n\u001b[0;32m    265\u001b[0m \u001b[38;5;66;03m# calls in the traceback and some print out the last line\u001b[39;00m\n\u001b[1;32m--> 266\u001b[0m \u001b[43mVariable\u001b[49m\u001b[38;5;241;43m.\u001b[39;49m\u001b[43m_execution_engine\u001b[49m\u001b[38;5;241;43m.\u001b[39;49m\u001b[43mrun_backward\u001b[49m\u001b[43m(\u001b[49m\u001b[43m  \u001b[49m\u001b[38;5;66;43;03m# Calls into the C++ engine to run the backward pass\u001b[39;49;00m\n\u001b[0;32m    267\u001b[0m \u001b[43m    \u001b[49m\u001b[43mtensors\u001b[49m\u001b[43m,\u001b[49m\n\u001b[0;32m    268\u001b[0m \u001b[43m    \u001b[49m\u001b[43mgrad_tensors_\u001b[49m\u001b[43m,\u001b[49m\n\u001b[0;32m    269\u001b[0m \u001b[43m    \u001b[49m\u001b[43mretain_graph\u001b[49m\u001b[43m,\u001b[49m\n\u001b[0;32m    270\u001b[0m \u001b[43m    \u001b[49m\u001b[43mcreate_graph\u001b[49m\u001b[43m,\u001b[49m\n\u001b[0;32m    271\u001b[0m \u001b[43m    \u001b[49m\u001b[43minputs\u001b[49m\u001b[43m,\u001b[49m\n\u001b[0;32m    272\u001b[0m \u001b[43m    \u001b[49m\u001b[43mallow_unreachable\u001b[49m\u001b[38;5;241;43m=\u001b[39;49m\u001b[38;5;28;43;01mTrue\u001b[39;49;00m\u001b[43m,\u001b[49m\n\u001b[0;32m    273\u001b[0m \u001b[43m    \u001b[49m\u001b[43maccumulate_grad\u001b[49m\u001b[38;5;241;43m=\u001b[39;49m\u001b[38;5;28;43;01mTrue\u001b[39;49;00m\u001b[43m,\u001b[49m\n\u001b[0;32m    274\u001b[0m \u001b[43m\u001b[49m\u001b[43m)\u001b[49m\n",
      "\u001b[1;31mKeyboardInterrupt\u001b[0m: "
     ]
    }
   ],
   "source": [
    "model = NeuralODEModel()\n",
    "trained_model, loss_vals = train_model(model, X_train, y_train, X_test, y_test)"
   ]
  },
  {
   "cell_type": "code",
   "execution_count": 16,
   "id": "c9ade061",
   "metadata": {},
   "outputs": [],
   "source": [
    "# Supongamos que tu modelo ya ha sido entrenado\n",
    "torch.save(model.state_dict(), \"Models_neural/modelo_100.pth\")"
   ]
  },
  {
   "cell_type": "markdown",
   "id": "c7f34051",
   "metadata": {},
   "source": [
    "### Neural - 10 %"
   ]
  },
  {
   "cell_type": "code",
   "execution_count": 17,
   "id": "def08a71",
   "metadata": {},
   "outputs": [],
   "source": [
    "# function to take only a percentage of the data\n",
    "X_10, y_10 = sample_fraction(X, y, 0.10, random_state=42)\n",
    "X_train, X_val, y_train, y_val = train_test_split(X_10, y_10, test_size=0.2, shuffle=True, random_state=42)"
   ]
  },
  {
   "cell_type": "code",
   "execution_count": 18,
   "id": "536461f2",
   "metadata": {},
   "outputs": [
    {
     "name": "stderr",
     "output_type": "stream",
     "text": [
      "c:\\Users\\criju\\.conda\\envs\\cuda\\lib\\site-packages\\torch\\nn\\modules\\loss.py:535: UserWarning: Using a target size (torch.Size([64])) that is different to the input size (torch.Size([64, 1])). This will likely lead to incorrect results due to broadcasting. Please ensure they have the same size.\n",
      "  return F.mse_loss(input, target, reduction=self.reduction)\n",
      "c:\\Users\\criju\\.conda\\envs\\cuda\\lib\\site-packages\\torch\\nn\\modules\\loss.py:535: UserWarning: Using a target size (torch.Size([40])) that is different to the input size (torch.Size([40, 1])). This will likely lead to incorrect results due to broadcasting. Please ensure they have the same size.\n",
      "  return F.mse_loss(input, target, reduction=self.reduction)\n"
     ]
    },
    {
     "name": "stdout",
     "output_type": "stream",
     "text": [
      "Epoch 1/20, Loss: 1.1121\n",
      "Epoch 2/20, Loss: 0.9849\n",
      "Epoch 3/20, Loss: 0.9803\n",
      "Epoch 4/20, Loss: 0.9787\n",
      "Epoch 5/20, Loss: 0.9782\n",
      "Epoch 6/20, Loss: 0.9779\n",
      "Epoch 7/20, Loss: 0.9773\n",
      "Epoch 8/20, Loss: 0.9775\n",
      "Epoch 9/20, Loss: 0.9772\n",
      "Epoch 10/20, Loss: 0.9771\n",
      "Epoch 11/20, Loss: 0.9770\n",
      "Epoch 12/20, Loss: 0.9771\n",
      "Epoch 13/20, Loss: 0.9771\n",
      "Epoch 14/20, Loss: 0.9770\n",
      "Epoch 15/20, Loss: 0.9767\n",
      "Epoch 16/20, Loss: 0.9767\n",
      "Epoch 17/20, Loss: 0.9768\n",
      "Epoch 18/20, Loss: 0.9768\n",
      "Epoch 19/20, Loss: 0.9767\n",
      "Epoch 20/20, Loss: 0.9767\n",
      "Mejor época = 15, Loss = 0.9767\n",
      "MAE: 0.7131, MSE: 0.9639, sMAPE: 97.2977\n"
     ]
    }
   ],
   "source": [
    "model = NeuralODEModel()\n",
    "trained_model, loss_vals = train_model(model, X_train, y_train, X_val, y_val)"
   ]
  },
  {
   "cell_type": "code",
   "execution_count": 19,
   "id": "c2eef7a9",
   "metadata": {},
   "outputs": [],
   "source": [
    "# Supongamos que tu modelo ya ha sido entrenado\n",
    "torch.save(model.state_dict(), \"Models_neural/modelo_10.pth\")"
   ]
  },
  {
   "cell_type": "markdown",
   "id": "022c52b4",
   "metadata": {},
   "source": [
    "### Neural - 3 %"
   ]
  },
  {
   "cell_type": "code",
   "execution_count": 5,
   "id": "338c2e35",
   "metadata": {},
   "outputs": [],
   "source": [
    "# function to take only a percentage of the data\n",
    "X_3, y_3 = sample_fraction(X, y, 0.03, random_state=42)\n",
    "X_train, X_val, y_train, y_val = train_test_split(X_3, y_3, test_size=0.2, shuffle=True, random_state=42)"
   ]
  },
  {
   "cell_type": "code",
   "execution_count": 6,
   "id": "052496a1",
   "metadata": {},
   "outputs": [
    {
     "name": "stderr",
     "output_type": "stream",
     "text": [
      "The cache for model files in Transformers v4.22.0 has been updated. Migrating your old cache. This is a one-time only operation. You can interrupt this and resume the migration later on by calling `transformers.utils.move_cache()`.\n"
     ]
    },
    {
     "data": {
      "application/vnd.jupyter.widget-view+json": {
       "model_id": "f6e1fd5859b84f0c839a417e0a3c85fa",
       "version_major": 2,
       "version_minor": 0
      },
      "text/plain": [
       "0it [00:00, ?it/s]"
      ]
     },
     "metadata": {},
     "output_type": "display_data"
    },
    {
     "name": "stderr",
     "output_type": "stream",
     "text": [
      "c:\\Users\\criju\\.conda\\envs\\cuda\\lib\\site-packages\\torch\\nn\\modules\\loss.py:535: UserWarning: Using a target size (torch.Size([64])) that is different to the input size (torch.Size([64, 1])). This will likely lead to incorrect results due to broadcasting. Please ensure they have the same size.\n",
      "  return F.mse_loss(input, target, reduction=self.reduction)\n",
      "c:\\Users\\criju\\.conda\\envs\\cuda\\lib\\site-packages\\torch\\nn\\modules\\loss.py:535: UserWarning: Using a target size (torch.Size([31])) that is different to the input size (torch.Size([31, 1])). This will likely lead to incorrect results due to broadcasting. Please ensure they have the same size.\n",
      "  return F.mse_loss(input, target, reduction=self.reduction)\n"
     ]
    },
    {
     "name": "stdout",
     "output_type": "stream",
     "text": [
      "Epoch 1/20, Loss: 1.3428\n",
      "Epoch 2/20, Loss: 1.0278\n",
      "Epoch 3/20, Loss: 0.9995\n",
      "Epoch 4/20, Loss: 0.9894\n",
      "Epoch 5/20, Loss: 0.9855\n",
      "Epoch 6/20, Loss: 0.9827\n",
      "Epoch 7/20, Loss: 0.9812\n",
      "Epoch 8/20, Loss: 0.9795\n",
      "Epoch 9/20, Loss: 0.9788\n",
      "Epoch 10/20, Loss: 0.9785\n",
      "Epoch 11/20, Loss: 0.9778\n",
      "Epoch 12/20, Loss: 0.9780\n",
      "Epoch 13/20, Loss: 0.9772\n",
      "Epoch 14/20, Loss: 0.9774\n",
      "Epoch 15/20, Loss: 0.9766\n",
      "Epoch 16/20, Loss: 0.9764\n",
      "Epoch 17/20, Loss: 0.9761\n",
      "Epoch 18/20, Loss: 0.9767\n",
      "Epoch 19/20, Loss: 0.9760\n",
      "Epoch 20/20, Loss: 0.9763\n",
      "Mejor época = 19, Loss = 0.9760\n",
      "MAE: 0.7116, MSE: 0.9600, sMAPE: 98.7690\n"
     ]
    }
   ],
   "source": [
    "model = NeuralODEModel()\n",
    "trained_model, loss_vals = train_model(model, X_train, y_train, X_val, y_val)\n",
    "torch.save(model.state_dict(), \"Models_neural/modelo_3.pth\")"
   ]
  },
  {
   "cell_type": "markdown",
   "id": "f2c87edf",
   "metadata": {},
   "source": [
    "# Neural Destilado"
   ]
  },
  {
   "cell_type": "code",
   "execution_count": 4,
   "id": "fd19ad67",
   "metadata": {},
   "outputs": [],
   "source": [
    "# function to take only a percentage of the data\n",
    "import torch\n",
    "import torch.nn as nn\n",
    "import torch.optim as optim\n",
    "import numpy as np\n",
    "from torch.utils.data import TensorDataset, DataLoader\n",
    "\n",
    "\n",
    "X_3, y_3 = sample_fraction(X, y, 0.03, random_state=42)\n",
    "X_train, X_val, y_train, y_val = train_test_split(X_3, y_3, test_size=0.2, shuffle=True, random_state=42)"
   ]
  },
  {
   "cell_type": "code",
   "execution_count": null,
   "id": "5bea34f4",
   "metadata": {},
   "outputs": [],
   "source": [
    "# Load teacher predictions\n",
    "import csv\n",
    "\n",
    "# Leer validación\n",
    "r_t_val = []\n",
    "with open('teacher_results/val_teacher.csv', newline='') as archivo:\n",
    "    lector = csv.reader(archivo)\n",
    "    for fila in lector:\n",
    "        # Si tus datos eran numéricos, conviértelos, por ejemplo, a float:\n",
    "        fila_convertida = [float(x) for x in fila]\n",
    "        r_t_val.append(fila_convertida)\n",
    "\n",
    "# Leer entrenamiento\n",
    "r_t_train = []\n",
    "with open('teacher_results/train_teacher.csv', newline='') as archivo:\n",
    "    lector = csv.reader(archivo)\n",
    "    for fila in lector:\n",
    "        fila_convertida = [float(x) for x in fila]\n",
    "        r_t_train.append(fila_convertida)"
   ]
  },
  {
   "cell_type": "code",
   "execution_count": 35,
   "id": "02f3d842",
   "metadata": {},
   "outputs": [],
   "source": [
    "class StudentODE(nn.Module):\n",
    "    def __init__(self):\n",
    "        super().__init__()\n",
    "        # tu ODE backbone\n",
    "        self.backbone = NeuralODEModel()\n",
    "        # dos salidas\n",
    "        self.head_clean   = nn.Linear(1, 1)    # Rs\n",
    "        self.head_distill = nn.Linear(1, 1)    # Rd\n",
    "\n",
    "    def forward(self, x):\n",
    "        # x: [batch, seq_len, feat=1]\n",
    "        h = self.backbone(x)                   # [batch,1]\n",
    "        Rs = self.head_clean(h)                # [batch,1]\n",
    "        Rd = self.head_distill(h)              # [batch,1]\n",
    "        return Rs, Rd\n",
    "    \n",
    "def train_student_ode(\n",
    "    model, X_train, y_train, r_t_train,\n",
    "    X_val,   y_val,   r_t_val,\n",
    "    batch_size=64, epochs=20, lr=0.001\n",
    "):\n",
    "    device = torch.device(\"cuda\" if torch.cuda.is_available() else \"cpu\")\n",
    "    model  = model.to(device)\n",
    "\n",
    "    # DataLoaders que entregan (Xb, tb, rtb)\n",
    "    train_ds = torch.utils.data.TensorDataset(\n",
    "        torch.tensor(X_train, dtype=torch.float32),\n",
    "        torch.tensor(y_train.reshape(-1,1), dtype=torch.float32),\n",
    "        torch.tensor(r_t_train,    dtype=torch.float32)\n",
    "    )\n",
    "    val_ds = torch.utils.data.TensorDataset(\n",
    "        torch.tensor(X_val, dtype=torch.float32),\n",
    "        torch.tensor(y_val.reshape(-1,1), dtype=torch.float32),\n",
    "        torch.tensor(r_t_val,    dtype=torch.float32)\n",
    "    )\n",
    "    train_loader = torch.utils.data.DataLoader(train_ds, batch_size=batch_size, shuffle=True)\n",
    "    val_loader   = torch.utils.data.DataLoader(val_ds,   batch_size=batch_size)\n",
    "\n",
    "    optimizer = optim.Adam(model.parameters(), lr=lr)\n",
    "\n",
    "    # Pre‑calcula epsilon con clamp para no obtener nan\n",
    "    # 1) Calcula xi\n",
    "    xi  = y_train.reshape(-1,1) - r_t_train\n",
    "\n",
    "    mad   = np.median(np.abs(xi - np.median(xi)))\n",
    "    sigma = 1.4826 * mad\n",
    "\n",
    "    # 2) elige tu alpha\n",
    "    alpha = 1.0\n",
    "\n",
    "    # 3) evita nan clippeando el ratio a <1\n",
    "    ratio = alpha / (np.sqrt(2*np.pi) * sigma)\n",
    "    ratio = min(ratio, 1 - 1e-6)\n",
    "\n",
    "    # 4) calcula epsilon sin miedo a nan\n",
    "    epsilon = sigma * np.sqrt(-2.0 * np.log(ratio))\n",
    "\n",
    "    for epoch in range(1, epochs+1):\n",
    "        model.train()\n",
    "        tot_loss = 0.0\n",
    "\n",
    "        for Xb, tb, rtb in train_loader:\n",
    "            Xb, tb, rtb = Xb.to(device), tb.to(device), rtb.to(device)\n",
    "            optimizer.zero_grad()\n",
    "\n",
    "            Rs, Rd = model(Xb)  # ambas de shape (B,1)\n",
    "\n",
    "            # TOR loss:\n",
    "            err      = torch.abs(tb - rtb)\n",
    "            loss_c   = (Rs - tb).pow(2)\n",
    "            loss_o   = torch.sqrt((Rs - rtb).pow(2) + 1e-6)\n",
    "            L_tor    = torch.where(err < epsilon, loss_c, loss_o).mean()\n",
    "\n",
    "            # Distillation loss (L1):\n",
    "            L_dist   = torch.abs(Rd - rtb).mean()\n",
    "\n",
    "            loss = L_tor + L_dist\n",
    "            loss.backward()\n",
    "            optimizer.step()\n",
    "            tot_loss += loss.item() * Xb.size(0)\n",
    "\n",
    "\n",
    "\n",
    "        tot_loss /= len(train_ds)\n",
    "        print(f\"Epoch {epoch}/{epochs} — Train Loss: {tot_loss:.4f}\")\n",
    "    return model"
   ]
  },
  {
   "cell_type": "code",
   "execution_count": 36,
   "id": "e39c1714",
   "metadata": {},
   "outputs": [
    {
     "name": "stdout",
     "output_type": "stream",
     "text": [
      "Epoch 1/20 — Train Loss: 1.4214\n",
      "Epoch 2/20 — Train Loss: 1.0923\n",
      "Epoch 3/20 — Train Loss: 0.8801\n",
      "Epoch 4/20 — Train Loss: 0.7240\n",
      "Epoch 5/20 — Train Loss: 0.5714\n",
      "Epoch 6/20 — Train Loss: 0.4093\n",
      "Epoch 7/20 — Train Loss: 0.3429\n",
      "Epoch 8/20 — Train Loss: 0.3359\n",
      "Epoch 9/20 — Train Loss: 0.3349\n",
      "Epoch 10/20 — Train Loss: 0.3333\n",
      "Epoch 11/20 — Train Loss: 0.3328\n",
      "Epoch 12/20 — Train Loss: 0.3321\n",
      "Epoch 13/20 — Train Loss: 0.3315\n",
      "Epoch 14/20 — Train Loss: 0.3309\n",
      "Epoch 15/20 — Train Loss: 0.3302\n",
      "Epoch 16/20 — Train Loss: 0.3306\n",
      "Epoch 17/20 — Train Loss: 0.3299\n",
      "Epoch 18/20 — Train Loss: 0.3298\n",
      "Epoch 19/20 — Train Loss: 0.3295\n",
      "Epoch 20/20 — Train Loss: 0.3291\n"
     ]
    }
   ],
   "source": [
    "student = StudentODE()\n",
    "\n",
    "student_trained = train_student_ode(\n",
    "    student,\n",
    "    X_train, y_train, r_t_train,\n",
    "    X_val,   y_val,   r_t_val,\n",
    "    batch_size=64,\n",
    "    epochs=20,\n",
    "    lr=0.001\n",
    ")\n"
   ]
  },
  {
   "cell_type": "markdown",
   "id": "fbeb277a",
   "metadata": {},
   "source": [
    "## Resultados de modelo Neural Destilado 3% sobre el conjunto de validación"
   ]
  },
  {
   "cell_type": "code",
   "execution_count": 37,
   "id": "bfe08350",
   "metadata": {},
   "outputs": [],
   "source": [
    "student.eval()\n",
    "x_neural = torch.tensor(X_val, dtype=torch.float32)\n",
    "Rs_pred, Rd_pred = student(torch.tensor(X_val, dtype=torch.float32).to(device))\n",
    "# Rd_pred es tu salida distill, compárala con y_val:\n",
    "results =  Rd_pred.cpu().detach().numpy().flatten()\n"
   ]
  },
  {
   "cell_type": "code",
   "execution_count": 38,
   "id": "f4ddb785",
   "metadata": {},
   "outputs": [
    {
     "name": "stdout",
     "output_type": "stream",
     "text": [
      "MAE: 0.3117070048714903\n",
      "MSE: 0.3285529347478569\n",
      "SMAPE: 28.30021689940347\n"
     ]
    }
   ],
   "source": [
    "from sklearn.metrics import mean_squared_error\n",
    "mse = mean_squared_error(y_val, results)\n",
    "mae = mean_absolute_error(y_val, results)\n",
    "smape_val = smape(y_val, results)\n",
    "\n",
    "print(\"MAE:\", mae)\n",
    "print(\"MSE:\", mse)\n",
    "print(\"SMAPE:\", smape_val)"
   ]
  },
  {
   "cell_type": "code",
   "execution_count": 39,
   "id": "d10883c5",
   "metadata": {},
   "outputs": [],
   "source": [
    "torch.save(student.state_dict(), \"Models_neural/modelo_3_dest.pth\")"
   ]
  },
  {
   "cell_type": "code",
   "execution_count": 40,
   "id": "dfe2e02d",
   "metadata": {},
   "outputs": [
    {
     "data": {
      "image/png": "[encoded data removed]",
      "text/plain": [
       "<Figure size 640x480 with 1 Axes>"
      ]
     },
     "metadata": {},
     "output_type": "display_data"
    }
   ],
   "source": [
    "import random\n",
    "import matplotlib.pyplot as plt\n",
    "\n",
    "# Tus listas originales:\n",
    "# y_val, r_t_val, Rd_output\n",
    "\n",
    "# Asegúrate de que todas tengan la misma longitud n ≥ 20\n",
    "n = len(y_val)\n",
    "\n",
    "# Elige un índice de inicio aleatorio tal que haya espacio para 20 puntos\n",
    "inicio = random.randint(0, n - 20)\n",
    "fin = inicio + 20\n",
    "\n",
    "# Crea un eje X con los índices reales para ese intervalo\n",
    "x = list(range(inicio, fin))\n",
    "\n",
    "# Extrae los subrangos de cada serie\n",
    "y_segmento     = y_val[inicio:fin]\n",
    "teacher_segmento = r_t_val[inicio:fin]\n",
    "destilado_segmento =  results[inicio:fin]\n",
    "\n",
    "# Grafica solo el intervalo seleccionado\n",
    "plt.figure()\n",
    "plt.plot(x, y_segmento,         label='real')\n",
    "plt.plot(x, teacher_segmento,   label='teacher')\n",
    "plt.plot(x, destilado_segmento, label='destilado')\n",
    "\n",
    "plt.xlabel('Índice')\n",
    "plt.ylabel('Valor')\n",
    "plt.title(f'Intervalo aleatorio de índices {inicio}–{fin-1}')\n",
    "plt.legend()\n",
    "plt.tight_layout()\n",
    "plt.show()\n"
   ]
  }
 ],
 "metadata": {
  "kernelspec": {
   "display_name": "cuda",
   "language": "python",
   "name": "python3"
  },
  "language_info": {
   "codemirror_mode": {
    "name": "ipython",
    "version": 3
   },
   "file_extension": ".py",
   "mimetype": "text/x-python",
   "name": "python",
   "nbconvert_exporter": "python",
   "pygments_lexer": "ipython3",
   "version": "3.10.3"
  }
 },
 "nbformat": 4,
 "nbformat_minor": 5
}
