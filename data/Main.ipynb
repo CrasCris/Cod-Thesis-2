{
 "cells": [
  {
   "cell_type": "markdown",
   "id": "527d68c3-8f6c-4f0c-a8e7-e9d2e1381ad2",
   "metadata": {},
   "source": [
    "# Train with time-300B \n",
    "\n",
    "We'll  training the two architectures (LSTM and Neural ODE) using time-300B taking windows of 7, 14 and 21 sequenses.\n",
    "\n",
    "This will be the experiments that we are going to do for both architectures:\n",
    "\n",
    "- Baseline $100 \\%$ of dataset\n",
    "\n",
    "- Baseline $10 \\%$ of dataset\n",
    "\n",
    "- Baseline $3 \\%$ of dataset\n",
    "\n",
    "- Destillation with Time-Moe $3 \\%$ of dataset"
   ]
  },
  {
   "cell_type": "code",
   "execution_count": 1,
   "id": "3ed4dc77",
   "metadata": {},
   "outputs": [],
   "source": [
    "# Cargar la data\n",
    "# Seleccionar las ventanas de cada sequencia de serie\n",
    "# Dividir el porcentaje con muestreos (Separar 80-20)\n",
    "# Entrenar los modelos\n",
    "# Hacer destilación\n"
   ]
  },
  {
   "cell_type": "markdown",
   "id": "c4048a09",
   "metadata": {},
   "source": [
    "### Load data"
   ]
  },
  {
   "cell_type": "code",
   "execution_count": 1,
   "id": "a1c0efd7",
   "metadata": {
    "tags": [
     "Functions"
    ]
   },
   "outputs": [],
   "source": [
    "import random\n",
    "import pandas as pd\n",
    "import tensorflow as tf\n",
    "from tensorflow.keras.models import Sequential\n",
    "from tensorflow.keras.layers import LSTM, Dense\n",
    "from tensorflow.keras.callbacks import EarlyStopping\n",
    "import numpy as np\n",
    "from Time_MoE.time_moe.datasets.time_moe_dataset import TimeMoEDataset\n",
    "from sklearn.model_selection import train_test_split\n",
    "# Importing custom functions\n",
    "import sys\n",
    "import os\n",
    "root_path = os.path.abspath(os.path.join(os.getcwd(), '..'))\n",
    "sys.path.append(root_path)\n",
    "\n",
    "from baseline.functions import load_data,create_intervals,create_windows,smape,smape_chunked,sample_fraction\n",
    "from sklearn.metrics import mean_absolute_error, mean_squared_error\n",
    "\n",
    "def load_data_clean():\n",
    "    ds = TimeMoEDataset(data_folder='Time-300B\\healthcare',normalization_method='zero')\n",
    "\n",
    "    verbose = True\n",
    "    total = len(ds)\n",
    "    valid_indices = []\n",
    "    # Iterar y filtrar\n",
    "    for i in range(total):\n",
    "        try:\n",
    "            seq = ds[i]  # seq es numpy.ndarray según comprobaste\n",
    "        except Exception as e:\n",
    "            # Si hay error al obtener la secuencia, lo avisamos y saltamos\n",
    "            if verbose:\n",
    "                print(f\"Advertencia: no se pudo obtener ds[{i}]: {e}\")\n",
    "            continue\n",
    "        \n",
    "        # Comprobación: si todos los valores son NaN, lo descartamos\n",
    "        # seq es numpy.ndarray; cuidado si dims especiales, pero np.isnan funcionará elementwise.\n",
    "        try:\n",
    "            if not np.all(np.isnan(seq)):\n",
    "                valid_indices.append(i)\n",
    "        except Exception as e:\n",
    "            # En caso de que seq no sea array puro, convertir primero:\n",
    "            try:\n",
    "                arr = np.array(seq)\n",
    "                if not np.all(np.isnan(arr)):\n",
    "                    valid_indices.append(i)\n",
    "            except Exception as e2:\n",
    "                if verbose:\n",
    "                    print(f\"Error al verificar NaN en secuencia índice {i}: {e2}\")\n",
    "                # Decidir si incluirla o no. Aquí optamos por descartarla:\n",
    "                continue\n",
    "    \n",
    "    valid_count = len(valid_indices)\n",
    "    if verbose:\n",
    "        print(f\"Secuencias totales en ds: {total}\")\n",
    "        print(f\"Secuencias válidas (no todo NaN): {valid_count}\")\n",
    "        print(f\"Secuencias descartadas: {total - valid_count}\")\n",
    "        sequences_validas = []\n",
    "\n",
    "    for idx in valid_indices:\n",
    "        try:\n",
    "            sequences_validas.append(ds[idx])\n",
    "        except Exception as e:\n",
    "            if verbose:\n",
    "                print(f\"Error al extraer ds[{idx}] después de filtrar: {e}\")\n",
    "            # Podrías decidir saltar o detener. Aquí solo saltamos.\n",
    "    return sequences_validas\n",
    "\n",
    "def create_windows_from_sequences(sequences, window_size=15, horizon=1):\n",
    "    \"\"\"\n",
    "    Dada una lista de secuencias (numpy arrays 1D), crea ventanas deslizantes:\n",
    "    - X: array de shape (num_samples, window_size, 1)\n",
    "    - y: array de shape (num_samples,)\n",
    "    Cada muestra usa window_size pasos para predecir el siguiente valor (horizon=1).\n",
    "    \"\"\"\n",
    "    X_list = []\n",
    "    y_list = []\n",
    "    for seq in sequences:\n",
    "        # Asegurar numpy array\n",
    "        arr = np.array(seq).astype(float)\n",
    "        T = arr.shape[0]\n",
    "        # Solo si la longitud es mayor que window_size + horizon - 1\n",
    "        if T >= window_size + horizon:\n",
    "            for start in range(0, T - window_size - horizon + 1):\n",
    "                window = arr[start:start+window_size]\n",
    "                target = arr[start+window_size:start+window_size+horizon]\n",
    "                # Para horizon=1, target es un array de longitud 1; tomamos el escalar\n",
    "                X_list.append(window.reshape(window_size, 1))\n",
    "                y_list.append(target[0] if horizon == 1 else target)\n",
    "    if len(X_list) == 0:\n",
    "        return np.empty((0, window_size, 1)), np.empty((0,))\n",
    "    X = np.stack(X_list, axis=0)\n",
    "    y = np.array(y_list)\n",
    "\n",
    "    # Supongamos X tiene forma (N, window_size, 1), y y forma (N,)\n",
    "    mask_valid = ~np.isnan(X).any(axis=(1,2)) & ~np.isnan(y)\n",
    "    # Mantener solo muestras sin NaN:\n",
    "    X_clean = X[mask_valid]\n",
    "    y_clean = y[mask_valid]\n",
    "    print(\"De\", X.shape[0], \"muestras, quedan\", X_clean.shape[0], \"sin NaN\")\n",
    "\n",
    "    return X_clean, y_clean\n",
    "\n",
    "def build_lstm_model(window_size=15, n_features=1, lstm_units=50):\n",
    "    model = Sequential([\n",
    "        LSTM(lstm_units, input_shape=(window_size, n_features)),\n",
    "        Dense(1)  # para predicción de un valor escalar siguiente\n",
    "    ])\n",
    "    model.compile(optimizer='adam', loss='mse')\n",
    "    return model\n",
    "def smape_2(y_true, y_pred, eps=1e-8):\n",
    "    numerator = np.abs(y_true - y_pred)\n",
    "    denominator = (np.abs(y_true) + np.abs(y_pred))\n",
    "    return 100 * np.mean(numerator / (denominator + eps))"
   ]
  },
  {
   "cell_type": "code",
   "execution_count": 25,
   "id": "19b50879",
   "metadata": {},
   "outputs": [
    {
     "name": "stdout",
     "output_type": "stream",
     "text": [
      "Secuencias totales en ds: 1752\n",
      "Secuencias válidas (no todo NaN): 1752\n",
      "Secuencias descartadas: 0\n",
      "De 433317 muestras, quedan 433317 sin NaN\n"
     ]
    }
   ],
   "source": [
    "ds = load_data_clean()\n",
    "\n",
    "X, y = create_windows_from_sequences(ds, window_size=15, horizon=1)"
   ]
  },
  {
   "cell_type": "code",
   "execution_count": 26,
   "id": "6087b780",
   "metadata": {},
   "outputs": [],
   "source": [
    "X_train, X_val, y_train, y_val = train_test_split(X, y, test_size=0.2, shuffle=True, random_state=42)"
   ]
  },
  {
   "cell_type": "markdown",
   "id": "d9867721",
   "metadata": {},
   "source": [
    "### LSTM - 100 %"
   ]
  },
  {
   "cell_type": "code",
   "execution_count": 4,
   "id": "0c525dd4",
   "metadata": {},
   "outputs": [
    {
     "name": "stdout",
     "output_type": "stream",
     "text": [
      "Epoch 1/20\n"
     ]
    },
    {
     "name": "stderr",
     "output_type": "stream",
     "text": [
      "c:\\Users\\criju\\.conda\\envs\\ts\\Lib\\site-packages\\keras\\src\\layers\\rnn\\rnn.py:200: UserWarning: Do not pass an `input_shape`/`input_dim` argument to a layer. When using Sequential models, prefer using an `Input(shape)` object as the first layer in the model instead.\n",
      "  super().__init__(**kwargs)\n"
     ]
    },
    {
     "name": "stdout",
     "output_type": "stream",
     "text": [
      "\u001b[1m10833/10833\u001b[0m \u001b[32m━━━━━━━━━━━━━━━━━━━━\u001b[0m\u001b[37m\u001b[0m \u001b[1m48s\u001b[0m 4ms/step - loss: 0.3003 - val_loss: 0.2613\n",
      "Epoch 2/20\n",
      "\u001b[1m10833/10833\u001b[0m \u001b[32m━━━━━━━━━━━━━━━━━━━━\u001b[0m\u001b[37m\u001b[0m \u001b[1m60s\u001b[0m 6ms/step - loss: 0.2665 - val_loss: 0.2572\n",
      "Epoch 3/20\n",
      "\u001b[1m10833/10833\u001b[0m \u001b[32m━━━━━━━━━━━━━━━━━━━━\u001b[0m\u001b[37m\u001b[0m \u001b[1m54s\u001b[0m 5ms/step - loss: 0.2620 - val_loss: 0.2492\n",
      "Epoch 4/20\n",
      "\u001b[1m10833/10833\u001b[0m \u001b[32m━━━━━━━━━━━━━━━━━━━━\u001b[0m\u001b[37m\u001b[0m \u001b[1m55s\u001b[0m 5ms/step - loss: 0.2556 - val_loss: 0.2474\n",
      "Epoch 5/20\n",
      "\u001b[1m10833/10833\u001b[0m \u001b[32m━━━━━━━━━━━━━━━━━━━━\u001b[0m\u001b[37m\u001b[0m \u001b[1m54s\u001b[0m 5ms/step - loss: 0.2556 - val_loss: 0.2456\n",
      "Epoch 6/20\n",
      "\u001b[1m10833/10833\u001b[0m \u001b[32m━━━━━━━━━━━━━━━━━━━━\u001b[0m\u001b[37m\u001b[0m \u001b[1m54s\u001b[0m 5ms/step - loss: 0.2498 - val_loss: 0.2456\n",
      "Epoch 7/20\n",
      "\u001b[1m10833/10833\u001b[0m \u001b[32m━━━━━━━━━━━━━━━━━━━━\u001b[0m\u001b[37m\u001b[0m \u001b[1m54s\u001b[0m 5ms/step - loss: 0.2555 - val_loss: 0.2445\n",
      "Epoch 8/20\n",
      "\u001b[1m10833/10833\u001b[0m \u001b[32m━━━━━━━━━━━━━━━━━━━━\u001b[0m\u001b[37m\u001b[0m \u001b[1m54s\u001b[0m 5ms/step - loss: 0.2537 - val_loss: 0.2446\n",
      "Epoch 9/20\n",
      "\u001b[1m10833/10833\u001b[0m \u001b[32m━━━━━━━━━━━━━━━━━━━━\u001b[0m\u001b[37m\u001b[0m \u001b[1m54s\u001b[0m 5ms/step - loss: 0.2485 - val_loss: 0.2437\n",
      "Epoch 10/20\n",
      "\u001b[1m10833/10833\u001b[0m \u001b[32m━━━━━━━━━━━━━━━━━━━━\u001b[0m\u001b[37m\u001b[0m \u001b[1m54s\u001b[0m 5ms/step - loss: 0.2501 - val_loss: 0.2468\n",
      "Epoch 11/20\n",
      "\u001b[1m10833/10833\u001b[0m \u001b[32m━━━━━━━━━━━━━━━━━━━━\u001b[0m\u001b[37m\u001b[0m \u001b[1m54s\u001b[0m 5ms/step - loss: 0.2465 - val_loss: 0.2440\n",
      "Epoch 12/20\n",
      "\u001b[1m10833/10833\u001b[0m \u001b[32m━━━━━━━━━━━━━━━━━━━━\u001b[0m\u001b[37m\u001b[0m \u001b[1m54s\u001b[0m 5ms/step - loss: 0.2458 - val_loss: 0.2432\n",
      "Epoch 13/20\n",
      "\u001b[1m10833/10833\u001b[0m \u001b[32m━━━━━━━━━━━━━━━━━━━━\u001b[0m\u001b[37m\u001b[0m \u001b[1m54s\u001b[0m 5ms/step - loss: 0.2438 - val_loss: 0.2453\n",
      "Epoch 14/20\n",
      "\u001b[1m10833/10833\u001b[0m \u001b[32m━━━━━━━━━━━━━━━━━━━━\u001b[0m\u001b[37m\u001b[0m \u001b[1m55s\u001b[0m 5ms/step - loss: 0.2496 - val_loss: 0.2434\n",
      "Epoch 15/20\n",
      "\u001b[1m10833/10833\u001b[0m \u001b[32m━━━━━━━━━━━━━━━━━━━━\u001b[0m\u001b[37m\u001b[0m \u001b[1m54s\u001b[0m 5ms/step - loss: 0.2450 - val_loss: 0.2437\n",
      "Epoch 16/20\n",
      "\u001b[1m10833/10833\u001b[0m \u001b[32m━━━━━━━━━━━━━━━━━━━━\u001b[0m\u001b[37m\u001b[0m \u001b[1m54s\u001b[0m 5ms/step - loss: 0.2438 - val_loss: 0.2442\n",
      "Epoch 17/20\n",
      "\u001b[1m10833/10833\u001b[0m \u001b[32m━━━━━━━━━━━━━━━━━━━━\u001b[0m\u001b[37m\u001b[0m \u001b[1m54s\u001b[0m 5ms/step - loss: 0.2439 - val_loss: 0.2440\n"
     ]
    }
   ],
   "source": [
    "# Suponiendo que X_train, y_train, X_val, y_val están listos:\n",
    "model = build_lstm_model(window_size=15, n_features=1, lstm_units=50)\n",
    "es = EarlyStopping(monitor='val_loss', patience=5, restore_best_weights=True)\n",
    "history = model.fit(\n",
    "    X_train, y_train,\n",
    "    validation_data=(X_val, y_val),\n",
    "    epochs=20,\n",
    "    batch_size=32,\n",
    "    callbacks=[es]\n",
    ")\n"
   ]
  },
  {
   "cell_type": "markdown",
   "id": "84ce22cb",
   "metadata": {},
   "source": [
    "## Resultados de modelo LSTM 100% sobre el conjunto de validación"
   ]
  },
  {
   "cell_type": "code",
   "execution_count": 5,
   "id": "ff2e3c7b",
   "metadata": {},
   "outputs": [
    {
     "name": "stdout",
     "output_type": "stream",
     "text": [
      "\u001b[1m2709/2709\u001b[0m \u001b[32m━━━━━━━━━━━━━━━━━━━━\u001b[0m\u001b[37m\u001b[0m \u001b[1m5s\u001b[0m 2ms/step\n",
      "MAE: 0.26638794882572014\n",
      "MSE: 0.24324309028574692\n"
     ]
    }
   ],
   "source": [
    "# Evaluar en conjunto de validación\n",
    "\n",
    "y_pred = model.predict(X_val)\n",
    "\n",
    "mae = mean_absolute_error(y_val, y_pred)\n",
    "mse = mean_squared_error(y_val, y_pred)\n",
    "#smape_value = smape_new(y_val, y_pred)\n",
    "\n",
    "print(\"MAE:\", mae)\n",
    "print(\"MSE:\", mse)\n",
    "#print(\"SMAPE:\", smape_value)"
   ]
  },
  {
   "cell_type": "code",
   "execution_count": 6,
   "id": "0622b53f",
   "metadata": {},
   "outputs": [
    {
     "name": "stdout",
     "output_type": "stream",
     "text": [
      "SMAPE: 54.72695734387981\n"
     ]
    }
   ],
   "source": [
    "smape_val = smape_chunked(y_val, y_pred, chunk_size=500_000)\n",
    "print(\"SMAPE:\", smape_val)"
   ]
  },
  {
   "cell_type": "code",
   "execution_count": null,
   "id": "ff6dbacb",
   "metadata": {},
   "outputs": [],
   "source": [
    "# Guardar el modelo entrenado\n",
    "model.save('Models_lstm/lstm_healthcare_model_100.keras')"
   ]
  },
  {
   "cell_type": "markdown",
   "id": "c977e870",
   "metadata": {},
   "source": [
    "### LSTM - 10 %\n",
    "\n"
   ]
  },
  {
   "cell_type": "code",
   "execution_count": null,
   "id": "561c2e65",
   "metadata": {},
   "outputs": [],
   "source": [
    "# function to take only a percentage of the data\n",
    "X_10, y_10 = sample_fraction(X, y, 0.10, random_state=42)"
   ]
  },
  {
   "cell_type": "code",
   "execution_count": 14,
   "id": "1a7e4241",
   "metadata": {},
   "outputs": [],
   "source": [
    "X_train, X_val, y_train, y_val = train_test_split(X_10, y_10, test_size=0.2, shuffle=True, random_state=42)"
   ]
  },
  {
   "cell_type": "code",
   "execution_count": null,
   "id": "dd703451",
   "metadata": {},
   "outputs": [
    {
     "name": "stdout",
     "output_type": "stream",
     "text": [
      "Epoch 1/20\n"
     ]
    },
    {
     "name": "stderr",
     "output_type": "stream",
     "text": [
      "c:\\Users\\criju\\.conda\\envs\\ts\\Lib\\site-packages\\keras\\src\\layers\\rnn\\rnn.py:200: UserWarning: Do not pass an `input_shape`/`input_dim` argument to a layer. When using Sequential models, prefer using an `Input(shape)` object as the first layer in the model instead.\n",
      "  super().__init__(**kwargs)\n"
     ]
    },
    {
     "name": "stdout",
     "output_type": "stream",
     "text": [
      "\u001b[1m1084/1084\u001b[0m \u001b[32m━━━━━━━━━━━━━━━━━━━━\u001b[0m\u001b[37m\u001b[0m \u001b[1m5s\u001b[0m 4ms/step - loss: 0.3657 - val_loss: 0.2746\n",
      "Epoch 2/20\n",
      "\u001b[1m1084/1084\u001b[0m \u001b[32m━━━━━━━━━━━━━━━━━━━━\u001b[0m\u001b[37m\u001b[0m \u001b[1m4s\u001b[0m 4ms/step - loss: 0.2964 - val_loss: 0.2593\n",
      "Epoch 3/20\n",
      "\u001b[1m1084/1084\u001b[0m \u001b[32m━━━━━━━━━━━━━━━━━━━━\u001b[0m\u001b[37m\u001b[0m \u001b[1m4s\u001b[0m 4ms/step - loss: 0.2817 - val_loss: 0.2501\n",
      "Epoch 4/20\n",
      "\u001b[1m1084/1084\u001b[0m \u001b[32m━━━━━━━━━━━━━━━━━━━━\u001b[0m\u001b[37m\u001b[0m \u001b[1m4s\u001b[0m 3ms/step - loss: 0.2538 - val_loss: 0.2524\n",
      "Epoch 5/20\n",
      "\u001b[1m1084/1084\u001b[0m \u001b[32m━━━━━━━━━━━━━━━━━━━━\u001b[0m\u001b[37m\u001b[0m \u001b[1m4s\u001b[0m 4ms/step - loss: 0.2723 - val_loss: 0.2501\n",
      "Epoch 6/20\n",
      "\u001b[1m1084/1084\u001b[0m \u001b[32m━━━━━━━━━━━━━━━━━━━━\u001b[0m\u001b[37m\u001b[0m \u001b[1m4s\u001b[0m 4ms/step - loss: 0.2532 - val_loss: 0.2478\n",
      "Epoch 7/20\n",
      "\u001b[1m1084/1084\u001b[0m \u001b[32m━━━━━━━━━━━━━━━━━━━━\u001b[0m\u001b[37m\u001b[0m \u001b[1m4s\u001b[0m 4ms/step - loss: 0.2554 - val_loss: 0.2491\n",
      "Epoch 8/20\n",
      "\u001b[1m1084/1084\u001b[0m \u001b[32m━━━━━━━━━━━━━━━━━━━━\u001b[0m\u001b[37m\u001b[0m \u001b[1m6s\u001b[0m 6ms/step - loss: 0.2509 - val_loss: 0.2480\n",
      "Epoch 9/20\n",
      "\u001b[1m1084/1084\u001b[0m \u001b[32m━━━━━━━━━━━━━━━━━━━━\u001b[0m\u001b[37m\u001b[0m \u001b[1m7s\u001b[0m 6ms/step - loss: 0.2599 - val_loss: 0.2465\n",
      "Epoch 10/20\n",
      "\u001b[1m1084/1084\u001b[0m \u001b[32m━━━━━━━━━━━━━━━━━━━━\u001b[0m\u001b[37m\u001b[0m \u001b[1m6s\u001b[0m 6ms/step - loss: 0.2604 - val_loss: 0.2463\n",
      "Epoch 11/20\n",
      "\u001b[1m1084/1084\u001b[0m \u001b[32m━━━━━━━━━━━━━━━━━━━━\u001b[0m\u001b[37m\u001b[0m \u001b[1m6s\u001b[0m 6ms/step - loss: 0.2602 - val_loss: 0.2498\n",
      "Epoch 12/20\n",
      "\u001b[1m1084/1084\u001b[0m \u001b[32m━━━━━━━━━━━━━━━━━━━━\u001b[0m\u001b[37m\u001b[0m \u001b[1m6s\u001b[0m 6ms/step - loss: 0.2695 - val_loss: 0.2468\n",
      "Epoch 13/20\n",
      "\u001b[1m1084/1084\u001b[0m \u001b[32m━━━━━━━━━━━━━━━━━━━━\u001b[0m\u001b[37m\u001b[0m \u001b[1m6s\u001b[0m 6ms/step - loss: 0.2614 - val_loss: 0.2483\n",
      "Epoch 14/20\n",
      "\u001b[1m1084/1084\u001b[0m \u001b[32m━━━━━━━━━━━━━━━━━━━━\u001b[0m\u001b[37m\u001b[0m \u001b[1m6s\u001b[0m 6ms/step - loss: 0.2588 - val_loss: 0.2479\n",
      "Epoch 15/20\n",
      "\u001b[1m1084/1084\u001b[0m \u001b[32m━━━━━━━━━━━━━━━━━━━━\u001b[0m\u001b[37m\u001b[0m \u001b[1m6s\u001b[0m 6ms/step - loss: 0.2557 - val_loss: 0.2491\n"
     ]
    }
   ],
   "source": [
    "# Suponiendo que X_train, y_train, X_val, y_val están listos:\n",
    "model = build_lstm_model(window_size=15, n_features=1, lstm_units=50)\n",
    "es = EarlyStopping(monitor='val_loss', patience=5, restore_best_weights=True)\n",
    "history = model.fit(\n",
    "    X_train, y_train,\n",
    "    validation_data=(X_val, y_val),\n",
    "    epochs=20,\n",
    "    batch_size=32,\n",
    "    callbacks=[es]\n",
    ")"
   ]
  },
  {
   "cell_type": "markdown",
   "id": "01a2ee1b",
   "metadata": {},
   "source": [
    "## Resultados de modelo LSTM 10% sobre el conjunto de validación"
   ]
  },
  {
   "cell_type": "code",
   "execution_count": 16,
   "id": "3c55cd5c",
   "metadata": {},
   "outputs": [
    {
     "name": "stdout",
     "output_type": "stream",
     "text": [
      "\u001b[1m271/271\u001b[0m \u001b[32m━━━━━━━━━━━━━━━━━━━━\u001b[0m\u001b[37m\u001b[0m \u001b[1m1s\u001b[0m 3ms/step\n",
      "MAE: 0.28106132670530165\n",
      "MSE: 0.24634181455920554\n",
      "SMAPE: 59.27840290397485\n"
     ]
    }
   ],
   "source": [
    "# Evaluar en conjunto de validación\n",
    "\n",
    "y_pred = model.predict(X_val)\n",
    "mae = mean_absolute_error(y_val, y_pred)\n",
    "mse = mean_squared_error(y_val, y_pred)\n",
    "smape_val = smape_chunked(y_val, y_pred, chunk_size=500_000)\n",
    "\n",
    "print(\"MAE:\", mae)\n",
    "print(\"MSE:\", mse)\n",
    "print(\"SMAPE:\", smape_val)"
   ]
  },
  {
   "cell_type": "code",
   "execution_count": 17,
   "id": "0e3a7707",
   "metadata": {},
   "outputs": [],
   "source": [
    "# Guardar el modelo entrenado\n",
    "model.save('Models_lstm/lstm_healthcare_model_10.keras')"
   ]
  },
  {
   "cell_type": "markdown",
   "id": "8d979c39",
   "metadata": {},
   "source": [
    "### LSTM - 3 %"
   ]
  },
  {
   "cell_type": "code",
   "execution_count": 27,
   "id": "f1bd12e2",
   "metadata": {},
   "outputs": [],
   "source": [
    "X_3, y_3   = sample_fraction(X, y, 0.03, random_state=42)\n",
    "X_train, X_val, y_train, y_val = train_test_split(X_3, y_3, test_size=0.2, shuffle=True, random_state=42)"
   ]
  },
  {
   "cell_type": "code",
   "execution_count": 28,
   "id": "0b020a81",
   "metadata": {},
   "outputs": [
    {
     "name": "stdout",
     "output_type": "stream",
     "text": [
      "Epoch 1/20\n"
     ]
    },
    {
     "name": "stderr",
     "output_type": "stream",
     "text": [
      "c:\\Users\\criju\\.conda\\envs\\ts\\Lib\\site-packages\\keras\\src\\layers\\rnn\\rnn.py:200: UserWarning: Do not pass an `input_shape`/`input_dim` argument to a layer. When using Sequential models, prefer using an `Input(shape)` object as the first layer in the model instead.\n",
      "  super().__init__(**kwargs)\n"
     ]
    },
    {
     "name": "stdout",
     "output_type": "stream",
     "text": [
      "\u001b[1m325/325\u001b[0m \u001b[32m━━━━━━━━━━━━━━━━━━━━\u001b[0m\u001b[37m\u001b[0m \u001b[1m2s\u001b[0m 4ms/step - loss: 0.4575 - val_loss: 0.3006\n",
      "Epoch 2/20\n",
      "\u001b[1m325/325\u001b[0m \u001b[32m━━━━━━━━━━━━━━━━━━━━\u001b[0m\u001b[37m\u001b[0m \u001b[1m1s\u001b[0m 4ms/step - loss: 0.2893 - val_loss: 0.2913\n",
      "Epoch 3/20\n",
      "\u001b[1m325/325\u001b[0m \u001b[32m━━━━━━━━━━━━━━━━━━━━\u001b[0m\u001b[37m\u001b[0m \u001b[1m1s\u001b[0m 3ms/step - loss: 0.2853 - val_loss: 0.2860\n",
      "Epoch 4/20\n",
      "\u001b[1m325/325\u001b[0m \u001b[32m━━━━━━━━━━━━━━━━━━━━\u001b[0m\u001b[37m\u001b[0m \u001b[1m1s\u001b[0m 3ms/step - loss: 0.2906 - val_loss: 0.2806\n",
      "Epoch 5/20\n",
      "\u001b[1m325/325\u001b[0m \u001b[32m━━━━━━━━━━━━━━━━━━━━\u001b[0m\u001b[37m\u001b[0m \u001b[1m1s\u001b[0m 3ms/step - loss: 0.2845 - val_loss: 0.2715\n",
      "Epoch 6/20\n",
      "\u001b[1m325/325\u001b[0m \u001b[32m━━━━━━━━━━━━━━━━━━━━\u001b[0m\u001b[37m\u001b[0m \u001b[1m1s\u001b[0m 4ms/step - loss: 0.2587 - val_loss: 0.2711\n",
      "Epoch 7/20\n",
      "\u001b[1m325/325\u001b[0m \u001b[32m━━━━━━━━━━━━━━━━━━━━\u001b[0m\u001b[37m\u001b[0m \u001b[1m1s\u001b[0m 3ms/step - loss: 0.2501 - val_loss: 0.2770\n",
      "Epoch 8/20\n",
      "\u001b[1m325/325\u001b[0m \u001b[32m━━━━━━━━━━━━━━━━━━━━\u001b[0m\u001b[37m\u001b[0m \u001b[1m1s\u001b[0m 3ms/step - loss: 0.2741 - val_loss: 0.2678\n",
      "Epoch 9/20\n",
      "\u001b[1m325/325\u001b[0m \u001b[32m━━━━━━━━━━━━━━━━━━━━\u001b[0m\u001b[37m\u001b[0m \u001b[1m1s\u001b[0m 3ms/step - loss: 0.2462 - val_loss: 0.2611\n",
      "Epoch 10/20\n",
      "\u001b[1m325/325\u001b[0m \u001b[32m━━━━━━━━━━━━━━━━━━━━\u001b[0m\u001b[37m\u001b[0m \u001b[1m1s\u001b[0m 4ms/step - loss: 0.2395 - val_loss: 0.2589\n",
      "Epoch 11/20\n",
      "\u001b[1m325/325\u001b[0m \u001b[32m━━━━━━━━━━━━━━━━━━━━\u001b[0m\u001b[37m\u001b[0m \u001b[1m1s\u001b[0m 3ms/step - loss: 0.2398 - val_loss: 0.2603\n",
      "Epoch 12/20\n",
      "\u001b[1m325/325\u001b[0m \u001b[32m━━━━━━━━━━━━━━━━━━━━\u001b[0m\u001b[37m\u001b[0m \u001b[1m1s\u001b[0m 3ms/step - loss: 0.2440 - val_loss: 0.2591\n",
      "Epoch 13/20\n",
      "\u001b[1m325/325\u001b[0m \u001b[32m━━━━━━━━━━━━━━━━━━━━\u001b[0m\u001b[37m\u001b[0m \u001b[1m1s\u001b[0m 4ms/step - loss: 0.2453 - val_loss: 0.2601\n",
      "Epoch 14/20\n",
      "\u001b[1m325/325\u001b[0m \u001b[32m━━━━━━━━━━━━━━━━━━━━\u001b[0m\u001b[37m\u001b[0m \u001b[1m1s\u001b[0m 4ms/step - loss: 0.2527 - val_loss: 0.2594\n",
      "Epoch 15/20\n",
      "\u001b[1m325/325\u001b[0m \u001b[32m━━━━━━━━━━━━━━━━━━━━\u001b[0m\u001b[37m\u001b[0m \u001b[1m1s\u001b[0m 4ms/step - loss: 0.2284 - val_loss: 0.2634\n"
     ]
    }
   ],
   "source": [
    "# Suponiendo que X_train, y_train, X_val, y_val están listos:\n",
    "model = build_lstm_model(window_size=15, n_features=1, lstm_units=50)\n",
    "es = EarlyStopping(monitor='val_loss', patience=5, restore_best_weights=True)\n",
    "history = model.fit(\n",
    "    X_train, y_train,\n",
    "    validation_data=(X_val, y_val),\n",
    "    epochs=20,\n",
    "    batch_size=32,\n",
    "    callbacks=[es]\n",
    ")"
   ]
  },
  {
   "cell_type": "markdown",
   "id": "472badf1",
   "metadata": {},
   "source": [
    "## Resultados de modelo LSTM 3% sobre el conjunto de validación"
   ]
  },
  {
   "cell_type": "code",
   "execution_count": null,
   "id": "e77252dd",
   "metadata": {},
   "outputs": [
    {
     "name": "stdout",
     "output_type": "stream",
     "text": [
      "\u001b[1m82/82\u001b[0m \u001b[32m━━━━━━━━━━━━━━━━━━━━\u001b[0m\u001b[37m\u001b[0m \u001b[1m0s\u001b[0m 2ms/step\n"
     ]
    }
   ],
   "source": [
    "y_pred = model.predict(X_val)"
   ]
  },
  {
   "cell_type": "code",
   "execution_count": 33,
   "id": "d8d072eb",
   "metadata": {},
   "outputs": [
    {
     "name": "stdout",
     "output_type": "stream",
     "text": [
      "MAE: 0.2873184369246211\n",
      "MSE: 0.2588537767256622\n",
      "SMAPE: 60.36929556039663\n"
     ]
    }
   ],
   "source": [
    "# Evaluar en conjunto de validación\n",
    "\n",
    "mae = mean_absolute_error(y_val, y_pred)\n",
    "mse = mean_squared_error(y_val, y_pred)\n",
    "smape_val = smape_chunked(y_val, y_pred, chunk_size=500_000)\n",
    "\n",
    "print(\"MAE:\", mae)\n",
    "print(\"MSE:\", mse)\n",
    "print(\"SMAPE:\", smape_val)"
   ]
  },
  {
   "cell_type": "code",
   "execution_count": 21,
   "id": "21016038",
   "metadata": {},
   "outputs": [],
   "source": [
    "# Guardar el modelo entrenado\n",
    "model.save('Models_lstm/lstm_healthcare_model_3.keras')"
   ]
  },
  {
   "cell_type": "markdown",
   "id": "c6d0c8de",
   "metadata": {},
   "source": [
    "### LSTM Distillation "
   ]
  },
  {
   "cell_type": "code",
   "execution_count": 4,
   "id": "47edc13a",
   "metadata": {},
   "outputs": [],
   "source": [
    "import numpy as np\n",
    "import tensorflow as tf\n",
    "from tensorflow.keras import Model, Input\n",
    "from tensorflow.keras.layers import LSTM, Dense\n",
    "from tensorflow.keras.losses import Loss\n",
    "from tensorflow.keras.callbacks import EarlyStopping"
   ]
  },
  {
   "cell_type": "code",
   "execution_count": 5,
   "id": "dadc2915",
   "metadata": {},
   "outputs": [],
   "source": [
    "# Load time_moe\n",
    "X_3, y_3   = sample_fraction(X, y, 0.03, random_state=42)\n",
    "X_train, X_val, y_train, y_val = train_test_split(X_3, y_3, test_size=0.2, shuffle=True, random_state=42)"
   ]
  },
  {
   "cell_type": "code",
   "execution_count": 6,
   "id": "f860f707",
   "metadata": {},
   "outputs": [
    {
     "name": "stderr",
     "output_type": "stream",
     "text": [
      "C:\\Users\\criju\\AppData\\Roaming\\Python\\Python311\\site-packages\\huggingface_hub\\file_download.py:943: FutureWarning: `resume_download` is deprecated and will be removed in version 1.0.0. Downloads always resume when possible. If you want to force a new download, use `force_download=True`.\n",
      "  warnings.warn(\n",
      "W0730 21:24:46.060000 7960 torch\\distributed\\elastic\\multiprocessing\\redirects.py:29] NOTE: Redirects are currently not supported in Windows or MacOs.\n",
      "C:\\Users\\criju\\AppData\\Roaming\\Python\\Python311\\site-packages\\huggingface_hub\\file_download.py:943: FutureWarning: `resume_download` is deprecated and will be removed in version 1.0.0. Downloads always resume when possible. If you want to force a new download, use `force_download=True`.\n",
      "  warnings.warn(\n"
     ]
    }
   ],
   "source": [
    "# Teacher prediction using Time-MoE\n",
    "from transformers import AutoModelForCausalLM\n",
    "import torch\n",
    "import numpy as np    \n",
    "\n",
    "model = AutoModelForCausalLM.from_pretrained(\n",
    "    'Maple728/TimeMoE-50M',\n",
    "    device_map=\"cpu\",  # use \"cpu\" for CPU inference, and \"cuda\" for GPU inference.\n",
    "    trust_remote_code=True,\n",
    ")\n",
    "\n",
    "train_predict_teacher = []\n",
    "val_predict_teacher = []\n",
    "\n",
    "for arr,y in zip(X_train,y_train):                   \n",
    "    t = torch.from_numpy(arr.reshape(1, 15)).float()\n",
    "    mean = t.mean(dim=-1, keepdim=True)   # (1,1)\n",
    "    std  = t.std(dim=-1, keepdim=True)    # (1,1)\n",
    "    std = std.clamp(min=1e-6) # Evitar división por cero\n",
    "    normed_seq = (t - mean) / std         # (1,15)\n",
    "    output = model.generate(normed_seq, max_new_tokens=1)  \n",
    "    normed_pred = output[:, -1:]            # (1,1)\n",
    "    pred = normed_pred * std + mean         # (1,1)\n",
    "    train_predict_teacher.append(pred.item())  # Guardar las predicciones desnormalizadas\n",
    "\n",
    "for arr in X_val:                   \n",
    "    t = torch.from_numpy(arr.reshape(1, 15)).float()\n",
    "    mean = t.mean(dim=-1, keepdim=True)   # (1,1)\n",
    "    std  = t.std(dim=-1, keepdim=True)    # (1,1)\n",
    "    std = std.clamp(min=1e-6) # Evitar división por cero\n",
    "    normed_seq = (t - mean) / std         # (1,15)\n",
    "    output = model.generate(normed_seq, max_new_tokens=1)  \n",
    "    normed_pred = output[:, -1:]            # (1,1)\n",
    "    pred = normed_pred * std + mean         # (1,1)\n",
    "    val_predict_teacher.append(pred.item())  # Guardar las predicciones desnormalizadas"
   ]
  },
  {
   "cell_type": "code",
   "execution_count": 7,
   "id": "dd844bde",
   "metadata": {},
   "outputs": [],
   "source": [
    "# Convert the predictions to numpy arrays\n",
    "# r_t_train = np.vstack([t.cpu().numpy().reshape(-1,1) for t in train_predict_teacher])\n",
    "# r_t_val   = np.vstack([t.cpu().numpy().reshape(-1,1) for t in val_predict_teacher])\n",
    "\n",
    "r_t_train =  np.array(train_predict_teacher).reshape(-1,1)\n",
    "r_t_val   =  np.array(val_predict_teacher).reshape(-1,1)"
   ]
  },
  {
   "cell_type": "code",
   "execution_count": 8,
   "id": "7744f0c8",
   "metadata": {},
   "outputs": [],
   "source": [
    "t_train = np.array(y_train).reshape(-1,1)\n",
    "t_val   = np.array(y_val).reshape(-1,1)"
   ]
  },
  {
   "cell_type": "code",
   "execution_count": 9,
   "id": "cd3fd026",
   "metadata": {},
   "outputs": [],
   "source": [
    "# Save teacher results for train and validation sets\n",
    "import os\n",
    "import csv\n",
    "\n",
    "os.makedirs('teacher_results', exist_ok=True)\n",
    "\n",
    "with open('teacher_results/val_teacher.csv', mode='w', newline='') as archivo:\n",
    "    escritor = csv.writer(archivo)\n",
    "    escritor.writerows(r_t_val)\n",
    "\n",
    "with open('teacher_results/train_teacher.csv', mode='w', newline='') as archivo:\n",
    "    escritor = csv.writer(archivo)\n",
    "    escritor.writerows(r_t_train)\n"
   ]
  },
  {
   "cell_type": "code",
   "execution_count": 10,
   "id": "efb30461",
   "metadata": {},
   "outputs": [
    {
     "name": "stdout",
     "output_type": "stream",
     "text": [
      "σ = 0.1869, ratio = 1.0000, ε = 0.0003\n"
     ]
    }
   ],
   "source": [
    "# --- 3) Calcula σ y ε según el paper (ec.3) usando MAD sobre (t - r_t_train) ---\n",
    "import numpy as np\n",
    "\n",
    "# 1) calcula mad y sigma como antes\n",
    "xi    = t_train - r_t_train\n",
    "mad   = np.median(np.abs(xi - np.median(xi)))\n",
    "sigma = 1.4826 * mad\n",
    "\n",
    "# 2) elige tu alpha\n",
    "alpha = 1.0\n",
    "\n",
    "# 3) evita nan clippeando el ratio a <1\n",
    "ratio = alpha / (np.sqrt(2*np.pi) * sigma)\n",
    "ratio = min(ratio, 1 - 1e-6)\n",
    "\n",
    "# 4) calcula epsilon sin miedo a nan\n",
    "epsilon = sigma * np.sqrt(-2.0 * np.log(ratio))\n",
    "\n",
    "print(f\"σ = {sigma:.4f}, ratio = {ratio:.4f}, ε = {epsilon:.4f}\")\n"
   ]
  },
  {
   "cell_type": "code",
   "execution_count": 11,
   "id": "59304d4b",
   "metadata": {},
   "outputs": [],
   "source": [
    "# --- 4) Construye el student model de nuevo (dos salidas) ---\n",
    "window_size, n_features, lstm_units = 15, 1, 50\n",
    "inp = Input(shape=(window_size, n_features))\n",
    "x   = LSTM(lstm_units)(inp)\n",
    "out_clean   = Dense(1, name=\"clean_output\")(x)   # Rs\n",
    "out_teacher = Dense(1, name=\"teacher_output\")(x) # Rd\n",
    "student = Model(inp, [out_clean, out_teacher])"
   ]
  },
  {
   "cell_type": "code",
   "execution_count": 12,
   "id": "40fa0141",
   "metadata": {},
   "outputs": [],
   "source": [
    "import numpy as np\n",
    "import tensorflow as tf\n",
    "from tensorflow.keras import Model\n",
    "from tensorflow.keras.layers import LSTM, Dense\n",
    "\n",
    "@tf.keras.utils.register_keras_serializable(package=\"CustomModels\")\n",
    "class StudentTOR(Model):\n",
    "    def __init__(\n",
    "        self,\n",
    "        window_size: int,\n",
    "        n_features: int,\n",
    "        lstm_units: int,\n",
    "        epsilon: float,\n",
    "        c_tor: float = 1.0,\n",
    "        c_dist: float = 1.0,\n",
    "        **kwargs\n",
    "    ):\n",
    "        super().__init__(**kwargs)\n",
    "        # Guardamos los hiperparámetros para serializar\n",
    "        self.window_size = window_size\n",
    "        self.n_features  = n_features\n",
    "        self.lstm_units  = lstm_units\n",
    "        self.epsilon     = epsilon\n",
    "        self.c_tor       = c_tor\n",
    "        self.c_dist      = c_dist\n",
    "        self.tor_metric   = tf.keras.metrics.Mean(name=\"tor_loss\")\n",
    "        self.dist_metric  = tf.keras.metrics.Mean(name=\"distill_loss\")\n",
    "        self.lstm = LSTM(\n",
    "            lstm_units,\n",
    "            input_shape=(window_size, n_features),\n",
    "            name=\"lstm_layer\"\n",
    "        )\n",
    "        self.dense_clean   = Dense(1, name=\"clean_output\")\n",
    "        self.dense_teacher = Dense(1, name=\"teacher_output\")\n",
    "\n",
    "    def call(self, inputs, training=False):\n",
    "        x = self.lstm(inputs)\n",
    "        return self.dense_clean(x), self.dense_teacher(x)\n",
    "\n",
    "    def compute_tor_loss(self, t, r_t_gt, Rs):\n",
    "        err = tf.abs(t - r_t_gt)\n",
    "        clean_loss   = tf.square(Rs - t)\n",
    "        outlier_loss = tf.sqrt(tf.abs(Rs - r_t_gt) + 1e-6)\n",
    "        return tf.where(err < self.epsilon, clean_loss, outlier_loss)\n",
    "\n",
    "    def train_step(self, data):\n",
    "        x, y = data\n",
    "        t      = y[:, 0:1]   # etiqueta real\n",
    "        r_t_gt = y[:, 1:2]   # pred teacher\n",
    "\n",
    "        with tf.GradientTape() as tape:\n",
    "            Rs, Rd = self(x, training=True)\n",
    "            L_tor  = tf.reduce_mean(self.compute_tor_loss(t, r_t_gt, Rs))\n",
    "            L_dist = tf.reduce_mean(tf.abs(Rd - r_t_gt))\n",
    "            loss   = self.c_tor * L_tor + self.c_dist * L_dist\n",
    "\n",
    "        grads = tape.gradient(loss, self.trainable_variables)\n",
    "        self.optimizer.apply_gradients(zip(grads, self.trainable_variables))\n",
    "        self.compiled_metrics.update_state(t, Rs)\n",
    "\n",
    "        self.tor_metric.update_state(L_tor)\n",
    "        self.dist_metric.update_state(L_dist)\n",
    "\n",
    "        return {\n",
    "            \"loss\": loss,\n",
    "            \"tor_loss\": self.tor_metric.result(),\n",
    "            \"distill_loss\": self.dist_metric.result(),\n",
    "            \"mse\": self.metrics[0].result(),   # asumiendo que el primer self.metrics es MSE\n",
    "        }\n",
    "\n",
    "    def test_step(self, data):\n",
    "        x, y = data\n",
    "        t      = y[:, 0:1]\n",
    "        r_t_gt = y[:, 1:2]\n",
    "        Rs, Rd = self(x, training=False)\n",
    "\n",
    "        L_tor  = tf.reduce_mean(self.compute_tor_loss(t, r_t_gt, Rs))\n",
    "        L_dist = tf.reduce_mean(tf.abs(Rd - r_t_gt))\n",
    "        loss   = self.c_tor * L_tor + self.c_dist * L_dist\n",
    "\n",
    "        self.compiled_metrics.update_state(t, Rs)\n",
    "        return {\n",
    "            \"loss\": loss,\n",
    "            \"tor_loss\": L_tor,\n",
    "            \"distill_loss\": L_dist,\n",
    "            **{m.name: m.result() for m in self.metrics}\n",
    "        }\n",
    "\n",
    "    def get_config(self):\n",
    "        # Devuelve todo lo necesario para reconstruir la instancia\n",
    "        base_config = super().get_config()\n",
    "        return {\n",
    "            **base_config,\n",
    "            \"window_size\": self.window_size,\n",
    "            \"n_features\":  self.n_features,\n",
    "            \"lstm_units\":  self.lstm_units,\n",
    "            \"epsilon\":     self.epsilon,\n",
    "            \"c_tor\":       self.c_tor,\n",
    "            \"c_dist\":      self.c_dist,\n",
    "        }\n",
    "\n",
    "    @classmethod\n",
    "    def from_config(cls, config):\n",
    "        # Separar kwargs de Model (si los hubiera)\n",
    "        return cls(\n",
    "            window_size=config.pop(\"window_size\"),\n",
    "            n_features=config.pop(\"n_features\"),\n",
    "            lstm_units=config.pop(\"lstm_units\"),\n",
    "            epsilon=config.pop(\"epsilon\"),\n",
    "            c_tor=config.pop(\"c_tor\"),\n",
    "            c_dist=config.pop(\"c_dist\"),\n",
    "            **config\n",
    "        )\n"
   ]
  },
  {
   "cell_type": "code",
   "execution_count": 13,
   "id": "e0f75b87",
   "metadata": {},
   "outputs": [
    {
     "name": "stdout",
     "output_type": "stream",
     "text": [
      "Epoch 1/20\n"
     ]
    },
    {
     "name": "stderr",
     "output_type": "stream",
     "text": [
      "c:\\Users\\criju\\.conda\\envs\\ts\\Lib\\site-packages\\keras\\src\\layers\\rnn\\rnn.py:200: UserWarning: Do not pass an `input_shape`/`input_dim` argument to a layer. When using Sequential models, prefer using an `Input(shape)` object as the first layer in the model instead.\n",
      "  super().__init__(**kwargs)\n",
      "c:\\Users\\criju\\.conda\\envs\\ts\\Lib\\site-packages\\keras\\src\\backend\\tensorflow\\trainer.py:640: UserWarning: `model.compiled_metrics()` is deprecated. Instead, use e.g.:\n",
      "```\n",
      "for metric in self.metrics:\n",
      "    metric.update_state(y, y_pred)\n",
      "```\n",
      "\n",
      "  return self._compiled_metrics_update_state(\n"
     ]
    },
    {
     "name": "stdout",
     "output_type": "stream",
     "text": [
      "\u001b[1m325/325\u001b[0m \u001b[32m━━━━━━━━━━━━━━━━━━━━\u001b[0m\u001b[37m\u001b[0m \u001b[1m3s\u001b[0m 6ms/step - distill_loss: -0.0478 - loss: 0.5579 - mse: -0.0564 - tor_loss: -0.0421 - val_distill_loss: -0.1002 - val_loss: -0.1002 - val_tor_loss: -0.1002\n",
      "Epoch 2/20\n",
      "\u001b[1m325/325\u001b[0m \u001b[32m━━━━━━━━━━━━━━━━━━━━\u001b[0m\u001b[37m\u001b[0m \u001b[1m2s\u001b[0m 6ms/step - distill_loss: -0.0323 - loss: 0.4058 - mse: -0.0361 - tor_loss: -0.0269 - val_distill_loss: -0.0387 - val_loss: -0.0387 - val_tor_loss: -0.0387\n",
      "Epoch 3/20\n",
      "\u001b[1m325/325\u001b[0m \u001b[32m━━━━━━━━━━━━━━━━━━━━\u001b[0m\u001b[37m\u001b[0m \u001b[1m2s\u001b[0m 6ms/step - distill_loss: 0.0068 - loss: 0.3829 - mse: 0.0046 - tor_loss: 0.0119 - val_distill_loss: -0.0144 - val_loss: -0.0144 - val_tor_loss: -0.0144\n",
      "Epoch 4/20\n",
      "\u001b[1m325/325\u001b[0m \u001b[32m━━━━━━━━━━━━━━━━━━━━\u001b[0m\u001b[37m\u001b[0m \u001b[1m2s\u001b[0m 6ms/step - distill_loss: 0.0029 - loss: 0.3685 - mse: 6.5281e-04 - tor_loss: 0.0079 - val_distill_loss: -0.0183 - val_loss: -0.0183 - val_tor_loss: -0.0183\n",
      "Epoch 5/20\n",
      "\u001b[1m325/325\u001b[0m \u001b[32m━━━━━━━━━━━━━━━━━━━━\u001b[0m\u001b[37m\u001b[0m \u001b[1m2s\u001b[0m 5ms/step - distill_loss: 0.0049 - loss: 0.3589 - mse: 0.0028 - tor_loss: 0.0099 - val_distill_loss: -0.0378 - val_loss: -0.0378 - val_tor_loss: -0.0378\n",
      "Epoch 6/20\n",
      "\u001b[1m325/325\u001b[0m \u001b[32m━━━━━━━━━━━━━━━━━━━━\u001b[0m\u001b[37m\u001b[0m \u001b[1m2s\u001b[0m 6ms/step - distill_loss: -0.0121 - loss: 0.3397 - mse: -0.0144 - tor_loss: -0.0070 - val_distill_loss: -0.0276 - val_loss: -0.0276 - val_tor_loss: -0.0276\n",
      "Epoch 7/20\n",
      "\u001b[1m325/325\u001b[0m \u001b[32m━━━━━━━━━━━━━━━━━━━━\u001b[0m\u001b[37m\u001b[0m \u001b[1m2s\u001b[0m 5ms/step - distill_loss: -0.0072 - loss: 0.3202 - mse: -0.0091 - tor_loss: -0.0024 - val_distill_loss: -0.0387 - val_loss: -0.0387 - val_tor_loss: -0.0387\n",
      "Epoch 8/20\n",
      "\u001b[1m325/325\u001b[0m \u001b[32m━━━━━━━━━━━━━━━━━━━━\u001b[0m\u001b[37m\u001b[0m \u001b[1m2s\u001b[0m 6ms/step - distill_loss: -0.0085 - loss: 0.3041 - mse: -0.0102 - tor_loss: -0.0038 - val_distill_loss: -0.0405 - val_loss: -0.0405 - val_tor_loss: -0.0405\n",
      "Epoch 9/20\n",
      "\u001b[1m325/325\u001b[0m \u001b[32m━━━━━━━━━━━━━━━━━━━━\u001b[0m\u001b[37m\u001b[0m \u001b[1m2s\u001b[0m 6ms/step - distill_loss: -0.0079 - loss: 0.2997 - mse: -0.0096 - tor_loss: -0.0033 - val_distill_loss: -0.0112 - val_loss: -0.0112 - val_tor_loss: -0.0112\n",
      "Epoch 10/20\n",
      "\u001b[1m325/325\u001b[0m \u001b[32m━━━━━━━━━━━━━━━━━━━━\u001b[0m\u001b[37m\u001b[0m \u001b[1m2s\u001b[0m 6ms/step - distill_loss: -0.0157 - loss: 0.3006 - mse: -0.0176 - tor_loss: -0.0110 - val_distill_loss: -0.0232 - val_loss: -0.0232 - val_tor_loss: -0.0232\n",
      "Epoch 11/20\n",
      "\u001b[1m325/325\u001b[0m \u001b[32m━━━━━━━━━━━━━━━━━━━━\u001b[0m\u001b[37m\u001b[0m \u001b[1m2s\u001b[0m 5ms/step - distill_loss: -0.0097 - loss: 0.2903 - mse: -0.0113 - tor_loss: -0.0050 - val_distill_loss: -0.0541 - val_loss: -0.0541 - val_tor_loss: -0.0541\n"
     ]
    }
   ],
   "source": [
    "# 1) Calcula epsilon como antes\n",
    "#    (usando MAD sobre t_train - r_t_train)\n",
    "# 2) Prepara y_true concatenado:\n",
    "y_true_train = np.concatenate([t_train, r_t_train], axis=1)\n",
    "y_true_val   = np.concatenate([t_val,   r_t_val],   axis=1)\n",
    "\n",
    "# 3) Instantiate and compile\n",
    "student = StudentTOR(\n",
    "    window_size=15,\n",
    "    n_features=1,\n",
    "    lstm_units=50,\n",
    "    epsilon=epsilon,\n",
    "    c_tor=1.0,\n",
    "    c_dist=1.0\n",
    ")\n",
    "student.compile(optimizer='adam', metrics=[tf.keras.metrics.MeanSquaredError(name=\"mse\")])\n",
    "\n",
    "# 4) Fit\n",
    "es = EarlyStopping(monitor='val_loss', patience=10, restore_best_weights=True)\n",
    "history = student.fit(\n",
    "    X_train, y_true_train,\n",
    "    validation_data=(X_val, y_true_val),\n",
    "    epochs=20,\n",
    "    batch_size=32,\n",
    "    callbacks=[es]\n",
    ")\n"
   ]
  },
  {
   "cell_type": "code",
   "execution_count": 22,
   "id": "52b0b559",
   "metadata": {},
   "outputs": [
    {
     "name": "stdout",
     "output_type": "stream",
     "text": [
      "\u001b[1m82/82\u001b[0m \u001b[32m━━━━━━━━━━━━━━━━━━━━\u001b[0m\u001b[37m\u001b[0m \u001b[1m0s\u001b[0m 2ms/step\n"
     ]
    }
   ],
   "source": [
    "# Same names as the paper \n",
    "Rs_output, Rd_output = student.predict(X_val)\n",
    "lstm_destillated = Rd_output.flatten() "
   ]
  },
  {
   "cell_type": "markdown",
   "id": "42c63f84",
   "metadata": {},
   "source": [
    "## Resultados de modelo LSTM destilado sobre el conjunto de validación"
   ]
  },
  {
   "cell_type": "code",
   "execution_count": 23,
   "id": "0cba16da",
   "metadata": {},
   "outputs": [
    {
     "name": "stdout",
     "output_type": "stream",
     "text": [
      "MAE: 0.3360864374173756\n",
      "MSE: 0.32071425511413565\n",
      "SMAPE: 33.43385980090349\n"
     ]
    }
   ],
   "source": [
    "# Evaluar en conjunto de validación\n",
    "mae = mean_absolute_error(y_val, lstm_destillated)\n",
    "mse = mean_squared_error(y_val, lstm_destillated)\n",
    "smape_val = smape(y_val, lstm_destillated)\n",
    "\n",
    "print(\"MAE:\", mae)\n",
    "print(\"MSE:\", mse)\n",
    "print(\"SMAPE:\", smape_val)"
   ]
  },
  {
   "cell_type": "markdown",
   "id": "2e7f86d8",
   "metadata": {},
   "source": [
    "## Resultados de modelo timesMOE sobre el conjunto de validación"
   ]
  },
  {
   "cell_type": "code",
   "execution_count": 35,
   "id": "0d23bd2d",
   "metadata": {},
   "outputs": [
    {
     "name": "stdout",
     "output_type": "stream",
     "text": [
      "MAE: 0.29947147856463113\n",
      "MSE: 0.2808381897192965\n",
      "SMAPE: 30.35469758164513\n"
     ]
    }
   ],
   "source": [
    "#Resultados de modelos teacher sobre el conjunto de validación \n",
    "mae = mean_absolute_error(y_val, val_predict_teacher)\n",
    "mse = mean_squared_error(y_val, val_predict_teacher)\n",
    "smape_val = smape(y_val, val_predict_teacher)\n",
    "\n",
    "print(\"MAE:\", mae)\n",
    "print(\"MSE:\", mse)\n",
    "print(\"SMAPE:\", smape_val)"
   ]
  },
  {
   "cell_type": "code",
   "execution_count": 36,
   "id": "0c68f666",
   "metadata": {},
   "outputs": [],
   "source": [
    "student.save('Models_lstm/lstm_healthcare_model_3_destilation.keras')"
   ]
  },
  {
   "cell_type": "code",
   "execution_count": 37,
   "id": "7c00295a",
   "metadata": {},
   "outputs": [
    {
     "name": "stdout",
     "output_type": "stream",
     "text": [
      "WARNING:tensorflow:From c:\\Users\\criju\\.conda\\envs\\ts\\Lib\\site-packages\\keras\\src\\backend\\tensorflow\\core.py:219: The name tf.placeholder is deprecated. Please use tf.compat.v1.placeholder instead.\n",
      "\n"
     ]
    },
    {
     "name": "stderr",
     "output_type": "stream",
     "text": [
      "c:\\Users\\criju\\.conda\\envs\\ts\\Lib\\site-packages\\keras\\src\\layers\\rnn\\rnn.py:200: UserWarning: Do not pass an `input_shape`/`input_dim` argument to a layer. When using Sequential models, prefer using an `Input(shape)` object as the first layer in the model instead.\n",
      "  super().__init__(**kwargs)\n"
     ]
    },
    {
     "data": {
      "text/html": [
       "<pre style=\"white-space:pre;overflow-x:auto;line-height:normal;font-family:Menlo,'DejaVu Sans Mono',consolas,'Courier New',monospace\"><span style=\"font-weight: bold\">Model: \"student_tor_1\"</span>\n",
       "</pre>\n"
      ],
      "text/plain": [
       "\u001b[1mModel: \"student_tor_1\"\u001b[0m\n"
      ]
     },
     "metadata": {},
     "output_type": "display_data"
    },
    {
     "data": {
      "text/html": [
       "<pre style=\"white-space:pre;overflow-x:auto;line-height:normal;font-family:Menlo,'DejaVu Sans Mono',consolas,'Courier New',monospace\">┏━━━━━━━━━━━━━━━━━━━━━━━━━━━━━━━━━┳━━━━━━━━━━━━━━━━━━━━━━━━┳━━━━━━━━━━━━━━━┓\n",
       "┃<span style=\"font-weight: bold\"> Layer (type)                    </span>┃<span style=\"font-weight: bold\"> Output Shape           </span>┃<span style=\"font-weight: bold\">       Param # </span>┃\n",
       "┡━━━━━━━━━━━━━━━━━━━━━━━━━━━━━━━━━╇━━━━━━━━━━━━━━━━━━━━━━━━╇━━━━━━━━━━━━━━━┩\n",
       "│ lstm_layer (<span style=\"color: #0087ff; text-decoration-color: #0087ff\">LSTM</span>)               │ (<span style=\"color: #00d7ff; text-decoration-color: #00d7ff\">None</span>, <span style=\"color: #00af00; text-decoration-color: #00af00\">50</span>)             │        <span style=\"color: #00af00; text-decoration-color: #00af00\">10,400</span> │\n",
       "├─────────────────────────────────┼────────────────────────┼───────────────┤\n",
       "│ clean_output (<span style=\"color: #0087ff; text-decoration-color: #0087ff\">Dense</span>)            │ (<span style=\"color: #00d7ff; text-decoration-color: #00d7ff\">None</span>, <span style=\"color: #00af00; text-decoration-color: #00af00\">1</span>)              │            <span style=\"color: #00af00; text-decoration-color: #00af00\">51</span> │\n",
       "├─────────────────────────────────┼────────────────────────┼───────────────┤\n",
       "│ teacher_output (<span style=\"color: #0087ff; text-decoration-color: #0087ff\">Dense</span>)          │ (<span style=\"color: #00d7ff; text-decoration-color: #00d7ff\">None</span>, <span style=\"color: #00af00; text-decoration-color: #00af00\">1</span>)              │            <span style=\"color: #00af00; text-decoration-color: #00af00\">51</span> │\n",
       "└─────────────────────────────────┴────────────────────────┴───────────────┘\n",
       "</pre>\n"
      ],
      "text/plain": [
       "┏━━━━━━━━━━━━━━━━━━━━━━━━━━━━━━━━━┳━━━━━━━━━━━━━━━━━━━━━━━━┳━━━━━━━━━━━━━━━┓\n",
       "┃\u001b[1m \u001b[0m\u001b[1mLayer (type)                   \u001b[0m\u001b[1m \u001b[0m┃\u001b[1m \u001b[0m\u001b[1mOutput Shape          \u001b[0m\u001b[1m \u001b[0m┃\u001b[1m \u001b[0m\u001b[1m      Param #\u001b[0m\u001b[1m \u001b[0m┃\n",
       "┡━━━━━━━━━━━━━━━━━━━━━━━━━━━━━━━━━╇━━━━━━━━━━━━━━━━━━━━━━━━╇━━━━━━━━━━━━━━━┩\n",
       "│ lstm_layer (\u001b[38;5;33mLSTM\u001b[0m)               │ (\u001b[38;5;45mNone\u001b[0m, \u001b[38;5;34m50\u001b[0m)             │        \u001b[38;5;34m10,400\u001b[0m │\n",
       "├─────────────────────────────────┼────────────────────────┼───────────────┤\n",
       "│ clean_output (\u001b[38;5;33mDense\u001b[0m)            │ (\u001b[38;5;45mNone\u001b[0m, \u001b[38;5;34m1\u001b[0m)              │            \u001b[38;5;34m51\u001b[0m │\n",
       "├─────────────────────────────────┼────────────────────────┼───────────────┤\n",
       "│ teacher_output (\u001b[38;5;33mDense\u001b[0m)          │ (\u001b[38;5;45mNone\u001b[0m, \u001b[38;5;34m1\u001b[0m)              │            \u001b[38;5;34m51\u001b[0m │\n",
       "└─────────────────────────────────┴────────────────────────┴───────────────┘\n"
      ]
     },
     "metadata": {},
     "output_type": "display_data"
    },
    {
     "data": {
      "text/html": [
       "<pre style=\"white-space:pre;overflow-x:auto;line-height:normal;font-family:Menlo,'DejaVu Sans Mono',consolas,'Courier New',monospace\"><span style=\"font-weight: bold\"> Total params: </span><span style=\"color: #00af00; text-decoration-color: #00af00\">10,502</span> (41.02 KB)\n",
       "</pre>\n"
      ],
      "text/plain": [
       "\u001b[1m Total params: \u001b[0m\u001b[38;5;34m10,502\u001b[0m (41.02 KB)\n"
      ]
     },
     "metadata": {},
     "output_type": "display_data"
    },
    {
     "data": {
      "text/html": [
       "<pre style=\"white-space:pre;overflow-x:auto;line-height:normal;font-family:Menlo,'DejaVu Sans Mono',consolas,'Courier New',monospace\"><span style=\"font-weight: bold\"> Trainable params: </span><span style=\"color: #00af00; text-decoration-color: #00af00\">10,502</span> (41.02 KB)\n",
       "</pre>\n"
      ],
      "text/plain": [
       "\u001b[1m Trainable params: \u001b[0m\u001b[38;5;34m10,502\u001b[0m (41.02 KB)\n"
      ]
     },
     "metadata": {},
     "output_type": "display_data"
    },
    {
     "data": {
      "text/html": [
       "<pre style=\"white-space:pre;overflow-x:auto;line-height:normal;font-family:Menlo,'DejaVu Sans Mono',consolas,'Courier New',monospace\"><span style=\"font-weight: bold\"> Non-trainable params: </span><span style=\"color: #00af00; text-decoration-color: #00af00\">0</span> (0.00 B)\n",
       "</pre>\n"
      ],
      "text/plain": [
       "\u001b[1m Non-trainable params: \u001b[0m\u001b[38;5;34m0\u001b[0m (0.00 B)\n"
      ]
     },
     "metadata": {},
     "output_type": "display_data"
    }
   ],
   "source": [
    "# Luego, para cargar sin errores:\n",
    "lstm_model = tf.keras.models.load_model(\n",
    "    \"Models_lstm/lstm_healthcare_model_3_destilation.keras\",\n",
    "    compile=False\n",
    ")\n",
    "lstm_model.summary()"
   ]
  },
  {
   "cell_type": "code",
   "execution_count": 38,
   "id": "9705e84d",
   "metadata": {},
   "outputs": [
    {
     "data": {
      "text/plain": [
       "array([ 1.54375505, -2.75533152, -1.20078635, ..., -0.39933625,\n",
       "       -0.17729302, -0.86397123])"
      ]
     },
     "execution_count": 38,
     "metadata": {},
     "output_type": "execute_result"
    }
   ],
   "source": [
    "y_val"
   ]
  },
  {
   "cell_type": "code",
   "execution_count": null,
   "id": "77045a72",
   "metadata": {},
   "outputs": [
    {
     "data": {
      "image/png": "[encoded data removed]",
      "text/plain": [
       "<Figure size 640x480 with 1 Axes>"
      ]
     },
     "metadata": {},
     "output_type": "display_data"
    },
    {
     "ename": "",
     "evalue": "",
     "output_type": "error",
     "traceback": [
      "\u001b[1;31mThe Kernel crashed while executing code in the current cell or a previous cell. \n",
      "\u001b[1;31mPlease review the code in the cell(s) to identify a possible cause of the failure. \n",
      "\u001b[1;31mClick <a href='https://aka.ms/vscodeJupyterKernelCrash'>here</a> for more info. \n",
      "\u001b[1;31mView Jupyter <a href='command:jupyter.viewOutput'>log</a> for further details."
     ]
    }
   ],
   "source": [
    "import random\n",
    "import matplotlib.pyplot as plt\n",
    "\n",
    "# Tus listas originales:\n",
    "# y_val, r_t_val, Rd_output , y_val_normalized\n",
    "\n",
    "# Asegúrate de que todas tengan la misma longitud n ≥ 20\n",
    "n = len(y_val)\n",
    "\n",
    "# Elige un índice de inicio aleatorio tal que haya espacio para 20 puntos\n",
    "inicio = random.randint(0, n - 20)\n",
    "fin = inicio + 20\n",
    "\n",
    "# Crea un eje X con los índices reales para ese intervalo\n",
    "x = list(range(inicio, fin))\n",
    "\n",
    "# Extrae los subrangos de cada serie\n",
    "y_segmento     = y_val[inicio:fin]\n",
    "teacher_segmento = r_t_val[inicio:fin]\n",
    "destilado_segmento = Rd_output[inicio:fin]\n",
    "\n",
    "# Grafica solo el intervalo seleccionado\n",
    "plt.figure()\n",
    "plt.plot(x, y_segmento,         label='real')\n",
    "plt.plot(x, teacher_segmento,   label='teacher')\n",
    "plt.plot(x, destilado_segmento, label='destilado')\n",
    "\n",
    "plt.xlabel('Índice')\n",
    "plt.ylabel('Valor')\n",
    "plt.title(f'Intervalo aleatorio de índices {inicio}–{fin-1}')\n",
    "plt.legend()\n",
    "plt.tight_layout()\n",
    "plt.show()\n"
   ]
  },
  {
   "cell_type": "code",
   "execution_count": 90,
   "id": "e42d86d4",
   "metadata": {},
   "outputs": [
    {
     "data": {
      "text/plain": [
       "[-0.013425987213850021,\n",
       " -0.04116477817296982,\n",
       " -0.03872308135032654,\n",
       " -0.028440317139029503,\n",
       " -0.03125398978590965,\n",
       " -0.04009415581822395,\n",
       " -0.000572111108340323,\n",
       " -0.023043498396873474,\n",
       " -0.0362803116440773,\n",
       " -0.04812801256775856,\n",
       " -0.020225299522280693,\n",
       " -0.031082607805728912,\n",
       " -0.018917957320809364,\n",
       " -0.03904395177960396,\n",
       " -0.034790780395269394,\n",
       " -0.041790712624788284,\n",
       " -0.03533174842596054,\n",
       " -0.011693201027810574,\n",
       " -0.02769031561911106,\n",
       " -0.021585732698440552]"
      ]
     },
     "execution_count": 90,
     "metadata": {},
     "output_type": "execute_result"
    }
   ],
   "source": [
    "history.history['val_tor_loss']"
   ]
  }
 ],
 "metadata": {
  "kernelspec": {
   "display_name": "ts",
   "language": "python",
   "name": "python3"
  },
  "language_info": {
   "codemirror_mode": {
    "name": "ipython",
    "version": 3
   },
   "file_extension": ".py",
   "mimetype": "text/x-python",
   "name": "python",
   "nbconvert_exporter": "python",
   "pygments_lexer": "ipython3",
   "version": "3.11.10"
  }
 },
 "nbformat": 4,
 "nbformat_minor": 5
}
