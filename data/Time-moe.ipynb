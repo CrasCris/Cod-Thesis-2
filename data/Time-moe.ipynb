{
 "cells": [
  {
   "cell_type": "markdown",
   "id": "5dbd35ea",
   "metadata": {},
   "source": [
    "# Time-Moe"
   ]
  },
  {
   "cell_type": "code",
   "execution_count": 1,
   "id": "f9279b4d",
   "metadata": {},
   "outputs": [],
   "source": [
    "import pandas as pd\n",
    "import numpy as np\n",
    "import matplotlib.pyplot as plt\n",
    "from matplotlib.ticker import MaxNLocator\n",
    "from sklearn.preprocessing import MinMaxScaler\n",
    "from sklearn.metrics import mean_absolute_error, mean_squared_error\n",
    "import torch\n",
    "from transformers import AutoTokenizer, AutoModelForCausalLM\n",
    "\n",
    "\n",
    "# Importing custom functions\n",
    "import sys\n",
    "import os\n",
    "root_path = os.path.abspath(os.path.join(os.getcwd(), '..'))\n",
    "sys.path.append(root_path)\n",
    "\n",
    "from baseline.functions import load_data,create_intervals,create_windows,smape,create_intervals_moe\n",
    "\n",
    "# Loss folder path images\n",
    "loss_folder = 'C:/Users/criju/Documents/Cod-Thesis-2/time_moe/loss-plots'\n",
    "os.makedirs(loss_folder, exist_ok=True)\n",
    "\n",
    "# Result folder path\n",
    "result_folder = 'C:/Users/criju/Documents/Cod-Thesis-2/time_moe/results'\n",
    "os.makedirs(result_folder, exist_ok=True)"
   ]
  },
  {
   "cell_type": "code",
   "execution_count": null,
   "id": "368123ad",
   "metadata": {},
   "outputs": [
    {
     "name": "stderr",
     "output_type": "stream",
     "text": [
      "C:\\Users\\criju\\AppData\\Roaming\\Python\\Python311\\site-packages\\huggingface_hub\\file_download.py:943: FutureWarning: `resume_download` is deprecated and will be removed in version 1.0.0. Downloads always resume when possible. If you want to force a new download, use `force_download=True`.\n",
      "  warnings.warn(\n"
     ]
    },
    {
     "data": {
      "application/vnd.jupyter.widget-view+json": {
       "model_id": "9e934ef46c5a43408e38f0ba87440470",
       "version_major": 2,
       "version_minor": 0
      },
      "text/plain": [
       "config.json:   0%|          | 0.00/891 [00:00<?, ?B/s]"
      ]
     },
     "metadata": {},
     "output_type": "display_data"
    },
    {
     "data": {
      "application/vnd.jupyter.widget-view+json": {
       "model_id": "3b8ff533f6fa4ce3840f2159e4fb9483",
       "version_major": 2,
       "version_minor": 0
      },
      "text/plain": [
       "configuration_time_moe.py:   0%|          | 0.00/2.50k [00:00<?, ?B/s]"
      ]
     },
     "metadata": {},
     "output_type": "display_data"
    },
    {
     "name": "stderr",
     "output_type": "stream",
     "text": [
      "A new version of the following files was downloaded from https://huggingface.co/Maple728/TimeMoE-50M:\n",
      "- configuration_time_moe.py\n",
      ". Make sure to double-check they do not contain any added malicious code. To avoid downloading new versions of the code file, you can pin a revision.\n"
     ]
    },
    {
     "data": {
      "application/vnd.jupyter.widget-view+json": {
       "model_id": "6283b25d70d8499cb12f3fb0388ea64d",
       "version_major": 2,
       "version_minor": 0
      },
      "text/plain": [
       "modeling_time_moe.py:   0%|          | 0.00/51.9k [00:00<?, ?B/s]"
      ]
     },
     "metadata": {},
     "output_type": "display_data"
    },
    {
     "data": {
      "application/vnd.jupyter.widget-view+json": {
       "model_id": "56ce2b497aec4e1a9c7424b6bf4f0002",
       "version_major": 2,
       "version_minor": 0
      },
      "text/plain": [
       "ts_generation_mixin.py:   0%|          | 0.00/11.5k [00:00<?, ?B/s]"
      ]
     },
     "metadata": {},
     "output_type": "display_data"
    },
    {
     "name": "stderr",
     "output_type": "stream",
     "text": [
      "A new version of the following files was downloaded from https://huggingface.co/Maple728/TimeMoE-50M:\n",
      "- ts_generation_mixin.py\n",
      ". Make sure to double-check they do not contain any added malicious code. To avoid downloading new versions of the code file, you can pin a revision.\n",
      "A new version of the following files was downloaded from https://huggingface.co/Maple728/TimeMoE-50M:\n",
      "- modeling_time_moe.py\n",
      "- ts_generation_mixin.py\n",
      ". Make sure to double-check they do not contain any added malicious code. To avoid downloading new versions of the code file, you can pin a revision.\n",
      "W0613 08:33:38.701000 29236 torch\\distributed\\elastic\\multiprocessing\\redirects.py:29] NOTE: Redirects are currently not supported in Windows or MacOs.\n",
      "C:\\Users\\criju\\AppData\\Roaming\\Python\\Python311\\site-packages\\huggingface_hub\\file_download.py:943: FutureWarning: `resume_download` is deprecated and will be removed in version 1.0.0. Downloads always resume when possible. If you want to force a new download, use `force_download=True`.\n",
      "  warnings.warn(\n"
     ]
    },
    {
     "data": {
      "application/vnd.jupyter.widget-view+json": {
       "model_id": "8e70684cb8f24ee59818ef1b503c0054",
       "version_major": 2,
       "version_minor": 0
      },
      "text/plain": [
       "model.safetensors:   0%|          | 0.00/227M [00:00<?, ?B/s]"
      ]
     },
     "metadata": {},
     "output_type": "display_data"
    },
    {
     "data": {
      "application/vnd.jupyter.widget-view+json": {
       "model_id": "5fd29c800fa345edb2a91baa3f44f1a9",
       "version_major": 2,
       "version_minor": 0
      },
      "text/plain": [
       "generation_config.json:   0%|          | 0.00/69.0 [00:00<?, ?B/s]"
      ]
     },
     "metadata": {},
     "output_type": "display_data"
    },
    {
     "name": "stdout",
     "output_type": "stream",
     "text": [
      "tensor([[ 0.8337,  0.6320,  0.6153,  0.6196,  0.6015,  0.5881],\n",
      "        [-0.2941, -0.2039, -0.2329, -0.2081, -0.1953, -0.1886]])\n"
     ]
    }
   ],
   "source": [
    "# Excetue this cell for test TimeMoE installation\n",
    "\n",
    "import torch\n",
    "from transformers import AutoModelForCausalLM\n",
    "\n",
    "context_length = 12\n",
    "seqs = torch.randn(2, context_length)  # tensor shape is [batch_size, context_length]\n",
    "\n",
    "model = AutoModelForCausalLM.from_pretrained(\n",
    "    'Maple728/TimeMoE-50M',\n",
    "    device_map=\"cpu\",  # use \"cpu\" for CPU inference, and \"cuda\" for GPU inference.\n",
    "    trust_remote_code=True,\n",
    ")\n",
    "\n",
    "# use it when the flash-attn is available\n",
    "# model = AutoModelForCausalLM.from_pretrained('Maple728/TimeMoE-50M', device_map=\"auto\", attn_implementation='flash_attention_2', trust_remote_code=True)\n",
    "\n",
    "# normalize seqs\n",
    "mean, std = seqs.mean(dim=-1, keepdim=True), seqs.std(dim=-1, keepdim=True)\n",
    "normed_seqs = (seqs - mean) / std\n",
    "\n",
    "# forecast\n",
    "prediction_length = 6\n",
    "output = model.generate(normed_seqs, max_new_tokens=prediction_length)  # shape is [batch_size, 12 + 6]\n",
    "normed_predictions = output[:, -prediction_length:]  # shape is [batch_size, 6]\n",
    "\n",
    "# inverse normalize\n",
    "predictions = normed_predictions * std + mean\n",
    "print(predictions)"
   ]
  }
 ],
 "metadata": {
  "kernelspec": {
   "display_name": "base",
   "language": "python",
   "name": "python3"
  },
  "language_info": {
   "codemirror_mode": {
    "name": "ipython",
    "version": 3
   },
   "file_extension": ".py",
   "mimetype": "text/x-python",
   "name": "python",
   "nbconvert_exporter": "python",
   "pygments_lexer": "ipython3",
   "version": "3.11.5"
  }
 },
 "nbformat": 4,
 "nbformat_minor": 5
}
