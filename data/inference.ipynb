{
 "cells": [
  {
   "cell_type": "markdown",
   "id": "d559cf4c",
   "metadata": {},
   "source": [
    "### Inferencia\n",
    "En este notebook vamos a realizar la inferencia sobre los dataset de Covid-19 en Colombia y además como caso especifico en Santander un departamento de colombia, usaremos los modelos destilados que entrenamos previamente en los notebooks de Main_neural y Main."
   ]
  },
  {
   "cell_type": "markdown",
   "id": "5f370980",
   "metadata": {},
   "source": [
    "### Santander"
   ]
  },
  {
   "cell_type": "code",
   "execution_count": 1,
   "id": "ac6810a7",
   "metadata": {},
   "outputs": [],
   "source": [
    "import numpy as np\n",
    "# Importing custom functions\n",
    "import sys\n",
    "import os\n",
    "root_path = os.path.abspath(os.path.join(os.getcwd(), '..'))\n",
    "sys.path.append(root_path)\n",
    "\n",
    "from baseline.functions import load_data,create_intervals,create_windows,smape,smape_chunked,sample_fraction\n",
    "from sklearn.metrics import mean_absolute_error, mean_squared_error\n",
    "import numpy as np\n",
    "\n",
    "def create_windows_2(data, window_size=15, horizon=1):\n",
    "    \"\"\"\n",
    "    Crea ventanas deslizantes (X, y) a partir de:\n",
    "      - data: puede ser\n",
    "          * un numpy array 1D (una sola serie temporal), o\n",
    "          * una lista/iterable de numpy arrays 1D (varias series).\n",
    "    Parámetros:\n",
    "      - window_size: número de pasos de entrada por ventana X\n",
    "      - horizon: pasos a predecir (por defecto 1)\n",
    "    Devuelve:\n",
    "      - X: array de shape (num_samples, window_size, 1)\n",
    "      - y: array de shape (num_samples,) si horizon=1,\n",
    "             o (num_samples, horizon) en otro caso.\n",
    "    \"\"\"\n",
    "    # Si data es un array 1D, lo convertimos en lista de una sola secuencia\n",
    "    if isinstance(data, np.ndarray) and data.ndim == 1:\n",
    "        sequences = [data]\n",
    "    else:\n",
    "        # Asumimos que data es iterable de arrays 1D\n",
    "        sequences = [np.asarray(seq).astype(float) for seq in data]\n",
    "\n",
    "    X_list, y_list = [], []\n",
    "\n",
    "    for arr in sequences:\n",
    "        T = arr.shape[0]\n",
    "        # Solo procesar si hay suficiente longitud\n",
    "        if T >= window_size + horizon:\n",
    "            for start in range(T - window_size - horizon + 1):\n",
    "                window = arr[start : start + window_size]\n",
    "                target = arr[start + window_size : start + window_size + horizon]\n",
    "                X_list.append(window.reshape(window_size, 1))\n",
    "                # Si horizon=1 devolvemos escalar, si no, el vector entero\n",
    "                y_list.append(target[0] if horizon == 1 else target)\n",
    "\n",
    "    # Si no se creó ninguna muestra, devolvemos arrays vacíos con las formas correctas\n",
    "    if not X_list:\n",
    "        X = np.empty((0, window_size, 1))\n",
    "        y = np.empty((0,)) if horizon == 1 else np.empty((0, horizon))\n",
    "        return X, y\n",
    "\n",
    "    X = np.stack(X_list, axis=0)\n",
    "    y = np.array(y_list)\n",
    "\n",
    "    # Filtrar muestras que contengan NaN en X o en y\n",
    "    mask_valid = ~np.isnan(X).any(axis=(1,2))\n",
    "    if horizon == 1:\n",
    "        mask_valid &= ~np.isnan(y)\n",
    "    else:\n",
    "        mask_valid &= ~np.isnan(y).any(axis=1)\n",
    "\n",
    "    X_clean = X[mask_valid]\n",
    "    y_clean = y[mask_valid]\n",
    "\n",
    "    print(f\"De {X.shape[0]} muestras, quedan {X_clean.shape[0]} sin NaN\")\n",
    "    return X_clean, y_clean"
   ]
  },
  {
   "cell_type": "code",
   "execution_count": 2,
   "id": "bccdfa37",
   "metadata": {},
   "outputs": [
    {
     "name": "stdout",
     "output_type": "stream",
     "text": [
      "De 1114 muestras, quedan 1114 sin NaN\n"
     ]
    }
   ],
   "source": [
    "data = load_data('serie.csv')\n",
    "serie= data['Frecuencia'].values\n",
    "X, y  = create_windows_2(serie)"
   ]
  },
  {
   "cell_type": "code",
   "execution_count": 3,
   "id": "054aa598",
   "metadata": {},
   "outputs": [],
   "source": [
    "# load models\n",
    "import torch\n",
    "import torch.nn as nn\n",
    "from torchdiffeq import odeint\n",
    "import tensorflow as tf"
   ]
  },
  {
   "cell_type": "code",
   "execution_count": 4,
   "id": "e4642428",
   "metadata": {},
   "outputs": [
    {
     "data": {
      "text/plain": [
       "NeuralODEModel(\n",
       "  (odefunc): ODEFunc(\n",
       "    (net): Sequential(\n",
       "      (0): Linear(in_features=1, out_features=50, bias=True)\n",
       "      (1): Tanh()\n",
       "      (2): Linear(in_features=50, out_features=1, bias=True)\n",
       "    )\n",
       "  )\n",
       ")"
      ]
     },
     "execution_count": 4,
     "metadata": {},
     "output_type": "execute_result"
    }
   ],
   "source": [
    "class ODEFunc(nn.Module):\n",
    "    def __init__(self):\n",
    "        super().__init__()\n",
    "        self.net = nn.Sequential(\n",
    "            nn.Linear(1, 50),\n",
    "            nn.Tanh(),\n",
    "            nn.Linear(50, 1)\n",
    "        )\n",
    "\n",
    "    def forward(self, t, x):\n",
    "        return self.net(x)\n",
    "\n",
    "class NeuralODEModel(nn.Module):\n",
    "    def __init__(self):\n",
    "        super().__init__()\n",
    "        self.odefunc = ODEFunc()\n",
    "    \n",
    "    def forward(self, x):\n",
    "        # x: [batch_size, seq_len, features]\n",
    "        device = x.device\n",
    "        seq_len = x.shape[1]\n",
    "        # Crear t en el dispositivo correcto\n",
    "        t = torch.linspace(0, 1, seq_len, device=device)\n",
    "        # Estado inicial para cada muestra: último valor de la secuencia\n",
    "        # Si features=1, x[:, -1, :] es [batch_size, 1]\n",
    "        y0 = x[:, -1, :]\n",
    "        # Integrar en batch: devuelve [len(t), batch_size, features]\n",
    "        out = odeint(self.odefunc, y0, t, method='rk4')\n",
    "        # Tomar el valor final en t=1 para cada muestra\n",
    "        y_final = out[-1]\n",
    "        return y_final  # forma [batch_size, features]\n",
    "    \n",
    "# 1. Carga el checkpoint completo\n",
    "checkpoint = torch.load(\"Models_neural/modelo_3_dest.pth\", map_location=\"cpu\")\n",
    "checkpoint_2 = torch.load(\"Models_neural/modelo_3.pth\", map_location=\"cpu\")\n",
    "\n",
    "# 2. Filtra y renombra solo los pesos de 'backbone'\n",
    "new_state_dict = {}\n",
    "for k, v in checkpoint.items():\n",
    "    if k.startswith(\"backbone.odefunc.\"):\n",
    "        # elimino el prefijo \"backbone.\"\n",
    "        new_key = k.replace(\"backbone.\", \"\")\n",
    "        new_state_dict[new_key] = v\n",
    "\n",
    "\n",
    "# 3. Crea tu modelo y carga con strict=False para ignorar lo que falte\n",
    "ode_model = NeuralODEModel()\n",
    "missing, unexpected = ode_model.load_state_dict(checkpoint, strict=False)\n",
    "ode_model.eval()\n",
    "\n",
    "\n",
    "# 2. Filtra y renombra solo los pesos de 'backbone'\n",
    "new_state_dict = {}\n",
    "for k, v in checkpoint_2.items():\n",
    "    if k.startswith(\"backbone.odefunc.\"):\n",
    "        # elimino el prefijo \"backbone.\"\n",
    "        new_key = k.replace(\"backbone.\", \"\")\n",
    "        new_state_dict[new_key] = v\n",
    "\n",
    "\n",
    "# 3. Crea tu modelo y carga con strict=False para ignorar lo que falte\n",
    "ode_model_2 = NeuralODEModel()\n",
    "missing, unexpected = ode_model_2.load_state_dict(checkpoint_2, strict=False)\n",
    "ode_model_2.eval()"
   ]
  },
  {
   "cell_type": "code",
   "execution_count": 5,
   "id": "a4caf3ee",
   "metadata": {},
   "outputs": [
    {
     "name": "stderr",
     "output_type": "stream",
     "text": [
      "c:\\Users\\criju\\.conda\\envs\\ts\\Lib\\site-packages\\keras\\src\\layers\\rnn\\rnn.py:200: UserWarning: Do not pass an `input_shape`/`input_dim` argument to a layer. When using Sequential models, prefer using an `Input(shape)` object as the first layer in the model instead.\n",
      "  super().__init__(**kwargs)\n"
     ]
    },
    {
     "name": "stdout",
     "output_type": "stream",
     "text": [
      "WARNING:tensorflow:From c:\\Users\\criju\\.conda\\envs\\ts\\Lib\\site-packages\\keras\\src\\backend\\tensorflow\\core.py:219: The name tf.placeholder is deprecated. Please use tf.compat.v1.placeholder instead.\n",
      "\n"
     ]
    },
    {
     "data": {
      "text/html": [
       "<pre style=\"white-space:pre;overflow-x:auto;line-height:normal;font-family:Menlo,'DejaVu Sans Mono',consolas,'Courier New',monospace\"><span style=\"font-weight: bold\">Model: \"student_tor\"</span>\n",
       "</pre>\n"
      ],
      "text/plain": [
       "\u001b[1mModel: \"student_tor\"\u001b[0m\n"
      ]
     },
     "metadata": {},
     "output_type": "display_data"
    },
    {
     "data": {
      "text/html": [
       "<pre style=\"white-space:pre;overflow-x:auto;line-height:normal;font-family:Menlo,'DejaVu Sans Mono',consolas,'Courier New',monospace\">┏━━━━━━━━━━━━━━━━━━━━━━━━━━━━━━━━━┳━━━━━━━━━━━━━━━━━━━━━━━━┳━━━━━━━━━━━━━━━┓\n",
       "┃<span style=\"font-weight: bold\"> Layer (type)                    </span>┃<span style=\"font-weight: bold\"> Output Shape           </span>┃<span style=\"font-weight: bold\">       Param # </span>┃\n",
       "┡━━━━━━━━━━━━━━━━━━━━━━━━━━━━━━━━━╇━━━━━━━━━━━━━━━━━━━━━━━━╇━━━━━━━━━━━━━━━┩\n",
       "│ lstm_layer (<span style=\"color: #0087ff; text-decoration-color: #0087ff\">LSTM</span>)               │ (<span style=\"color: #00d7ff; text-decoration-color: #00d7ff\">None</span>, <span style=\"color: #00af00; text-decoration-color: #00af00\">50</span>)             │        <span style=\"color: #00af00; text-decoration-color: #00af00\">10,400</span> │\n",
       "├─────────────────────────────────┼────────────────────────┼───────────────┤\n",
       "│ clean_output (<span style=\"color: #0087ff; text-decoration-color: #0087ff\">Dense</span>)            │ (<span style=\"color: #00d7ff; text-decoration-color: #00d7ff\">None</span>, <span style=\"color: #00af00; text-decoration-color: #00af00\">1</span>)              │            <span style=\"color: #00af00; text-decoration-color: #00af00\">51</span> │\n",
       "├─────────────────────────────────┼────────────────────────┼───────────────┤\n",
       "│ teacher_output (<span style=\"color: #0087ff; text-decoration-color: #0087ff\">Dense</span>)          │ (<span style=\"color: #00d7ff; text-decoration-color: #00d7ff\">None</span>, <span style=\"color: #00af00; text-decoration-color: #00af00\">1</span>)              │            <span style=\"color: #00af00; text-decoration-color: #00af00\">51</span> │\n",
       "└─────────────────────────────────┴────────────────────────┴───────────────┘\n",
       "</pre>\n"
      ],
      "text/plain": [
       "┏━━━━━━━━━━━━━━━━━━━━━━━━━━━━━━━━━┳━━━━━━━━━━━━━━━━━━━━━━━━┳━━━━━━━━━━━━━━━┓\n",
       "┃\u001b[1m \u001b[0m\u001b[1mLayer (type)                   \u001b[0m\u001b[1m \u001b[0m┃\u001b[1m \u001b[0m\u001b[1mOutput Shape          \u001b[0m\u001b[1m \u001b[0m┃\u001b[1m \u001b[0m\u001b[1m      Param #\u001b[0m\u001b[1m \u001b[0m┃\n",
       "┡━━━━━━━━━━━━━━━━━━━━━━━━━━━━━━━━━╇━━━━━━━━━━━━━━━━━━━━━━━━╇━━━━━━━━━━━━━━━┩\n",
       "│ lstm_layer (\u001b[38;5;33mLSTM\u001b[0m)               │ (\u001b[38;5;45mNone\u001b[0m, \u001b[38;5;34m50\u001b[0m)             │        \u001b[38;5;34m10,400\u001b[0m │\n",
       "├─────────────────────────────────┼────────────────────────┼───────────────┤\n",
       "│ clean_output (\u001b[38;5;33mDense\u001b[0m)            │ (\u001b[38;5;45mNone\u001b[0m, \u001b[38;5;34m1\u001b[0m)              │            \u001b[38;5;34m51\u001b[0m │\n",
       "├─────────────────────────────────┼────────────────────────┼───────────────┤\n",
       "│ teacher_output (\u001b[38;5;33mDense\u001b[0m)          │ (\u001b[38;5;45mNone\u001b[0m, \u001b[38;5;34m1\u001b[0m)              │            \u001b[38;5;34m51\u001b[0m │\n",
       "└─────────────────────────────────┴────────────────────────┴───────────────┘\n"
      ]
     },
     "metadata": {},
     "output_type": "display_data"
    },
    {
     "data": {
      "text/html": [
       "<pre style=\"white-space:pre;overflow-x:auto;line-height:normal;font-family:Menlo,'DejaVu Sans Mono',consolas,'Courier New',monospace\"><span style=\"font-weight: bold\"> Total params: </span><span style=\"color: #00af00; text-decoration-color: #00af00\">10,502</span> (41.02 KB)\n",
       "</pre>\n"
      ],
      "text/plain": [
       "\u001b[1m Total params: \u001b[0m\u001b[38;5;34m10,502\u001b[0m (41.02 KB)\n"
      ]
     },
     "metadata": {},
     "output_type": "display_data"
    },
    {
     "data": {
      "text/html": [
       "<pre style=\"white-space:pre;overflow-x:auto;line-height:normal;font-family:Menlo,'DejaVu Sans Mono',consolas,'Courier New',monospace\"><span style=\"font-weight: bold\"> Trainable params: </span><span style=\"color: #00af00; text-decoration-color: #00af00\">10,502</span> (41.02 KB)\n",
       "</pre>\n"
      ],
      "text/plain": [
       "\u001b[1m Trainable params: \u001b[0m\u001b[38;5;34m10,502\u001b[0m (41.02 KB)\n"
      ]
     },
     "metadata": {},
     "output_type": "display_data"
    },
    {
     "data": {
      "text/html": [
       "<pre style=\"white-space:pre;overflow-x:auto;line-height:normal;font-family:Menlo,'DejaVu Sans Mono',consolas,'Courier New',monospace\"><span style=\"font-weight: bold\"> Non-trainable params: </span><span style=\"color: #00af00; text-decoration-color: #00af00\">0</span> (0.00 B)\n",
       "</pre>\n"
      ],
      "text/plain": [
       "\u001b[1m Non-trainable params: \u001b[0m\u001b[38;5;34m0\u001b[0m (0.00 B)\n"
      ]
     },
     "metadata": {},
     "output_type": "display_data"
    },
    {
     "data": {
      "text/html": [
       "<pre style=\"white-space:pre;overflow-x:auto;line-height:normal;font-family:Menlo,'DejaVu Sans Mono',consolas,'Courier New',monospace\"><span style=\"font-weight: bold\">Model: \"sequential_2\"</span>\n",
       "</pre>\n"
      ],
      "text/plain": [
       "\u001b[1mModel: \"sequential_2\"\u001b[0m\n"
      ]
     },
     "metadata": {},
     "output_type": "display_data"
    },
    {
     "data": {
      "text/html": [
       "<pre style=\"white-space:pre;overflow-x:auto;line-height:normal;font-family:Menlo,'DejaVu Sans Mono',consolas,'Courier New',monospace\">┏━━━━━━━━━━━━━━━━━━━━━━━━━━━━━━━━━┳━━━━━━━━━━━━━━━━━━━━━━━━┳━━━━━━━━━━━━━━━┓\n",
       "┃<span style=\"font-weight: bold\"> Layer (type)                    </span>┃<span style=\"font-weight: bold\"> Output Shape           </span>┃<span style=\"font-weight: bold\">       Param # </span>┃\n",
       "┡━━━━━━━━━━━━━━━━━━━━━━━━━━━━━━━━━╇━━━━━━━━━━━━━━━━━━━━━━━━╇━━━━━━━━━━━━━━━┩\n",
       "│ lstm_2 (<span style=\"color: #0087ff; text-decoration-color: #0087ff\">LSTM</span>)                   │ (<span style=\"color: #00d7ff; text-decoration-color: #00d7ff\">None</span>, <span style=\"color: #00af00; text-decoration-color: #00af00\">50</span>)             │        <span style=\"color: #00af00; text-decoration-color: #00af00\">10,400</span> │\n",
       "├─────────────────────────────────┼────────────────────────┼───────────────┤\n",
       "│ dense_2 (<span style=\"color: #0087ff; text-decoration-color: #0087ff\">Dense</span>)                 │ (<span style=\"color: #00d7ff; text-decoration-color: #00d7ff\">None</span>, <span style=\"color: #00af00; text-decoration-color: #00af00\">1</span>)              │            <span style=\"color: #00af00; text-decoration-color: #00af00\">51</span> │\n",
       "└─────────────────────────────────┴────────────────────────┴───────────────┘\n",
       "</pre>\n"
      ],
      "text/plain": [
       "┏━━━━━━━━━━━━━━━━━━━━━━━━━━━━━━━━━┳━━━━━━━━━━━━━━━━━━━━━━━━┳━━━━━━━━━━━━━━━┓\n",
       "┃\u001b[1m \u001b[0m\u001b[1mLayer (type)                   \u001b[0m\u001b[1m \u001b[0m┃\u001b[1m \u001b[0m\u001b[1mOutput Shape          \u001b[0m\u001b[1m \u001b[0m┃\u001b[1m \u001b[0m\u001b[1m      Param #\u001b[0m\u001b[1m \u001b[0m┃\n",
       "┡━━━━━━━━━━━━━━━━━━━━━━━━━━━━━━━━━╇━━━━━━━━━━━━━━━━━━━━━━━━╇━━━━━━━━━━━━━━━┩\n",
       "│ lstm_2 (\u001b[38;5;33mLSTM\u001b[0m)                   │ (\u001b[38;5;45mNone\u001b[0m, \u001b[38;5;34m50\u001b[0m)             │        \u001b[38;5;34m10,400\u001b[0m │\n",
       "├─────────────────────────────────┼────────────────────────┼───────────────┤\n",
       "│ dense_2 (\u001b[38;5;33mDense\u001b[0m)                 │ (\u001b[38;5;45mNone\u001b[0m, \u001b[38;5;34m1\u001b[0m)              │            \u001b[38;5;34m51\u001b[0m │\n",
       "└─────────────────────────────────┴────────────────────────┴───────────────┘\n"
      ]
     },
     "metadata": {},
     "output_type": "display_data"
    },
    {
     "data": {
      "text/html": [
       "<pre style=\"white-space:pre;overflow-x:auto;line-height:normal;font-family:Menlo,'DejaVu Sans Mono',consolas,'Courier New',monospace\"><span style=\"font-weight: bold\"> Total params: </span><span style=\"color: #00af00; text-decoration-color: #00af00\">10,451</span> (40.82 KB)\n",
       "</pre>\n"
      ],
      "text/plain": [
       "\u001b[1m Total params: \u001b[0m\u001b[38;5;34m10,451\u001b[0m (40.82 KB)\n"
      ]
     },
     "metadata": {},
     "output_type": "display_data"
    },
    {
     "data": {
      "text/html": [
       "<pre style=\"white-space:pre;overflow-x:auto;line-height:normal;font-family:Menlo,'DejaVu Sans Mono',consolas,'Courier New',monospace\"><span style=\"font-weight: bold\"> Trainable params: </span><span style=\"color: #00af00; text-decoration-color: #00af00\">10,451</span> (40.82 KB)\n",
       "</pre>\n"
      ],
      "text/plain": [
       "\u001b[1m Trainable params: \u001b[0m\u001b[38;5;34m10,451\u001b[0m (40.82 KB)\n"
      ]
     },
     "metadata": {},
     "output_type": "display_data"
    },
    {
     "data": {
      "text/html": [
       "<pre style=\"white-space:pre;overflow-x:auto;line-height:normal;font-family:Menlo,'DejaVu Sans Mono',consolas,'Courier New',monospace\"><span style=\"font-weight: bold\"> Non-trainable params: </span><span style=\"color: #00af00; text-decoration-color: #00af00\">0</span> (0.00 B)\n",
       "</pre>\n"
      ],
      "text/plain": [
       "\u001b[1m Non-trainable params: \u001b[0m\u001b[38;5;34m0\u001b[0m (0.00 B)\n"
      ]
     },
     "metadata": {},
     "output_type": "display_data"
    }
   ],
   "source": [
    "import numpy as np\n",
    "import tensorflow as tf\n",
    "from tensorflow.keras import Model\n",
    "from tensorflow.keras.layers import LSTM, Dense\n",
    "\n",
    "@tf.keras.utils.register_keras_serializable(package=\"CustomModels\")\n",
    "class StudentTOR(Model):\n",
    "    def __init__(\n",
    "        self,\n",
    "        window_size: int,\n",
    "        n_features: int,\n",
    "        lstm_units: int,\n",
    "        epsilon: float,\n",
    "        c_tor: float = 1.0,\n",
    "        c_dist: float = 1.0,\n",
    "        **kwargs\n",
    "    ):\n",
    "        super().__init__(**kwargs)\n",
    "        # Guardamos los hiperparámetros para serializar\n",
    "        self.window_size = window_size\n",
    "        self.n_features  = n_features\n",
    "        self.lstm_units  = lstm_units\n",
    "        self.epsilon     = epsilon\n",
    "        self.c_tor       = c_tor\n",
    "        self.c_dist      = c_dist\n",
    "\n",
    "        self.lstm = LSTM(\n",
    "            lstm_units,\n",
    "            input_shape=(window_size, n_features),\n",
    "            name=\"lstm_layer\"\n",
    "        )\n",
    "        self.dense_clean   = Dense(1, name=\"clean_output\")\n",
    "        self.dense_teacher = Dense(1, name=\"teacher_output\")\n",
    "\n",
    "    def call(self, inputs, training=False):\n",
    "        x = self.lstm(inputs)\n",
    "        return self.dense_clean(x), self.dense_teacher(x)\n",
    "\n",
    "    def compute_tor_loss(self, t, r_t_gt, Rs):\n",
    "        err = tf.abs(t - r_t_gt)\n",
    "        clean_loss   = tf.square(Rs - t)\n",
    "        outlier_loss = tf.sqrt(tf.square(Rs - r_t_gt) + 1e-6)\n",
    "        return tf.where(err < self.epsilon, clean_loss, outlier_loss)\n",
    "\n",
    "    def train_step(self, data):\n",
    "        x, y = data\n",
    "        t      = y[:, 0:1]   # etiqueta real\n",
    "        r_t_gt = y[:, 1:2]   # pred teacher\n",
    "\n",
    "        with tf.GradientTape() as tape:\n",
    "            Rs, Rd = self(x, training=True)\n",
    "            L_tor  = tf.reduce_mean(self.compute_tor_loss(t, r_t_gt, Rs))\n",
    "            L_dist = tf.reduce_mean(tf.abs(Rd - r_t_gt))\n",
    "            loss   = self.c_tor * L_tor + self.c_dist * L_dist\n",
    "\n",
    "        grads = tape.gradient(loss, self.trainable_variables)\n",
    "        self.optimizer.apply_gradients(zip(grads, self.trainable_variables))\n",
    "        self.compiled_metrics.update_state(t, Rs)\n",
    "        return {\n",
    "            \"loss\": loss,\n",
    "            \"tor_loss\": L_tor,\n",
    "            \"distill_loss\": L_dist,\n",
    "            **{m.name: m.result() for m in self.metrics}\n",
    "        }\n",
    "\n",
    "    def test_step(self, data):\n",
    "        x, y = data\n",
    "        t      = y[:, 0:1]\n",
    "        r_t_gt = y[:, 1:2]\n",
    "        Rs, Rd = self(x, training=False)\n",
    "\n",
    "        L_tor  = tf.reduce_mean(self.compute_tor_loss(t, r_t_gt, Rs))\n",
    "        L_dist = tf.reduce_mean(tf.abs(Rd - r_t_gt))\n",
    "        loss   = self.c_tor * L_tor + self.c_dist * L_dist\n",
    "\n",
    "        self.compiled_metrics.update_state(t, Rs)\n",
    "        return {\n",
    "            \"loss\": loss,\n",
    "            \"tor_loss\": L_tor,\n",
    "            \"distill_loss\": L_dist,\n",
    "            **{m.name: m.result() for m in self.metrics}\n",
    "        }\n",
    "\n",
    "    def get_config(self):\n",
    "        # Devuelve todo lo necesario para reconstruir la instancia\n",
    "        base_config = super().get_config()\n",
    "        return {\n",
    "            **base_config,\n",
    "            \"window_size\": self.window_size,\n",
    "            \"n_features\":  self.n_features,\n",
    "            \"lstm_units\":  self.lstm_units,\n",
    "            \"epsilon\":     self.epsilon,\n",
    "            \"c_tor\":       self.c_tor,\n",
    "            \"c_dist\":      self.c_dist,\n",
    "        }\n",
    "\n",
    "    @classmethod\n",
    "    def from_config(cls, config):\n",
    "        # Separar kwargs de Model (si los hubiera)\n",
    "        return cls(\n",
    "            window_size=config.pop(\"window_size\"),\n",
    "            n_features=config.pop(\"n_features\"),\n",
    "            lstm_units=config.pop(\"lstm_units\"),\n",
    "            epsilon=config.pop(\"epsilon\"),\n",
    "            c_tor=config.pop(\"c_tor\"),\n",
    "            c_dist=config.pop(\"c_dist\"),\n",
    "            **config\n",
    "        )\n",
    "\n",
    "lstm_model = tf.keras.models.load_model(\n",
    "    \"Models_lstm/lstm_healthcare_model_3_destilation.keras\",\n",
    "    compile=False\n",
    ")\n",
    "lstm_model.summary()\n",
    "\n",
    "lstm_model_2 = tf.keras.models.load_model(\n",
    "    \"Models_lstm/lstm_healthcare_model_3.keras\",\n",
    "    compile=False\n",
    ")\n",
    "lstm_model_2.summary()"
   ]
  },
  {
   "cell_type": "markdown",
   "id": "e29d4b16-d8bb-43fc-859e-a13c5b097cb7",
   "metadata": {},
   "source": [
    "## Resultados modelo neuralODE sobre test"
   ]
  },
  {
   "cell_type": "markdown",
   "id": "4a898f89",
   "metadata": {},
   "source": [
    "### Neural Destillado"
   ]
  },
  {
   "cell_type": "code",
   "execution_count": 6,
   "id": "36ee5a12",
   "metadata": {},
   "outputs": [],
   "source": [
    "ode_model.eval()\n",
    "x_neural = torch.tensor(X, dtype=torch.float32)\n",
    "pred_o = ode_model(x_neural)\n",
    "results_neural =  pred_o.cpu().detach().numpy().flatten()"
   ]
  },
  {
   "cell_type": "code",
   "execution_count": 7,
   "id": "135234ac",
   "metadata": {},
   "outputs": [
    {
     "name": "stdout",
     "output_type": "stream",
     "text": [
      "MAE: 52.13242487789966\n",
      "MSE: 13657.53318874847\n",
      "SMAPE: 18.93091334276678\n"
     ]
    }
   ],
   "source": [
    "\n",
    "mse = mean_squared_error(y, results_neural)\n",
    "mae = mean_absolute_error(y,results_neural)\n",
    "smape_val = smape(y,results_neural)\n",
    "\n",
    "print(\"MAE:\", mae)\n",
    "print(\"MSE:\", mse)\n",
    "print(\"SMAPE:\", smape_val)"
   ]
  },
  {
   "cell_type": "markdown",
   "id": "aaf187ee",
   "metadata": {},
   "source": [
    "### Neural sin destilar 3%"
   ]
  },
  {
   "cell_type": "code",
   "execution_count": 8,
   "id": "85fd9a23",
   "metadata": {},
   "outputs": [],
   "source": [
    "ode_model_2.eval()\n",
    "x_neural = torch.tensor(X, dtype=torch.float32)\n",
    "pred_2 = ode_model_2(x_neural)\n",
    "# Rd_pred es tu salida distill, compárala con y_val:\n",
    "results_neural_2 =  pred_2.cpu().detach().numpy().flatten()"
   ]
  },
  {
   "cell_type": "code",
   "execution_count": 9,
   "id": "1bca350d",
   "metadata": {},
   "outputs": [
    {
     "name": "stdout",
     "output_type": "stream",
     "text": [
      "MAE: 53.30732863635005\n",
      "MSE: 13735.57736111121\n",
      "SMAPE: 34.94289842556109\n"
     ]
    }
   ],
   "source": [
    "\n",
    "mse = mean_squared_error(y, results_neural_2)\n",
    "mae = mean_absolute_error(y,results_neural_2)\n",
    "smape_val = smape(y,results_neural_2)\n",
    "\n",
    "print(\"MAE:\", mae)\n",
    "print(\"MSE:\", mse)\n",
    "print(\"SMAPE:\", smape_val)"
   ]
  },
  {
   "cell_type": "markdown",
   "id": "d3fd924c-c1cd-400d-aa45-771f0d0cc422",
   "metadata": {},
   "source": [
    "## Resultados modelo LSTM sobre test"
   ]
  },
  {
   "cell_type": "markdown",
   "id": "7ff66a2c",
   "metadata": {},
   "source": [
    "### LSTM Destilado"
   ]
  },
  {
   "cell_type": "code",
   "execution_count": 10,
   "id": "0a0d464d",
   "metadata": {},
   "outputs": [
    {
     "name": "stdout",
     "output_type": "stream",
     "text": [
      "\u001b[1m35/35\u001b[0m \u001b[32m━━━━━━━━━━━━━━━━━━━━\u001b[0m\u001b[37m\u001b[0m \u001b[1m0s\u001b[0m 4ms/step\n",
      "MAE: 261.3153047743429\n",
      "MSE: 250991.07559579433\n",
      "SMAPE: 76.38874824064708\n"
     ]
    }
   ],
   "source": [
    "Rs_output, Rd_output = lstm_model.predict(X)\n",
    "lstm_destillated_1 = Rd_output #.flatten() \n",
    "#Resultados de modelos teacher sobre el conjunto de validación \n",
    "mae = mean_absolute_error(y, lstm_destillated_1)\n",
    "mse = mean_squared_error(y, lstm_destillated_1)\n",
    "smape_val = smape(y, lstm_destillated_1)\n",
    "\n",
    "print(\"MAE:\", mae)\n",
    "print(\"MSE:\", mse)\n",
    "print(\"SMAPE:\", smape_val)"
   ]
  },
  {
   "cell_type": "code",
   "execution_count": 11,
   "id": "1bb1f9b5",
   "metadata": {},
   "outputs": [],
   "source": [
    "import torch\n",
    "\n",
    "# Ejemplo: tensor en GPU con gradiente\n",
    "t = torch.randn(5, requires_grad=True)\n",
    "\n",
    "# 1) Desacoplar del grafo\n",
    "# 2) Mover a CPU (si estaba en GPU)\n",
    "# 3) Convertir a numpy\n",
    "arr = t.detach().numpy()\n"
   ]
  },
  {
   "cell_type": "markdown",
   "id": "fbc3a4db",
   "metadata": {},
   "source": [
    "### LSTM sin destilar\n"
   ]
  },
  {
   "cell_type": "code",
   "execution_count": 12,
   "id": "eccbcb98",
   "metadata": {},
   "outputs": [
    {
     "name": "stdout",
     "output_type": "stream",
     "text": [
      "\u001b[1m35/35\u001b[0m \u001b[32m━━━━━━━━━━━━━━━━━━━━\u001b[0m\u001b[37m\u001b[0m \u001b[1m0s\u001b[0m 8ms/step\n",
      "MAE: 262.3598562007464\n",
      "MSE: 251784.36954757158\n",
      "SMAPE: 76.74693424691398\n"
     ]
    }
   ],
   "source": [
    "output_lstm = lstm_model_2.predict(X)\n",
    "lstm_destillated_2 = output_lstm.flatten() \n",
    "#Resultados de modelos teacher sobre el conjunto de validación \n",
    "mae = mean_absolute_error(y, lstm_destillated_2)\n",
    "mse = mean_squared_error(y, lstm_destillated_2)\n",
    "smape_val = smape(y, lstm_destillated_2)\n",
    "\n",
    "print(\"MAE:\", mae)\n",
    "print(\"MSE:\", mse)\n",
    "print(\"SMAPE:\", smape_val)"
   ]
  },
  {
   "cell_type": "markdown",
   "id": "ae6bba7d",
   "metadata": {},
   "source": [
    "## Resultados modelo timesMOE sobre test"
   ]
  },
  {
   "cell_type": "code",
   "execution_count": 15,
   "id": "1117a344",
   "metadata": {},
   "outputs": [
    {
     "data": {
      "text/plain": [
       "(1114, 15, 1)"
      ]
     },
     "execution_count": 15,
     "metadata": {},
     "output_type": "execute_result"
    }
   ],
   "source": [
    "X.shape"
   ]
  },
  {
   "cell_type": "code",
   "execution_count": null,
   "id": "2b09deca",
   "metadata": {},
   "outputs": [
    {
     "ename": "AttributeError",
     "evalue": "'DynamicCache' object has no attribute 'seen_tokens'",
     "output_type": "error",
     "traceback": [
      "\u001b[1;31m---------------------------------------------------------------------------\u001b[0m",
      "\u001b[1;31mAttributeError\u001b[0m                            Traceback (most recent call last)",
      "Cell \u001b[1;32mIn[20], line 22\u001b[0m\n\u001b[0;32m     20\u001b[0m std \u001b[38;5;241m=\u001b[39m std\u001b[38;5;241m.\u001b[39mclamp(\u001b[38;5;28mmin\u001b[39m\u001b[38;5;241m=\u001b[39m\u001b[38;5;241m1e-6\u001b[39m) \u001b[38;5;66;03m# Evitar división por cero\u001b[39;00m\n\u001b[0;32m     21\u001b[0m normed_seq \u001b[38;5;241m=\u001b[39m (t \u001b[38;5;241m-\u001b[39m mean) \u001b[38;5;241m/\u001b[39m std         \u001b[38;5;66;03m# (1,15)\u001b[39;00m\n\u001b[1;32m---> 22\u001b[0m output \u001b[38;5;241m=\u001b[39m \u001b[43mmodel\u001b[49m\u001b[38;5;241;43m.\u001b[39;49m\u001b[43mgenerate\u001b[49m\u001b[43m(\u001b[49m\u001b[43mnormed_seq\u001b[49m\u001b[43m,\u001b[49m\u001b[43m \u001b[49m\u001b[43mmax_new_tokens\u001b[49m\u001b[38;5;241;43m=\u001b[39;49m\u001b[38;5;241;43m1\u001b[39;49m\u001b[43m,\u001b[49m\u001b[43muse_cache\u001b[49m\u001b[38;5;241;43m=\u001b[39;49m\u001b[38;5;28;43;01mTrue\u001b[39;49;00m\u001b[43m)\u001b[49m  \n\u001b[0;32m     23\u001b[0m normed_pred \u001b[38;5;241m=\u001b[39m output[:, \u001b[38;5;241m-\u001b[39m\u001b[38;5;241m1\u001b[39m:]            \u001b[38;5;66;03m# (1,1)\u001b[39;00m\n\u001b[0;32m     24\u001b[0m pred \u001b[38;5;241m=\u001b[39m normed_pred \u001b[38;5;241m*\u001b[39m std \u001b[38;5;241m+\u001b[39m mean         \u001b[38;5;66;03m# (1,1)\u001b[39;00m\n",
      "File \u001b[1;32m~\\AppData\\Roaming\\Python\\Python311\\site-packages\\torch\\utils\\_contextlib.py:116\u001b[0m, in \u001b[0;36mcontext_decorator.<locals>.decorate_context\u001b[1;34m(*args, **kwargs)\u001b[0m\n\u001b[0;32m    113\u001b[0m \u001b[38;5;129m@functools\u001b[39m\u001b[38;5;241m.\u001b[39mwraps(func)\n\u001b[0;32m    114\u001b[0m \u001b[38;5;28;01mdef\u001b[39;00m \u001b[38;5;21mdecorate_context\u001b[39m(\u001b[38;5;241m*\u001b[39margs, \u001b[38;5;241m*\u001b[39m\u001b[38;5;241m*\u001b[39mkwargs):\n\u001b[0;32m    115\u001b[0m     \u001b[38;5;28;01mwith\u001b[39;00m ctx_factory():\n\u001b[1;32m--> 116\u001b[0m         \u001b[38;5;28;01mreturn\u001b[39;00m \u001b[43mfunc\u001b[49m\u001b[43m(\u001b[49m\u001b[38;5;241;43m*\u001b[39;49m\u001b[43margs\u001b[49m\u001b[43m,\u001b[49m\u001b[43m \u001b[49m\u001b[38;5;241;43m*\u001b[39;49m\u001b[38;5;241;43m*\u001b[39;49m\u001b[43mkwargs\u001b[49m\u001b[43m)\u001b[49m\n",
      "File \u001b[1;32mc:\\Users\\criju\\.conda\\envs\\ts\\Lib\\site-packages\\transformers\\generation\\utils.py:2633\u001b[0m, in \u001b[0;36mGenerationMixin.generate\u001b[1;34m(self, inputs, generation_config, logits_processor, stopping_criteria, prefix_allowed_tokens_fn, synced_gpus, assistant_model, streamer, negative_prompt_ids, negative_prompt_attention_mask, use_model_defaults, custom_generate, **kwargs)\u001b[0m\n\u001b[0;32m   2625\u001b[0m     input_ids, model_kwargs \u001b[38;5;241m=\u001b[39m \u001b[38;5;28mself\u001b[39m\u001b[38;5;241m.\u001b[39m_expand_inputs_for_generation(\n\u001b[0;32m   2626\u001b[0m         input_ids\u001b[38;5;241m=\u001b[39minput_ids,\n\u001b[0;32m   2627\u001b[0m         expand_size\u001b[38;5;241m=\u001b[39mgeneration_config\u001b[38;5;241m.\u001b[39mnum_return_sequences,\n\u001b[0;32m   2628\u001b[0m         is_encoder_decoder\u001b[38;5;241m=\u001b[39m\u001b[38;5;28mself\u001b[39m\u001b[38;5;241m.\u001b[39mconfig\u001b[38;5;241m.\u001b[39mis_encoder_decoder,\n\u001b[0;32m   2629\u001b[0m         \u001b[38;5;241m*\u001b[39m\u001b[38;5;241m*\u001b[39mmodel_kwargs,\n\u001b[0;32m   2630\u001b[0m     )\n\u001b[0;32m   2632\u001b[0m     \u001b[38;5;66;03m# 12. run sample (it degenerates to greedy search when `generation_config.do_sample=False`)\u001b[39;00m\n\u001b[1;32m-> 2633\u001b[0m     result \u001b[38;5;241m=\u001b[39m \u001b[38;5;28;43mself\u001b[39;49m\u001b[38;5;241;43m.\u001b[39;49m\u001b[43m_sample\u001b[49m\u001b[43m(\u001b[49m\n\u001b[0;32m   2634\u001b[0m \u001b[43m        \u001b[49m\u001b[43minput_ids\u001b[49m\u001b[43m,\u001b[49m\n\u001b[0;32m   2635\u001b[0m \u001b[43m        \u001b[49m\u001b[43mlogits_processor\u001b[49m\u001b[38;5;241;43m=\u001b[39;49m\u001b[43mprepared_logits_processor\u001b[49m\u001b[43m,\u001b[49m\n\u001b[0;32m   2636\u001b[0m \u001b[43m        \u001b[49m\u001b[43mstopping_criteria\u001b[49m\u001b[38;5;241;43m=\u001b[39;49m\u001b[43mprepared_stopping_criteria\u001b[49m\u001b[43m,\u001b[49m\n\u001b[0;32m   2637\u001b[0m \u001b[43m        \u001b[49m\u001b[43mgeneration_config\u001b[49m\u001b[38;5;241;43m=\u001b[39;49m\u001b[43mgeneration_config\u001b[49m\u001b[43m,\u001b[49m\n\u001b[0;32m   2638\u001b[0m \u001b[43m        \u001b[49m\u001b[43msynced_gpus\u001b[49m\u001b[38;5;241;43m=\u001b[39;49m\u001b[43msynced_gpus\u001b[49m\u001b[43m,\u001b[49m\n\u001b[0;32m   2639\u001b[0m \u001b[43m        \u001b[49m\u001b[43mstreamer\u001b[49m\u001b[38;5;241;43m=\u001b[39;49m\u001b[43mstreamer\u001b[49m\u001b[43m,\u001b[49m\n\u001b[0;32m   2640\u001b[0m \u001b[43m        \u001b[49m\u001b[38;5;241;43m*\u001b[39;49m\u001b[38;5;241;43m*\u001b[39;49m\u001b[43mmodel_kwargs\u001b[49m\u001b[43m,\u001b[49m\n\u001b[0;32m   2641\u001b[0m \u001b[43m    \u001b[49m\u001b[43m)\u001b[49m\n\u001b[0;32m   2643\u001b[0m \u001b[38;5;28;01melif\u001b[39;00m generation_mode \u001b[38;5;129;01min\u001b[39;00m (GenerationMode\u001b[38;5;241m.\u001b[39mBEAM_SAMPLE, GenerationMode\u001b[38;5;241m.\u001b[39mBEAM_SEARCH):\n\u001b[0;32m   2644\u001b[0m     \u001b[38;5;66;03m# 11. interleave input_ids with `num_beams` additional sequences per batch\u001b[39;00m\n\u001b[0;32m   2645\u001b[0m     input_ids, model_kwargs \u001b[38;5;241m=\u001b[39m \u001b[38;5;28mself\u001b[39m\u001b[38;5;241m.\u001b[39m_expand_inputs_for_generation(\n\u001b[0;32m   2646\u001b[0m         input_ids\u001b[38;5;241m=\u001b[39minput_ids,\n\u001b[0;32m   2647\u001b[0m         expand_size\u001b[38;5;241m=\u001b[39mgeneration_config\u001b[38;5;241m.\u001b[39mnum_beams,\n\u001b[0;32m   2648\u001b[0m         is_encoder_decoder\u001b[38;5;241m=\u001b[39m\u001b[38;5;28mself\u001b[39m\u001b[38;5;241m.\u001b[39mconfig\u001b[38;5;241m.\u001b[39mis_encoder_decoder,\n\u001b[0;32m   2649\u001b[0m         \u001b[38;5;241m*\u001b[39m\u001b[38;5;241m*\u001b[39mmodel_kwargs,\n\u001b[0;32m   2650\u001b[0m     )\n",
      "File \u001b[1;32mc:\\Users\\criju\\.conda\\envs\\ts\\Lib\\site-packages\\transformers\\generation\\utils.py:3607\u001b[0m, in \u001b[0;36mGenerationMixin._sample\u001b[1;34m(self, input_ids, logits_processor, stopping_criteria, generation_config, synced_gpus, streamer, **model_kwargs)\u001b[0m\n\u001b[0;32m   3603\u001b[0m     is_prefill \u001b[38;5;241m=\u001b[39m \u001b[38;5;28;01mTrue\u001b[39;00m\n\u001b[0;32m   3605\u001b[0m \u001b[38;5;28;01mwhile\u001b[39;00m \u001b[38;5;28mself\u001b[39m\u001b[38;5;241m.\u001b[39m_has_unfinished_sequences(this_peer_finished, synced_gpus, device\u001b[38;5;241m=\u001b[39minput_ids\u001b[38;5;241m.\u001b[39mdevice):\n\u001b[0;32m   3606\u001b[0m     \u001b[38;5;66;03m# prepare model inputs\u001b[39;00m\n\u001b[1;32m-> 3607\u001b[0m     model_inputs \u001b[38;5;241m=\u001b[39m \u001b[38;5;28;43mself\u001b[39;49m\u001b[38;5;241;43m.\u001b[39;49m\u001b[43mprepare_inputs_for_generation\u001b[49m\u001b[43m(\u001b[49m\u001b[43minput_ids\u001b[49m\u001b[43m,\u001b[49m\u001b[43m \u001b[49m\u001b[38;5;241;43m*\u001b[39;49m\u001b[38;5;241;43m*\u001b[39;49m\u001b[43mmodel_kwargs\u001b[49m\u001b[43m)\u001b[49m\n\u001b[0;32m   3609\u001b[0m     \u001b[38;5;66;03m# prepare variable output controls (note: some models won't accept all output controls)\u001b[39;00m\n\u001b[0;32m   3610\u001b[0m     model_inputs\u001b[38;5;241m.\u001b[39mupdate({\u001b[38;5;124m\"\u001b[39m\u001b[38;5;124moutput_attentions\u001b[39m\u001b[38;5;124m\"\u001b[39m: output_attentions} \u001b[38;5;28;01mif\u001b[39;00m output_attentions \u001b[38;5;28;01melse\u001b[39;00m {})\n",
      "File \u001b[1;32m~\\.cache\\huggingface\\modules\\transformers_modules\\Maple728\\TimeMoE-50M\\446753ee48ff3726d0606a81d0092d54acee995e\\modeling_time_moe.py:1116\u001b[0m, in \u001b[0;36mTimeMoeForPrediction.prepare_inputs_for_generation\u001b[1;34m(self, input_ids, past_key_values, attention_mask, inputs_embeds, **kwargs)\u001b[0m\n\u001b[0;32m   1114\u001b[0m cache_length \u001b[38;5;241m=\u001b[39m past_key_values\u001b[38;5;241m.\u001b[39mget_seq_length()\n\u001b[0;32m   1115\u001b[0m \u001b[38;5;28;01mif\u001b[39;00m \u001b[38;5;28misinstance\u001b[39m(past_key_values, DynamicCache):\n\u001b[1;32m-> 1116\u001b[0m     past_length \u001b[38;5;241m=\u001b[39m \u001b[43mpast_key_values\u001b[49m\u001b[38;5;241;43m.\u001b[39;49m\u001b[43mseen_tokens\u001b[49m\n\u001b[0;32m   1117\u001b[0m \u001b[38;5;28;01melse\u001b[39;00m:\n\u001b[0;32m   1118\u001b[0m     past_length \u001b[38;5;241m=\u001b[39m cache_length\n",
      "\u001b[1;31mAttributeError\u001b[0m: 'DynamicCache' object has no attribute 'seen_tokens'"
     ]
    }
   ],
   "source": [
    "# Modelo teacher\n",
    "# Teacher prediction using Time-MoE\n",
    "from transformers import AutoModelForCausalLM\n",
    "# Convertir las ventanas a tensores para el modelo Time-MoE\n",
    "import torch\n",
    "import numpy as np    \n",
    "\n",
    "model = AutoModelForCausalLM.from_pretrained(\n",
    "    'Maple728/TimeMoE-50M',\n",
    "    device_map=\"cpu\",  # use \"cpu\" for CPU inference, and \"cuda\" for GPU inference.\n",
    "    trust_remote_code=True,\n",
    ")\n",
    "model.config.use_cache = False\n",
    "\n",
    "train_predict_teacher = []\n",
    "for arr in X:                   \n",
    "    t = torch.from_numpy(arr.reshape(1, 15)).float()  \n",
    "    mean = t.mean(dim=-1, keepdim=True)   # (1,1)\n",
    "    std  = t.std(dim=-1, keepdim=True)    # (1,1)\n",
    "    std = std.clamp(min=1e-6) # Evitar división por cero\n",
    "    normed_seq = (t - mean) / std         # (1,15)\n",
    "    output = model.generate(normed_seq, max_new_tokens=1,use_cache=True)  \n",
    "    normed_pred = output[:, -1:]            # (1,1)\n",
    "    pred = normed_pred * std + mean         # (1,1)\n",
    "    train_predict_teacher.append(pred.item())"
   ]
  },
  {
   "cell_type": "code",
   "execution_count": 21,
   "id": "7a4b296d",
   "metadata": {},
   "outputs": [],
   "source": [
    "import torch\n",
    "\n",
    "# Asumiendo X: np.ndarray de forma (n_samples, window_size, 1)\n",
    "# times_moe_model: AutoModelForCausalLM cargado con trust_remote_code=True\n",
    "\n",
    "# Pasa el modelo a modo evaluación\n",
    "model.eval()\n",
    "\n",
    "train_predict_teacher = []\n",
    "\n",
    "# No gradientes ni cache\n",
    "with torch.no_grad():\n",
    "    for arr in X:\n",
    "        # 1) Construir tensor y normalizar\n",
    "        # arr es (window_size, 1) → lo aplanamos a (1, window_size)\n",
    "        t = torch.from_numpy(arr.reshape(1, -1)).float()  \n",
    "\n",
    "        mean = t.mean(dim=-1, keepdim=True)   # (1,1)\n",
    "        std  = t.std(dim=-1, keepdim=True).clamp(min=1e-6)  # (1,1)\n",
    "        normed_seq = (t - mean) / std         # (1, window_size)\n",
    "\n",
    "        # 2) Forward directo\n",
    "        outputs = model(normed_seq)\n",
    "\n",
    "        # 3) Extraer logits / predicción continua\n",
    "        #    Dependiendo de la implementación el resultado puede venir en `.logits`\n",
    "        if hasattr(outputs, \"logits\"):\n",
    "            logits = outputs.logits       # ej. shape (1, seq_len, 1) o (1, seq_len+1, 1)\n",
    "        else:\n",
    "            logits = outputs              # si devuelve directamente el tensor\n",
    "\n",
    "        # 4) Agarrar el último paso para predecir el siguiente valor\n",
    "        #    Si tiene 3 dims, asumimos (batch, seq_len, features)\n",
    "        if logits.ndim == 3:\n",
    "            normed_pred = logits[:, -1, :]    # (1, features)  → aquí features debería ser 1\n",
    "        else:\n",
    "            # si devuelve (1, seq_len) o (1, seq_len+1)\n",
    "            normed_pred = logits[:, -1:]      # (1,)\n",
    "\n",
    "        # 5) Desnormalizar y extraer escalar\n",
    "        pred = (normed_pred * std + mean).item()\n",
    "\n",
    "        train_predict_teacher.append(pred)\n",
    "\n",
    "# Al final, train_predict_teacher es una lista de floats con la predicción desnormalizada\n"
   ]
  },
  {
   "cell_type": "code",
   "execution_count": 20,
   "id": "3d657347",
   "metadata": {},
   "outputs": [],
   "source": [
    "\n",
    "pred_t = train_predict_teacher"
   ]
  },
  {
   "cell_type": "code",
   "execution_count": 22,
   "id": "31ee1768",
   "metadata": {},
   "outputs": [
    {
     "name": "stdout",
     "output_type": "stream",
     "text": [
      "MAE: 52.6560321574499\n",
      "MSE: 13234.54632603063\n",
      "SMAPE: 17.427596961401246\n"
     ]
    }
   ],
   "source": [
    "#Resultados de modelos teacher sobre el conjunto de validación \n",
    "mae = mean_absolute_error(y, pred_t)\n",
    "mse = mean_squared_error(y, pred_t)\n",
    "smape_val = smape(y, pred_t)\n",
    "\n",
    "print(\"MAE:\", mae)\n",
    "print(\"MSE:\", mse)\n",
    "print(\"SMAPE:\", smape_val)"
   ]
  },
  {
   "cell_type": "code",
   "execution_count": 23,
   "id": "bf9218bf",
   "metadata": {},
   "outputs": [
    {
     "data": {
      "image/png": "[encoded data removed]",
      "text/plain": [
       "<Figure size 640x480 with 1 Axes>"
      ]
     },
     "metadata": {},
     "output_type": "display_data"
    }
   ],
   "source": [
    "# Graficas de comparación\n",
    "import random\n",
    "import matplotlib.pyplot as plt\n",
    "\n",
    "# Tus listas originales:\n",
    "# y_val, r_t_val, Rd_output\n",
    "\n",
    "# Asegúrate de que todas tengan la misma longitud n ≥ 20\n",
    "n = len(y)\n",
    "\n",
    "# Elige un índice de inicio aleatorio tal que haya espacio para 20 puntos\n",
    "inicio = random.randint(0, n - 20)\n",
    "fin = inicio + 20\n",
    "\n",
    "# Crea un eje X con los índices reales para ese intervalo\n",
    "x = list(range(inicio, fin))\n",
    "\n",
    "# Extrae los subrangos de cada serie\n",
    "y_segmento     = y[inicio:fin]\n",
    "teacher_segmento = pred_t[inicio:fin]\n",
    "destilado_lstm =  Rd_output[inicio:fin]\n",
    "destulado_neural =  results_neural[inicio:fin]\n",
    "\n",
    "# Grafica solo el intervalo seleccionado\n",
    "plt.figure()\n",
    "plt.plot(x, y_segmento,         label='real')\n",
    "plt.plot(x, teacher_segmento,   label='teacher')\n",
    "plt.plot(x, destilado_lstm, label='lstm_d')\n",
    "plt.plot(x, destulado_neural, label='neural_d')\n",
    "\n",
    "plt.xlabel('Índice')\n",
    "plt.ylabel('Valor')\n",
    "plt.title(f'Intervalo aleatorio de índices {inicio}–{fin-1}')\n",
    "plt.legend()\n",
    "plt.tight_layout()\n",
    "plt.show()\n"
   ]
  },
  {
   "cell_type": "markdown",
   "id": "fc6abc6f",
   "metadata": {},
   "source": [
    "### Colombia"
   ]
  },
  {
   "cell_type": "code",
   "execution_count": 24,
   "id": "6d2257c9",
   "metadata": {},
   "outputs": [
    {
     "name": "stdout",
     "output_type": "stream",
     "text": [
      "De 1404 muestras, quedan 1404 sin NaN\n"
     ]
    }
   ],
   "source": [
    "data = load_data('serie_completa.csv')\n",
    "serie= data['Frecuencia'].values\n",
    "X, y  = create_windows_2(serie)"
   ]
  },
  {
   "cell_type": "markdown",
   "id": "3658a0cf",
   "metadata": {},
   "source": [
    "### Modelo Neural destilado para datos de Colombia "
   ]
  },
  {
   "cell_type": "code",
   "execution_count": 25,
   "id": "3f5da812",
   "metadata": {},
   "outputs": [],
   "source": [
    "# Neural ODE Model\n",
    "ode_model.eval()\n",
    "x_neural = torch.tensor(X, dtype=torch.float32)\n",
    "pred = ode_model(x_neural)\n",
    "results =  pred.cpu().detach().numpy().flatten()"
   ]
  },
  {
   "cell_type": "code",
   "execution_count": null,
   "id": "2464137d",
   "metadata": {},
   "outputs": [
    {
     "name": "stdout",
     "output_type": "stream",
     "text": [
      "MAE: 496.0843505859375\n",
      "MSE: 1127679.125\n",
      "SMAPE: 7.51045928511995\n"
     ]
    }
   ],
   "source": [
    "# Rd_pred es tu salida distill, compárala con y_val:\n",
    "mse = mean_squared_error(y,results)\n",
    "mae = mean_absolute_error(y,results)\n",
    "smape_val = smape(y, results)\n",
    "\n",
    "print(\"MAE:\", mae)\n",
    "print(\"MSE:\", mse)\n",
    "print(\"SMAPE:\", smape_val)"
   ]
  },
  {
   "cell_type": "markdown",
   "id": "b4a6fefe",
   "metadata": {},
   "source": [
    "### Modelo neural sin destilar para datos de Colombia"
   ]
  },
  {
   "cell_type": "code",
   "execution_count": 27,
   "id": "146f1db9",
   "metadata": {},
   "outputs": [],
   "source": [
    "ode_model_2.eval()\n",
    "x_neural = torch.tensor(X, dtype=torch.float32)\n",
    "pred_2 = ode_model_2(x_neural)\n",
    "# Rd_pred es tu salida distill, compárala con y_val:\n",
    "results_neural_2 =  pred_2.cpu().detach().numpy().flatten()"
   ]
  },
  {
   "cell_type": "code",
   "execution_count": 28,
   "id": "7ec09254",
   "metadata": {},
   "outputs": [
    {
     "name": "stdout",
     "output_type": "stream",
     "text": [
      "MAE: 496.4608154296875\n",
      "MSE: 1127787.625\n",
      "SMAPE: 8.678752369782817\n"
     ]
    }
   ],
   "source": [
    "mse = mean_squared_error(y,results_neural_2)\n",
    "mae = mean_absolute_error(y,results_neural_2)\n",
    "smape_val = smape(y, results_neural_2)\n",
    "\n",
    "print(\"MAE:\", mae)\n",
    "print(\"MSE:\", mse)\n",
    "print(\"SMAPE:\", smape_val)"
   ]
  },
  {
   "cell_type": "markdown",
   "id": "90764d78",
   "metadata": {},
   "source": [
    "### LSTM Modelo destilado para datos de Colombia"
   ]
  },
  {
   "cell_type": "code",
   "execution_count": 29,
   "id": "034870e8",
   "metadata": {},
   "outputs": [
    {
     "name": "stdout",
     "output_type": "stream",
     "text": [
      "\u001b[1m44/44\u001b[0m \u001b[32m━━━━━━━━━━━━━━━━━━━━\u001b[0m\u001b[37m\u001b[0m \u001b[1m0s\u001b[0m 4ms/step\n",
      "MAE: 4186.90869140625\n",
      "MSE: 57799124.0\n",
      "SMAPE: 94.23889657923617\n"
     ]
    }
   ],
   "source": [
    "# LSTM Model\n",
    "Rs_output, Rd_output = lstm_model.predict(X)\n",
    "lstm_destillated_1 = Rd_output.flatten() \n",
    "#Resultados de modelos teacher sobre el conjunto de validación \n",
    "mae = mean_absolute_error(y, lstm_destillated_1)\n",
    "mse = mean_squared_error(y, lstm_destillated_1)\n",
    "smape_val = smape(y, lstm_destillated_1)\n",
    "\n",
    "print(\"MAE:\", mae)\n",
    "print(\"MSE:\", mse)\n",
    "print(\"SMAPE:\", smape_val)\n"
   ]
  },
  {
   "cell_type": "markdown",
   "id": "0da0db25",
   "metadata": {},
   "source": [
    "### Modelo LSTM sin destilar para datos de Colombia"
   ]
  },
  {
   "cell_type": "code",
   "execution_count": 33,
   "id": "61caf1eb",
   "metadata": {},
   "outputs": [
    {
     "name": "stdout",
     "output_type": "stream",
     "text": [
      "\u001b[1m44/44\u001b[0m \u001b[32m━━━━━━━━━━━━━━━━━━━━\u001b[0m\u001b[37m\u001b[0m \u001b[1m0s\u001b[0m 4ms/step\n",
      "MAE: 4187.9794921875\n",
      "MSE: 57805576.0\n",
      "SMAPE: 95.45531100270378\n"
     ]
    }
   ],
   "source": [
    "output_lstm = lstm_model_2.predict(X)\n",
    "lstm_destillated_2 = output_lstm.flatten() \n",
    "#Resultados de modelos teacher sobre el conjunto de validación \n",
    "mae = mean_absolute_error(y, lstm_destillated_2)\n",
    "mse = mean_squared_error(y, lstm_destillated_2)\n",
    "smape_val = smape(y, lstm_destillated_2)\n",
    "\n",
    "print(\"MAE:\", mae)\n",
    "print(\"MSE:\", mse)\n",
    "print(\"SMAPE:\", smape_val)"
   ]
  },
  {
   "cell_type": "markdown",
   "id": "031a8398",
   "metadata": {},
   "source": [
    "### Resultados modelo Teacher datos Colombia"
   ]
  },
  {
   "cell_type": "code",
   "execution_count": 34,
   "id": "37420810",
   "metadata": {},
   "outputs": [
    {
     "name": "stderr",
     "output_type": "stream",
     "text": [
      "C:\\Users\\criju\\AppData\\Roaming\\Python\\Python311\\site-packages\\huggingface_hub\\file_download.py:943: FutureWarning: `resume_download` is deprecated and will be removed in version 1.0.0. Downloads always resume when possible. If you want to force a new download, use `force_download=True`.\n",
      "  warnings.warn(\n"
     ]
    }
   ],
   "source": [
    "# Teacher prediction using Time-MoE\n",
    "from transformers import AutoModelForCausalLM\n",
    "import torch\n",
    "import numpy as np    \n",
    "\n",
    "model = AutoModelForCausalLM.from_pretrained(\n",
    "    'Maple728/TimeMoE-50M',\n",
    "    device_map=\"cpu\",  # use \"cpu\" for CPU inference, and \"cuda\" for GPU inference.\n",
    "    trust_remote_code=True,\n",
    ")\n",
    "\n",
    "# Convertir las ventanas a tensores para el modelo Time-MoE\n",
    "import torch\n",
    "import numpy as np    \n",
    "\n",
    "\n",
    "train_predict_teacher = []\n",
    "for arr in X:                   \n",
    "    t = torch.from_numpy(arr.reshape(1, 15)).float()  \n",
    "    mean = t.mean(dim=-1, keepdim=True)   # (1,1)\n",
    "    std  = t.std(dim=-1, keepdim=True)    # (1,1)\n",
    "    std = std.clamp(min=1e-6) # Evitar división por cero\n",
    "    normed_seq = (t - mean) / std         # (1,15)\n",
    "    output = model.generate(normed_seq, max_new_tokens=1)  \n",
    "    normed_pred = output[:, -1:]            # (1,1)\n",
    "    pred = normed_pred * std + mean         # (1,1)\n",
    "    train_predict_teacher.append(pred.item())\n",
    "\n",
    "pred_t = train_predict_teacher"
   ]
  },
  {
   "cell_type": "code",
   "execution_count": 35,
   "id": "56bf67ec",
   "metadata": {},
   "outputs": [
    {
     "name": "stdout",
     "output_type": "stream",
     "text": [
      "MAE: 517.0606647217036\n",
      "MSE: 1177805.6976591416\n",
      "SMAPE: 7.792834555871182\n"
     ]
    }
   ],
   "source": [
    "#Resultados de modelos teacher sobre el conjunto de validación \n",
    "mae = mean_absolute_error(y, pred_t)\n",
    "mse = mean_squared_error(y, pred_t)\n",
    "smape_val = smape(y, pred_t)\n",
    "\n",
    "print(\"MAE:\", mae)\n",
    "print(\"MSE:\", mse)\n",
    "print(\"SMAPE:\", smape_val)"
   ]
  },
  {
   "cell_type": "code",
   "execution_count": null,
   "id": "58d45d4a",
   "metadata": {},
   "outputs": [
    {
     "data": {
      "image/png": "[encoded data removed]",
      "text/plain": [
       "<Figure size 640x480 with 1 Axes>"
      ]
     },
     "metadata": {},
     "output_type": "display_data"
    }
   ],
   "source": [
    "smape_techaer = smape(y_segmento, teacher_segmento)\n",
    "smape_neural = smape(y_segmento, destulado_neural.flatten())\n",
    "\n",
    "\n",
    "x = range(len(smape_techaer))\n",
    "plt.figure()\n",
    "plt.plot(x, smape_neural,         label='real')\n",
    "plt.plot(x, smape_techaer,   label='teacher')\n",
    "plt.show()"
   ]
  },
  {
   "cell_type": "code",
   "execution_count": null,
   "id": "634f1057",
   "metadata": {},
   "outputs": [
    {
     "name": "stdout",
     "output_type": "stream",
     "text": [
      "mean teacher SMAPE: 7.792834555871184\n",
      "mean neural SMAPE: 8.678752369782819\n"
     ]
    }
   ],
   "source": [
    "print(\"mean teacher SMAPE:\", np.mean(smape_techaer))\n",
    "print(\"mean neural SMAPE:\", np.mean(smape_neural))\n",
    "7.792834555871182"
   ]
  }
 ],
 "metadata": {
  "kernelspec": {
   "display_name": "ts",
   "language": "python",
   "name": "python3"
  },
  "language_info": {
   "codemirror_mode": {
    "name": "ipython",
    "version": 3
   },
   "file_extension": ".py",
   "mimetype": "text/x-python",
   "name": "python",
   "nbconvert_exporter": "python",
   "pygments_lexer": "ipython3",
   "version": "3.11.10"
  }
 },
 "nbformat": 4,
 "nbformat_minor": 5
}
