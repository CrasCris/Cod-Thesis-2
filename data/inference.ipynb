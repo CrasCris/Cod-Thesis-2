{
 "cells": [
  {
   "cell_type": "markdown",
   "id": "d559cf4c",
   "metadata": {},
   "source": [
    "### Inferencia\n",
    "En este notebook vamos a realizar la inferencia sobre los dataset de Covid-19 en Colombia y además como caso especifico en Santander un departamento de colombia, usaremos los modelos destilados que entrenamos previamente en los notebooks de Main_neural y Main."
   ]
  },
  {
   "cell_type": "markdown",
   "id": "5f370980",
   "metadata": {},
   "source": [
    "### Santander"
   ]
  },
  {
   "cell_type": "code",
   "execution_count": 23,
   "id": "ac6810a7",
   "metadata": {},
   "outputs": [],
   "source": [
    "import numpy as np\n",
    "# Importing custom functions\n",
    "import sys\n",
    "import os\n",
    "root_path = os.path.abspath(os.path.join(os.getcwd(), '..'))\n",
    "sys.path.append(root_path)\n",
    "\n",
    "from baseline.functions import load_data,create_intervals,create_windows,smape,smape_chunked,sample_fraction\n",
    "from sklearn.metrics import mean_absolute_error, mean_squared_error\n",
    "import numpy as np\n",
    "\n",
    "def create_windows_2(data, window_size=15, horizon=1):\n",
    "    \"\"\"\n",
    "    Crea ventanas deslizantes (X, y) a partir de:\n",
    "      - data: puede ser\n",
    "          * un numpy array 1D (una sola serie temporal), o\n",
    "          * una lista/iterable de numpy arrays 1D (varias series).\n",
    "    Parámetros:\n",
    "      - window_size: número de pasos de entrada por ventana X\n",
    "      - horizon: pasos a predecir (por defecto 1)\n",
    "    Devuelve:\n",
    "      - X: array de shape (num_samples, window_size, 1)\n",
    "      - y: array de shape (num_samples,) si horizon=1,\n",
    "             o (num_samples, horizon) en otro caso.\n",
    "    \"\"\"\n",
    "    # Si data es un array 1D, lo convertimos en lista de una sola secuencia\n",
    "    if isinstance(data, np.ndarray) and data.ndim == 1:\n",
    "        sequences = [data]\n",
    "    else:\n",
    "        # Asumimos que data es iterable de arrays 1D\n",
    "        sequences = [np.asarray(seq).astype(float) for seq in data]\n",
    "\n",
    "    X_list, y_list = [], []\n",
    "\n",
    "    for arr in sequences:\n",
    "        T = arr.shape[0]\n",
    "        # Solo procesar si hay suficiente longitud\n",
    "        if T >= window_size + horizon:\n",
    "            for start in range(T - window_size - horizon + 1):\n",
    "                window = arr[start : start + window_size]\n",
    "                target = arr[start + window_size : start + window_size + horizon]\n",
    "                X_list.append(window.reshape(window_size, 1))\n",
    "                # Si horizon=1 devolvemos escalar, si no, el vector entero\n",
    "                y_list.append(target[0] if horizon == 1 else target)\n",
    "\n",
    "    # Si no se creó ninguna muestra, devolvemos arrays vacíos con las formas correctas\n",
    "    if not X_list:\n",
    "        X = np.empty((0, window_size, 1))\n",
    "        y = np.empty((0,)) if horizon == 1 else np.empty((0, horizon))\n",
    "        return X, y\n",
    "\n",
    "    X = np.stack(X_list, axis=0)\n",
    "    y = np.array(y_list)\n",
    "\n",
    "    # Filtrar muestras que contengan NaN en X o en y\n",
    "    mask_valid = ~np.isnan(X).any(axis=(1,2))\n",
    "    if horizon == 1:\n",
    "        mask_valid &= ~np.isnan(y)\n",
    "    else:\n",
    "        mask_valid &= ~np.isnan(y).any(axis=1)\n",
    "\n",
    "    X_clean = X[mask_valid]\n",
    "    y_clean = y[mask_valid]\n",
    "\n",
    "    print(f\"De {X.shape[0]} muestras, quedan {X_clean.shape[0]} sin NaN\")\n",
    "    return X_clean, y_clean"
   ]
  },
  {
   "cell_type": "code",
   "execution_count": 24,
   "id": "bccdfa37",
   "metadata": {},
   "outputs": [
    {
     "name": "stdout",
     "output_type": "stream",
     "text": [
      "De 1114 muestras, quedan 1114 sin NaN\n"
     ]
    }
   ],
   "source": [
    "data = load_data('serie.csv')\n",
    "serie= data['Frecuencia'].values\n",
    "X, y  = create_windows_2(serie)"
   ]
  },
  {
   "cell_type": "code",
   "execution_count": 25,
   "id": "054aa598",
   "metadata": {},
   "outputs": [],
   "source": [
    "# load models\n",
    "import torch\n",
    "import torch.nn as nn\n",
    "from torchdiffeq import odeint\n",
    "import tensorflow as tf"
   ]
  },
  {
   "cell_type": "code",
   "execution_count": 26,
   "id": "e4642428",
   "metadata": {},
   "outputs": [
    {
     "data": {
      "text/plain": [
       "NeuralODEModel(\n",
       "  (odefunc): ODEFunc(\n",
       "    (net): Sequential(\n",
       "      (0): Linear(in_features=1, out_features=50, bias=True)\n",
       "      (1): Tanh()\n",
       "      (2): Linear(in_features=50, out_features=1, bias=True)\n",
       "    )\n",
       "  )\n",
       ")"
      ]
     },
     "execution_count": 26,
     "metadata": {},
     "output_type": "execute_result"
    }
   ],
   "source": [
    "class ODEFunc(nn.Module):\n",
    "    def __init__(self):\n",
    "        super().__init__()\n",
    "        self.net = nn.Sequential(\n",
    "            nn.Linear(1, 50),\n",
    "            nn.Tanh(),\n",
    "            nn.Linear(50, 1)\n",
    "        )\n",
    "\n",
    "    def forward(self, t, x):\n",
    "        return self.net(x)\n",
    "\n",
    "class NeuralODEModel(nn.Module):\n",
    "    def __init__(self):\n",
    "        super().__init__()\n",
    "        self.odefunc = ODEFunc()\n",
    "    \n",
    "    def forward(self, x):\n",
    "        # x: [batch_size, seq_len, features]\n",
    "        device = x.device\n",
    "        seq_len = x.shape[1]\n",
    "        # Crear t en el dispositivo correcto\n",
    "        t = torch.linspace(0, 1, seq_len, device=device)\n",
    "        # Estado inicial para cada muestra: último valor de la secuencia\n",
    "        # Si features=1, x[:, -1, :] es [batch_size, 1]\n",
    "        y0 = x[:, -1, :]\n",
    "        # Integrar en batch: devuelve [len(t), batch_size, features]\n",
    "        out = odeint(self.odefunc, y0, t, method='rk4')\n",
    "        # Tomar el valor final en t=1 para cada muestra\n",
    "        y_final = out[-1]\n",
    "        return y_final  # forma [batch_size, features]\n",
    "    \n",
    "# 1. Carga el checkpoint completo\n",
    "checkpoint = torch.load(\"Models_neural/modelo_3_dest.pth\", map_location=\"cpu\")\n",
    "\n",
    "# 2. Filtra y renombra solo los pesos de 'backbone'\n",
    "new_state_dict = {}\n",
    "for k, v in checkpoint.items():\n",
    "    if k.startswith(\"backbone.odefunc.\"):\n",
    "        # elimino el prefijo \"backbone.\"\n",
    "        new_key = k.replace(\"backbone.\", \"\")\n",
    "        new_state_dict[new_key] = v\n",
    "\n",
    "\n",
    "# 3. Crea tu modelo y carga con strict=False para ignorar lo que falte\n",
    "ode_model = NeuralODEModel()\n",
    "missing, unexpected = ode_model.load_state_dict(new_state_dict, strict=False)\n",
    "ode_model.eval()\n"
   ]
  },
  {
   "cell_type": "code",
   "execution_count": 27,
   "id": "a4caf3ee",
   "metadata": {},
   "outputs": [
    {
     "name": "stderr",
     "output_type": "stream",
     "text": [
      "c:\\Users\\criju\\.conda\\envs\\ts\\Lib\\site-packages\\keras\\src\\layers\\rnn\\rnn.py:200: UserWarning: Do not pass an `input_shape`/`input_dim` argument to a layer. When using Sequential models, prefer using an `Input(shape)` object as the first layer in the model instead.\n",
      "  super().__init__(**kwargs)\n"
     ]
    },
    {
     "data": {
      "text/html": [
       "<pre style=\"white-space:pre;overflow-x:auto;line-height:normal;font-family:Menlo,'DejaVu Sans Mono',consolas,'Courier New',monospace\"><span style=\"font-weight: bold\">Model: \"student_tor\"</span>\n",
       "</pre>\n"
      ],
      "text/plain": [
       "\u001b[1mModel: \"student_tor\"\u001b[0m\n"
      ]
     },
     "metadata": {},
     "output_type": "display_data"
    },
    {
     "data": {
      "text/html": [
       "<pre style=\"white-space:pre;overflow-x:auto;line-height:normal;font-family:Menlo,'DejaVu Sans Mono',consolas,'Courier New',monospace\">┏━━━━━━━━━━━━━━━━━━━━━━━━━━━━━━━━━┳━━━━━━━━━━━━━━━━━━━━━━━━┳━━━━━━━━━━━━━━━┓\n",
       "┃<span style=\"font-weight: bold\"> Layer (type)                    </span>┃<span style=\"font-weight: bold\"> Output Shape           </span>┃<span style=\"font-weight: bold\">       Param # </span>┃\n",
       "┡━━━━━━━━━━━━━━━━━━━━━━━━━━━━━━━━━╇━━━━━━━━━━━━━━━━━━━━━━━━╇━━━━━━━━━━━━━━━┩\n",
       "│ lstm_layer (<span style=\"color: #0087ff; text-decoration-color: #0087ff\">LSTM</span>)               │ (<span style=\"color: #00d7ff; text-decoration-color: #00d7ff\">None</span>, <span style=\"color: #00af00; text-decoration-color: #00af00\">50</span>)             │        <span style=\"color: #00af00; text-decoration-color: #00af00\">10,400</span> │\n",
       "├─────────────────────────────────┼────────────────────────┼───────────────┤\n",
       "│ clean_output (<span style=\"color: #0087ff; text-decoration-color: #0087ff\">Dense</span>)            │ (<span style=\"color: #00d7ff; text-decoration-color: #00d7ff\">None</span>, <span style=\"color: #00af00; text-decoration-color: #00af00\">1</span>)              │            <span style=\"color: #00af00; text-decoration-color: #00af00\">51</span> │\n",
       "├─────────────────────────────────┼────────────────────────┼───────────────┤\n",
       "│ teacher_output (<span style=\"color: #0087ff; text-decoration-color: #0087ff\">Dense</span>)          │ (<span style=\"color: #00d7ff; text-decoration-color: #00d7ff\">None</span>, <span style=\"color: #00af00; text-decoration-color: #00af00\">1</span>)              │            <span style=\"color: #00af00; text-decoration-color: #00af00\">51</span> │\n",
       "└─────────────────────────────────┴────────────────────────┴───────────────┘\n",
       "</pre>\n"
      ],
      "text/plain": [
       "┏━━━━━━━━━━━━━━━━━━━━━━━━━━━━━━━━━┳━━━━━━━━━━━━━━━━━━━━━━━━┳━━━━━━━━━━━━━━━┓\n",
       "┃\u001b[1m \u001b[0m\u001b[1mLayer (type)                   \u001b[0m\u001b[1m \u001b[0m┃\u001b[1m \u001b[0m\u001b[1mOutput Shape          \u001b[0m\u001b[1m \u001b[0m┃\u001b[1m \u001b[0m\u001b[1m      Param #\u001b[0m\u001b[1m \u001b[0m┃\n",
       "┡━━━━━━━━━━━━━━━━━━━━━━━━━━━━━━━━━╇━━━━━━━━━━━━━━━━━━━━━━━━╇━━━━━━━━━━━━━━━┩\n",
       "│ lstm_layer (\u001b[38;5;33mLSTM\u001b[0m)               │ (\u001b[38;5;45mNone\u001b[0m, \u001b[38;5;34m50\u001b[0m)             │        \u001b[38;5;34m10,400\u001b[0m │\n",
       "├─────────────────────────────────┼────────────────────────┼───────────────┤\n",
       "│ clean_output (\u001b[38;5;33mDense\u001b[0m)            │ (\u001b[38;5;45mNone\u001b[0m, \u001b[38;5;34m1\u001b[0m)              │            \u001b[38;5;34m51\u001b[0m │\n",
       "├─────────────────────────────────┼────────────────────────┼───────────────┤\n",
       "│ teacher_output (\u001b[38;5;33mDense\u001b[0m)          │ (\u001b[38;5;45mNone\u001b[0m, \u001b[38;5;34m1\u001b[0m)              │            \u001b[38;5;34m51\u001b[0m │\n",
       "└─────────────────────────────────┴────────────────────────┴───────────────┘\n"
      ]
     },
     "metadata": {},
     "output_type": "display_data"
    },
    {
     "data": {
      "text/html": [
       "<pre style=\"white-space:pre;overflow-x:auto;line-height:normal;font-family:Menlo,'DejaVu Sans Mono',consolas,'Courier New',monospace\"><span style=\"font-weight: bold\"> Total params: </span><span style=\"color: #00af00; text-decoration-color: #00af00\">10,502</span> (41.02 KB)\n",
       "</pre>\n"
      ],
      "text/plain": [
       "\u001b[1m Total params: \u001b[0m\u001b[38;5;34m10,502\u001b[0m (41.02 KB)\n"
      ]
     },
     "metadata": {},
     "output_type": "display_data"
    },
    {
     "data": {
      "text/html": [
       "<pre style=\"white-space:pre;overflow-x:auto;line-height:normal;font-family:Menlo,'DejaVu Sans Mono',consolas,'Courier New',monospace\"><span style=\"font-weight: bold\"> Trainable params: </span><span style=\"color: #00af00; text-decoration-color: #00af00\">10,502</span> (41.02 KB)\n",
       "</pre>\n"
      ],
      "text/plain": [
       "\u001b[1m Trainable params: \u001b[0m\u001b[38;5;34m10,502\u001b[0m (41.02 KB)\n"
      ]
     },
     "metadata": {},
     "output_type": "display_data"
    },
    {
     "data": {
      "text/html": [
       "<pre style=\"white-space:pre;overflow-x:auto;line-height:normal;font-family:Menlo,'DejaVu Sans Mono',consolas,'Courier New',monospace\"><span style=\"font-weight: bold\"> Non-trainable params: </span><span style=\"color: #00af00; text-decoration-color: #00af00\">0</span> (0.00 B)\n",
       "</pre>\n"
      ],
      "text/plain": [
       "\u001b[1m Non-trainable params: \u001b[0m\u001b[38;5;34m0\u001b[0m (0.00 B)\n"
      ]
     },
     "metadata": {},
     "output_type": "display_data"
    }
   ],
   "source": [
    "import numpy as np\n",
    "import tensorflow as tf\n",
    "from tensorflow.keras import Model\n",
    "from tensorflow.keras.layers import LSTM, Dense\n",
    "\n",
    "@tf.keras.utils.register_keras_serializable(package=\"CustomModels\")\n",
    "class StudentTOR(Model):\n",
    "    def __init__(\n",
    "        self,\n",
    "        window_size: int,\n",
    "        n_features: int,\n",
    "        lstm_units: int,\n",
    "        epsilon: float,\n",
    "        c_tor: float = 1.0,\n",
    "        c_dist: float = 1.0,\n",
    "        **kwargs\n",
    "    ):\n",
    "        super().__init__(**kwargs)\n",
    "        # Guardamos los hiperparámetros para serializar\n",
    "        self.window_size = window_size\n",
    "        self.n_features  = n_features\n",
    "        self.lstm_units  = lstm_units\n",
    "        self.epsilon     = epsilon\n",
    "        self.c_tor       = c_tor\n",
    "        self.c_dist      = c_dist\n",
    "\n",
    "        self.lstm = LSTM(\n",
    "            lstm_units,\n",
    "            input_shape=(window_size, n_features),\n",
    "            name=\"lstm_layer\"\n",
    "        )\n",
    "        self.dense_clean   = Dense(1, name=\"clean_output\")\n",
    "        self.dense_teacher = Dense(1, name=\"teacher_output\")\n",
    "\n",
    "    def call(self, inputs, training=False):\n",
    "        x = self.lstm(inputs)\n",
    "        return self.dense_clean(x), self.dense_teacher(x)\n",
    "\n",
    "    def compute_tor_loss(self, t, r_t_gt, Rs):\n",
    "        err = tf.abs(t - r_t_gt)\n",
    "        clean_loss   = tf.square(Rs - t)\n",
    "        outlier_loss = tf.sqrt(tf.square(Rs - r_t_gt) + 1e-6)\n",
    "        return tf.where(err < self.epsilon, clean_loss, outlier_loss)\n",
    "\n",
    "    def train_step(self, data):\n",
    "        x, y = data\n",
    "        t      = y[:, 0:1]   # etiqueta real\n",
    "        r_t_gt = y[:, 1:2]   # pred teacher\n",
    "\n",
    "        with tf.GradientTape() as tape:\n",
    "            Rs, Rd = self(x, training=True)\n",
    "            L_tor  = tf.reduce_mean(self.compute_tor_loss(t, r_t_gt, Rs))\n",
    "            L_dist = tf.reduce_mean(tf.abs(Rd - r_t_gt))\n",
    "            loss   = self.c_tor * L_tor + self.c_dist * L_dist\n",
    "\n",
    "        grads = tape.gradient(loss, self.trainable_variables)\n",
    "        self.optimizer.apply_gradients(zip(grads, self.trainable_variables))\n",
    "        self.compiled_metrics.update_state(t, Rs)\n",
    "        return {\n",
    "            \"loss\": loss,\n",
    "            \"tor_loss\": L_tor,\n",
    "            \"distill_loss\": L_dist,\n",
    "            **{m.name: m.result() for m in self.metrics}\n",
    "        }\n",
    "\n",
    "    def test_step(self, data):\n",
    "        x, y = data\n",
    "        t      = y[:, 0:1]\n",
    "        r_t_gt = y[:, 1:2]\n",
    "        Rs, Rd = self(x, training=False)\n",
    "\n",
    "        L_tor  = tf.reduce_mean(self.compute_tor_loss(t, r_t_gt, Rs))\n",
    "        L_dist = tf.reduce_mean(tf.abs(Rd - r_t_gt))\n",
    "        loss   = self.c_tor * L_tor + self.c_dist * L_dist\n",
    "\n",
    "        self.compiled_metrics.update_state(t, Rs)\n",
    "        return {\n",
    "            \"loss\": loss,\n",
    "            \"tor_loss\": L_tor,\n",
    "            \"distill_loss\": L_dist,\n",
    "            **{m.name: m.result() for m in self.metrics}\n",
    "        }\n",
    "\n",
    "    def get_config(self):\n",
    "        # Devuelve todo lo necesario para reconstruir la instancia\n",
    "        base_config = super().get_config()\n",
    "        return {\n",
    "            **base_config,\n",
    "            \"window_size\": self.window_size,\n",
    "            \"n_features\":  self.n_features,\n",
    "            \"lstm_units\":  self.lstm_units,\n",
    "            \"epsilon\":     self.epsilon,\n",
    "            \"c_tor\":       self.c_tor,\n",
    "            \"c_dist\":      self.c_dist,\n",
    "        }\n",
    "\n",
    "    @classmethod\n",
    "    def from_config(cls, config):\n",
    "        # Separar kwargs de Model (si los hubiera)\n",
    "        return cls(\n",
    "            window_size=config.pop(\"window_size\"),\n",
    "            n_features=config.pop(\"n_features\"),\n",
    "            lstm_units=config.pop(\"lstm_units\"),\n",
    "            epsilon=config.pop(\"epsilon\"),\n",
    "            c_tor=config.pop(\"c_tor\"),\n",
    "            c_dist=config.pop(\"c_dist\"),\n",
    "            **config\n",
    "        )\n",
    "\n",
    "lstm_model = tf.keras.models.load_model(\n",
    "    \"Models_lstm/lstm_healthcare_model_3_destilation.keras\",\n",
    "    compile=False\n",
    ")\n",
    "lstm_model.summary()"
   ]
  },
  {
   "cell_type": "markdown",
   "id": "e29d4b16-d8bb-43fc-859e-a13c5b097cb7",
   "metadata": {},
   "source": [
    "## Resultados modelo neuralODE sobre test"
   ]
  },
  {
   "cell_type": "code",
   "execution_count": 34,
   "id": "36ee5a12",
   "metadata": {},
   "outputs": [
    {
     "name": "stdout",
     "output_type": "stream",
     "text": [
      "MAE: 52.43295911965721\n",
      "MSE: 13662.251021643615\n",
      "SMAPE: 67.07636250761472\n"
     ]
    }
   ],
   "source": [
    "ode_model.eval()\n",
    "pred = ode_model(torch.tensor(X, dtype=torch.float32))\n",
    "# Rd_pred es tu salida distill, compárala con y_val:\n",
    "from sklearn.metrics import mean_squared_error\n",
    "mse = mean_squared_error(y, pred.cpu().detach().numpy())\n",
    "mae = mean_absolute_error(y, pred.cpu().detach().numpy())\n",
    "smape_val = smape(y, pred.cpu().detach().numpy())\n",
    "\n",
    "print(\"MAE:\", mae)\n",
    "print(\"MSE:\", mse)\n",
    "print(\"SMAPE:\", smape_val)"
   ]
  },
  {
   "cell_type": "markdown",
   "id": "d3fd924c-c1cd-400d-aa45-771f0d0cc422",
   "metadata": {},
   "source": [
    "## Resultados modelo LSTM sobre test"
   ]
  },
  {
   "cell_type": "code",
   "execution_count": 29,
   "id": "0a0d464d",
   "metadata": {},
   "outputs": [
    {
     "name": "stdout",
     "output_type": "stream",
     "text": [
      "\u001b[1m35/35\u001b[0m \u001b[32m━━━━━━━━━━━━━━━━━━━━\u001b[0m\u001b[37m\u001b[0m \u001b[1m0s\u001b[0m 6ms/step\n",
      "MAE: 261.9834539555983\n",
      "MSE: 251683.1183891016\n",
      "SMAPE: 77.5627587205362\n"
     ]
    }
   ],
   "source": [
    "Rs_output, Rd_output = lstm_model.predict(X)\n",
    "\n",
    "#Resultados de modelos teacher sobre el conjunto de validación \n",
    "mae = mean_absolute_error(y, Rd_output)\n",
    "mse = mean_squared_error(y, Rd_output)\n",
    "smape_val = smape(y, Rd_output)\n",
    "\n",
    "print(\"MAE:\", mae)\n",
    "print(\"MSE:\", mse)\n",
    "print(\"SMAPE:\", smape_val)"
   ]
  },
  {
   "cell_type": "markdown",
   "id": "ae6bba7d",
   "metadata": {},
   "source": [
    "## Resultados modelo timesMOE sobre test"
   ]
  },
  {
   "cell_type": "code",
   "execution_count": 30,
   "id": "2b09deca",
   "metadata": {},
   "outputs": [
    {
     "name": "stderr",
     "output_type": "stream",
     "text": [
      "C:\\Users\\criju\\AppData\\Roaming\\Python\\Python311\\site-packages\\huggingface_hub\\file_download.py:943: FutureWarning: `resume_download` is deprecated and will be removed in version 1.0.0. Downloads always resume when possible. If you want to force a new download, use `force_download=True`.\n",
      "  warnings.warn(\n"
     ]
    }
   ],
   "source": [
    "# Modelo teacher\n",
    "# Teacher prediction using Time-MoE\n",
    "from transformers import AutoModelForCausalLM\n",
    "\n",
    "model = AutoModelForCausalLM.from_pretrained(\n",
    "    'Maple728/TimeMoE-50M',\n",
    "    device_map=\"cpu\",  # use \"cpu\" for CPU inference, and \"cuda\" for GPU inference.\n",
    "    trust_remote_code=True,\n",
    ")\n",
    "\n",
    "# Convertir las ventanas a tensores para el modelo Time-MoE\n",
    "import torch\n",
    "import numpy as np    \n",
    "\n",
    "train_predict_teacher = []\n",
    "for arr in X:                   \n",
    "    t = torch.from_numpy(arr.reshape(1, 15)).float()  \n",
    "    mean = t.mean(dim=-1, keepdim=True)   # (1,1)\n",
    "    std  = t.std(dim=-1, keepdim=True)    # (1,1)\n",
    "    std = std.clamp(min=1e-6) # Evitar división por cero\n",
    "    normed_seq = (t - mean) / std         # (1,15)\n",
    "    output = model.generate(normed_seq, max_new_tokens=1)  \n",
    "    normed_pred = output[:, -1:]            # (1,1)\n",
    "    pred = normed_pred * std + mean         # (1,1)\n",
    "    train_predict_teacher.append(pred.item())"
   ]
  },
  {
   "cell_type": "code",
   "execution_count": 31,
   "id": "3d657347",
   "metadata": {},
   "outputs": [],
   "source": [
    "#pred_t = np.vstack([t.cpu().numpy().reshape(-1,1) for t in train_predict_teacher])\n",
    "pred_t = train_predict_teacher"
   ]
  },
  {
   "cell_type": "code",
   "execution_count": 32,
   "id": "31ee1768",
   "metadata": {},
   "outputs": [
    {
     "name": "stdout",
     "output_type": "stream",
     "text": [
      "MAE: 52.6560321574499\n",
      "MSE: 13234.54632603063\n",
      "SMAPE: 17.427596961401246\n"
     ]
    }
   ],
   "source": [
    "#Resultados de modelos teacher sobre el conjunto de validación \n",
    "mae = mean_absolute_error(y, pred_t)\n",
    "mse = mean_squared_error(y, pred_t)\n",
    "smape_val = smape(y, pred_t)\n",
    "\n",
    "print(\"MAE:\", mae)\n",
    "print(\"MSE:\", mse)\n",
    "print(\"SMAPE:\", smape_val)"
   ]
  },
  {
   "cell_type": "code",
   "execution_count": 41,
   "id": "bf9218bf",
   "metadata": {},
   "outputs": [
    {
     "data": {
      "image/png": "[encoded data removed]",
      "text/plain": [
       "<Figure size 640x480 with 1 Axes>"
      ]
     },
     "metadata": {},
     "output_type": "display_data"
    }
   ],
   "source": [
    "# Graficas de comparación\n",
    "import random\n",
    "import matplotlib.pyplot as plt\n",
    "\n",
    "# Tus listas originales:\n",
    "# y_val, r_t_val, Rd_output\n",
    "\n",
    "# Asegúrate de que todas tengan la misma longitud n ≥ 20\n",
    "n = len(y)\n",
    "\n",
    "# Elige un índice de inicio aleatorio tal que haya espacio para 20 puntos\n",
    "inicio = random.randint(0, n - 20)\n",
    "fin = inicio + 20\n",
    "\n",
    "# Crea un eje X con los índices reales para ese intervalo\n",
    "x = list(range(inicio, fin))\n",
    "\n",
    "# Extrae los subrangos de cada serie\n",
    "y_segmento     = y[inicio:fin]\n",
    "teacher_segmento = pred_t[inicio:fin]\n",
    "destilado_lstm =  Rd_output[inicio:fin]\n",
    "destulado_neural =  pred.cpu().detach().numpy()[inicio:fin]\n",
    "\n",
    "# Grafica solo el intervalo seleccionado\n",
    "plt.figure()\n",
    "plt.plot(x, y_segmento,         label='real')\n",
    "plt.plot(x, teacher_segmento,   label='teacher')\n",
    "plt.plot(x, destilado_lstm, label='lstm_d')\n",
    "plt.plot(x, destulado_neural, label='neural_d')\n",
    "\n",
    "plt.xlabel('Índice')\n",
    "plt.ylabel('Valor')\n",
    "plt.title(f'Intervalo aleatorio de índices {inicio}–{fin-1}')\n",
    "plt.legend()\n",
    "plt.tight_layout()\n",
    "plt.show()\n"
   ]
  },
  {
   "cell_type": "markdown",
   "id": "fc6abc6f",
   "metadata": {},
   "source": [
    "### Colombia"
   ]
  },
  {
   "cell_type": "code",
   "execution_count": 40,
   "id": "6d2257c9",
   "metadata": {},
   "outputs": [
    {
     "name": "stdout",
     "output_type": "stream",
     "text": [
      "De 1404 muestras, quedan 1404 sin NaN\n"
     ]
    }
   ],
   "source": [
    "data = load_data('serie_completa.csv')\n",
    "serie= data['Frecuencia'].values\n",
    "X, y  = create_windows_2(serie)"
   ]
  },
  {
   "cell_type": "code",
   "execution_count": 41,
   "id": "3f5da812",
   "metadata": {},
   "outputs": [
    {
     "name": "stdout",
     "output_type": "stream",
     "text": [
      "MAE: 496.1793212890625\n",
      "MSE: 1127681.625\n",
      "SMAPE: 67.01675281368486\n"
     ]
    }
   ],
   "source": [
    "# Neural ODE Model\n",
    "\n",
    "\n",
    "ode_model.eval()\n",
    "pred = ode_model(torch.tensor(X, dtype=torch.float32))\n",
    "# Rd_pred es tu salida distill, compárala con y_val:\n",
    "from sklearn.metrics import mean_squared_error\n",
    "mse = mean_squared_error(y, pred.cpu().detach().numpy())\n",
    "mae = mean_absolute_error(y, pred.cpu().detach().numpy())\n",
    "smape_val = smape(y, pred.cpu().detach().numpy())\n",
    "\n",
    "print(\"MAE:\", mae)\n",
    "print(\"MSE:\", mse)\n",
    "print(\"SMAPE:\", smape_val)"
   ]
  },
  {
   "cell_type": "code",
   "execution_count": 42,
   "id": "034870e8",
   "metadata": {},
   "outputs": [
    {
     "name": "stdout",
     "output_type": "stream",
     "text": [
      "\u001b[1m44/44\u001b[0m \u001b[32m━━━━━━━━━━━━━━━━━━━━\u001b[0m\u001b[37m\u001b[0m \u001b[1m0s\u001b[0m 4ms/step\n",
      "MAE: 4187.7734375\n",
      "MSE: 57807716.0\n",
      "SMAPE: 95.5458926452555\n"
     ]
    }
   ],
   "source": [
    "# LSTM Model\n",
    "Rs_output, Rd_output = lstm_model.predict(X)\n",
    "\n",
    "#Resultados de modelos teacher sobre el conjunto de validación \n",
    "mae = mean_absolute_error(y, Rd_output)\n",
    "mse = mean_squared_error(y, Rd_output)\n",
    "smape_val = smape(y, Rd_output)\n",
    "\n",
    "print(\"MAE:\", mae)\n",
    "print(\"MSE:\", mse)\n",
    "print(\"SMAPE:\", smape_val)\n"
   ]
  },
  {
   "cell_type": "code",
   "execution_count": 43,
   "id": "37420810",
   "metadata": {},
   "outputs": [],
   "source": [
    "# Teacher prediction using Time-MoE\n",
    "\n",
    "# Convertir las ventanas a tensores para el modelo Time-MoE\n",
    "import torch\n",
    "import numpy as np    \n",
    "\n",
    "tensors = []\n",
    "for arr in X:                   \n",
    "    t = torch.from_numpy(arr.reshape(1, 15)).float()  \n",
    "    tensors.append(t)\n",
    "\n",
    "train_predict_teacher = []\n",
    "for i in range(len(tensors)):\n",
    "    output = model.generate(tensors[i], max_new_tokens=1)  # shape is [batch_size, 12 + 6]\n",
    "    normed_predictions = output[:, -1:]  \n",
    "    train_predict_teacher.append(normed_predictions)\n",
    "\n",
    "pred_t = np.vstack([t.cpu().numpy().reshape(-1,1) for t in train_predict_teacher])"
   ]
  },
  {
   "cell_type": "code",
   "execution_count": 44,
   "id": "56bf67ec",
   "metadata": {},
   "outputs": [
    {
     "name": "stdout",
     "output_type": "stream",
     "text": [
      "MAE: 4186.66162109375\n",
      "MSE: 57833512.0\n",
      "SMAPE: 95.07393782492657\n"
     ]
    }
   ],
   "source": [
    "#Resultados de modelos teacher sobre el conjunto de validación \n",
    "mae = mean_absolute_error(y, pred_t)\n",
    "mse = mean_squared_error(y, pred_t)\n",
    "smape_val = smape(y, pred_t)\n",
    "\n",
    "print(\"MAE:\", mae)\n",
    "print(\"MSE:\", mse)\n",
    "print(\"SMAPE:\", smape_val)"
   ]
  },
  {
   "cell_type": "code",
   "execution_count": null,
   "id": "1613d90a",
   "metadata": {},
   "outputs": [
    {
     "data": {
      "image/png": "[encoded data removed]",
      "text/plain": [
       "<Figure size 640x480 with 1 Axes>"
      ]
     },
     "metadata": {},
     "output_type": "display_data"
    }
   ],
   "source": [
    "import random\n",
    "import matplotlib.pyplot as plt\n",
    "\n",
    "# Tus listas originales:\n",
    "# y_val, r_t_val, Rd_output\n",
    "\n",
    "# Asegúrate de que todas tengan la misma longitud n ≥ 20\n",
    "n = len(y)\n",
    "\n",
    "# Elige un índice de inicio aleatorio tal que haya espacio para 20 puntos\n",
    "inicio = random.randint(0, n - 20)\n",
    "fin = inicio + 20\n",
    "\n",
    "# Crea un eje X con los índices reales para ese intervalo\n",
    "x = list(range(inicio, fin))\n",
    "\n",
    "# Extrae los subrangos de cada serie\n",
    "y_segmento = y[inicio:fin]\n",
    "teacher_segmento = pred_t[inicio:fin]\n",
    "destilado_lstm =  Rd_output[inicio:fin]\n",
    "destulado_neural =  pred.cpu().detach().numpy()[inicio:fin]\n",
    "\n",
    "# Grafica solo el intervalo seleccionado\n",
    "plt.figure()\n",
    "plt.plot(x, y_segmento,         label='real')\n",
    "plt.plot(x, teacher_segmento,   label='teacher')\n",
    "plt.plot(x, destilado_lstm, label='lstm_d')\n",
    "plt.plot(x, destulado_neural, label='neural_d')\n",
    "\n",
    "plt.xlabel('Índice')\n",
    "plt.ylabel('Valor')\n",
    "plt.title(f'Intervalo aleatorio de índices {inicio}–{fin-1}')\n",
    "plt.legend()\n",
    "plt.tight_layout()\n",
    "plt.show()\n"
   ]
  },
  {
   "cell_type": "markdown",
   "id": "00b02856",
   "metadata": {},
   "source": [
    "### Prueba con otros dataset"
   ]
  }
 ],
 "metadata": {
  "kernelspec": {
   "display_name": "Python 3 (ipykernel)",
   "language": "python",
   "name": "python3"
  },
  "language_info": {
   "codemirror_mode": {
    "name": "ipython",
    "version": 3
   },
   "file_extension": ".py",
   "mimetype": "text/x-python",
   "name": "python",
   "nbconvert_exporter": "python",
   "pygments_lexer": "ipython3",
   "version": "3.12.3"
  }
 },
 "nbformat": 4,
 "nbformat_minor": 5
}
